{
 "cells": [
  {
   "cell_type": "markdown",
   "metadata": {},
   "source": [
    "<table align=\"left\">\n",
    "  <td>\n",
    "    <a href=\"https://colab.research.google.com/github/marco-canas/extension/blob/main/taller_maestros_puerto_libertador/desarrollo_pensamiento_computacional.ipynb\" target=\"_parent\"><img src=\"https://colab.research.google.com/assets/colab-badge.svg\" alt=\"Open In Colab\"/></a>\n",
    "  </td>\n",
    "</table>"
   ]
  },
  {
   "cell_type": "markdown",
   "metadata": {},
   "source": [
    "### [Video de apoyo]() "
   ]
  },
  {
   "cell_type": "markdown",
   "metadata": {},
   "source": [
    "# Taller sobre desarollo del pensamiento computacional en primaria y secundaria"
   ]
  },
  {
   "cell_type": "markdown",
   "metadata": {},
   "source": [
    "Un taller práctico de tres horas para la formación de maestros de primaria y secundaria en Montería, Colombia, sobre cómo desarrollar el pensamiento computacional en sus estudiantes podría estructurarse de la siguiente manera:\n"
   ]
  },
  {
   "cell_type": "markdown",
   "metadata": {},
   "source": [
    "\n",
    "**Título del Taller:** Introducción al Desarrollo del Pensamiento Computacional en Primaria y Secundaria\n"
   ]
  },
  {
   "cell_type": "markdown",
   "metadata": {},
   "source": [
    "\n",
    "**Duración Total:** 3 horas\n",
    "\n",
    "**Objetivos:**\n",
    "- Comprender el concepto de pensamiento computacional y su importancia en la educación.\n",
    "- Explorar estrategias y actividades para fomentar el pensamiento computacional en estudiantes de primaria y secundaria.\n",
    "- Adquirir recursos y herramientas prácticas para implementar en el aula.\n"
   ]
  },
  {
   "cell_type": "markdown",
   "metadata": {},
   "source": [
    "\n",
    "**Estructura del Taller:**\n",
    "\n",
    "**I. Bienvenida y Presentación (15 minutos)**\n",
    "   - Registro de participantes. (Reconocoimiento al trabajo de Gecelca y de los maestros de Puerto Libertador por la educción en este municipio)\n",
    "   - Breve introducción al pensamiento computacional y su relevancia en la educación actual.\n",
    "   - Presentación del programa y los objetivos del taller.\n"
   ]
  },
  {
   "cell_type": "markdown",
   "metadata": {},
   "source": [
    "\n",
    "**II. Fundamentos del Pensamiento Computacional (30 minutos)**\n",
    "   - Definición y componentes del pensamiento computacional.\n",
    "   - Ejemplos de cómo el pensamiento computacional se aplica en la vida cotidiana.\n",
    "   - Discusión sobre por qué es importante enseñarlo a los estudiantes de primaria y secundaria.\n"
   ]
  },
  {
   "cell_type": "markdown",
   "metadata": {},
   "source": [
    "\n",
    "**III. Actividades Prácticas para Primaria (45 minutos)**\n",
    "   - Presentación de ejercicios y actividades prácticas diseñadas para estudiantes de primaria.\n",
    "   - Los participantes trabajan en grupos pequeños para completar una actividad.\n",
    "   - Compartir resultados y discutir la importancia de cada actividad en el desarrollo del pensamiento computacional.\n"
   ]
  },
  {
   "cell_type": "markdown",
   "metadata": {},
   "source": [
    "\n",
    "**IV. Actividades Prácticas para Secundaria (45 minutos)**\n",
    "   - Presentación de ejercicios y actividades prácticas diseñadas para estudiantes de secundaria.\n",
    "   - Los participantes trabajan en grupos pequeños para completar una actividad.\n",
    "   - Compartir resultados y discutir la importancia de cada actividad en el desarrollo del pensamiento computacional.\n"
   ]
  },
  {
   "cell_type": "markdown",
   "metadata": {},
   "source": [
    "\n",
    "**V. Recursos y Herramientas para el Aula (20 minutos)**\n",
    "   - Introducción a herramientas y recursos disponibles para ayudar a los maestros a enseñar el pensamiento computacional.\n",
    "   - Recomendaciones de libros, sitios web y aplicaciones educativas.\n",
    "   - Preguntas y respuestas.\n",
    "\n",
    "**VI. Planificación para la Implementación (15 minutos)**\n",
    "   - Discusión sobre cómo integrar actividades de pensamiento computacional en el plan de estudios existente.\n",
    "   - Brainstorming de ideas para proyectos o lecciones futuras.\n",
    "   \n",
    "**VII. Cierre y Evaluación (10 minutos)**\n",
    "   - Resumen de los puntos clave del taller.\n",
    "   - Distribución de encuestas de evaluación para recibir retroalimentación de los participantes.\n",
    "   \n",
    "**VIII. Networking y Sesión de Preguntas (20 minutos)**\n",
    "   - Oportunidad para que los maestros interactúen, compartan experiencias y hagan preguntas adicionales.\n",
    "   \n",
    "**IX. Entrega de Certificados (10 minutos)**\n",
    "   - Entrega de certificados de participación.\n",
    "\n",
    "Este taller proporcionará a los maestros las bases necesarias para incorporar el pensamiento computacional en su enseñanza y brindará herramientas prácticas para comenzar a implementarlo en el aula. Además, fomentará la colaboración y el intercambio de ideas entre los participantes, lo que puede ser invaluable para el éxito de la enseñanza del pensamiento computacional en Montería, Colombia."
   ]
  },
  {
   "cell_type": "markdown",
   "metadata": {},
   "source": [
    "# Desarrollo del taller\n"
   ]
  },
  {
   "cell_type": "markdown",
   "metadata": {},
   "source": [
    "\n",
    "**I. Bienvenida y Presentación (15 minutos)**\n",
    "   - Registro de participantes.\n",
    "   - Breve introducción al pensamiento computacional y su relevancia en la educación actual.\n",
    "   - Presentación del programa y los objetivos del taller.\n",
    "\n",
    "Pero hay una alternativa, ya tenida en cuenta (Papert, 1980) que enlaza con corrientes clásicas del aprendizaje apoyado en la tecnología. Nos referimos al construccionismo.\n",
    "\n",
    "\n",
    "\n"
   ]
  },
  {
   "cell_type": "markdown",
   "metadata": {},
   "source": [
    "La sociedad y la economía demandan profesionales cualificados en las industrias tecnológicas. Se da la paradoja de países con un alto índice de paro en las que actualmente se quedan sin cubrir puestos de trabajo de ingenieros y técnicos de industrias y servicios digitales. Esto ha sensibilizado a gestores e instituciones a abordar el problema desde el punto de vista de la formación. Se trata de una nueva alfabetización, la alfabetización digital, y que como tal hay que comenzar desde las primeras etapas del desarrollo individual, al igual como sucede con otras habilidades clave: la lectura, la escritura y las habilidades matemáticas."
   ]
  },
  {
   "cell_type": "markdown",
   "metadata": {},
   "source": [
    "**III. Actividades Prácticas para Primaria (45 minutos)**\n",
    "   - Presentación de ejercicios y actividades prácticas diseñadas para estudiantes de primaria.\n",
    "   - Los participantes trabajan en grupos pequeños para completar una actividad.\n",
    "   - Compartir resultados y discutir la importancia de cada actividad en el desarrollo del pensamiento computacional."
   ]
  },
  {
   "cell_type": "markdown",
   "metadata": {},
   "source": [
    "Una actividad apropiada para mostrar a los profesores de primaria cómo desarrollar el pensamiento computacional en los estudiantes es la siguiente:\n",
    "\n",
    "**Nombre de la actividad:** \"Secuencia de Instrucciones\"\n",
    "\n",
    "**Objetivo:** Introducir a los estudiantes al pensamiento lógico y la secuencia de instrucciones, que son conceptos fundamentales en la programación y el pensamiento computacional.\n",
    "\n",
    "**Materiales necesarios:** Tarjetas con flechas (izquierda, derecha, arriba, abajo), un tablero grande o espacio en el suelo, y estudiantes entusiastas.\n",
    "\n",
    "**Pasos de la actividad:**\n",
    "\n",
    "1. **Explicación introductoria:** Comienza la actividad explicando a los profesores que el pensamiento computacional se trata de resolver problemas de manera lógica y estructurada, como si estuvieran dando instrucciones a una computadora.\n",
    "\n",
    "2. **Instrucciones básicas:** Muestra las tarjetas con flechas y explícales que estas tarjetas representan instrucciones básicas que se pueden dar a una \"computadora humana\".\n",
    "\n",
    "3. **Dibuja un tablero:** En el suelo o en un tablero grande, crea un espacio donde puedas dibujar un camino o laberinto simple con cuadros. Este será el espacio donde los estudiantes \"programarán\" a un compañero para moverse de un punto de inicio a un punto final.\n",
    "\n",
    "4. **Ejemplo práctico:** Pide a uno de los profesores que actúe como la \"computadora\" y colócala en un punto de inicio en el tablero. Luego, toma una de las tarjetas con flechas y pídeles a los demás profesores que trabajen juntos para decidir qué instrucción darle al \"computadora\" para llegar al punto final del tablero.\n",
    "\n",
    "5. **Programación en equipo:** Divídelos en grupos pequeños y proporciona a cada grupo tarjetas con flechas y un espacio en el tablero. Cada grupo debe colaborar para programar una secuencia de instrucciones que permita a uno de ellos llegar al punto final siguiendo el camino correcto.\n",
    "\n",
    "6. **Debriefing:** Después de que los grupos completen sus programas y el \"computadora\" siga las instrucciones, reúne a todos y discutan los desafíos que enfrentaron y las estrategias que utilizaron para resolverlos. Destaca cómo la planificación y la secuencia de instrucciones son cruciales en la programación y cómo esto se relaciona con el pensamiento computacional.\n",
    "\n",
    "7. **Extensiones:** Puedes hacer que la actividad sea más desafiante introduciendo obstáculos en el camino, permitiendo que los estudiantes creen programas más largos y complejos, o incluso incorporando conceptos como bucles (repetición de instrucciones).\n",
    "\n",
    "Esta actividad práctica les mostrará a los profesores cómo pueden enseñar a los estudiantes los conceptos fundamentales del pensamiento computacional de una manera divertida y accesible, fomentando el pensamiento lógico y la resolución de problemas."
   ]
  },
  {
   "cell_type": "markdown",
   "metadata": {},
   "source": [
    "**IV. Actividades Prácticas para Secundaria (45 minutos)**\n",
    "   - Presentación de ejercicios y actividades prácticas diseñadas para estudiantes de secundaria.\n",
    "   - Los participantes trabajan en grupos pequeños para completar una actividad.\n",
    "   - Compartir resultados y discutir la importancia de cada actividad en el desarrollo del pensamiento computacional.\n"
   ]
  },
  {
   "cell_type": "code",
   "execution_count": null,
   "metadata": {},
   "outputs": [],
   "source": []
  },
  {
   "cell_type": "markdown",
   "metadata": {},
   "source": [
    "## Referentes\n",
    "\n",
    "* [Los Derechao Básicos de Aprendizaje:](https://github.com/marco-canas/seminario_didactica_aritmetica/blob/main/referentes/3_DBA_Matematicas.pdf) \n",
    "\n",
    "* [Zapata-Ros, M. (2015). Pensamiento computacional: Una nueva alfabetización digital. Revista de Educación a Distancia (RED), (46).](https://revistas.um.es/red/article/view/240321) \n",
    "\n",
    "* [Revista de educación a distancia](https://www.um.es/ead/red/46/)\n",
    "\n",
    "\n"
   ]
  },
  {
   "cell_type": "code",
   "execution_count": null,
   "metadata": {},
   "outputs": [],
   "source": []
  },
  {
   "cell_type": "code",
   "execution_count": null,
   "metadata": {},
   "outputs": [],
   "source": []
  },
  {
   "cell_type": "code",
   "execution_count": null,
   "metadata": {},
   "outputs": [],
   "source": []
  },
  {
   "cell_type": "code",
   "execution_count": null,
   "metadata": {},
   "outputs": [],
   "source": []
  },
  {
   "cell_type": "code",
   "execution_count": null,
   "metadata": {},
   "outputs": [],
   "source": []
  },
  {
   "cell_type": "code",
   "execution_count": null,
   "metadata": {},
   "outputs": [],
   "source": []
  },
  {
   "cell_type": "code",
   "execution_count": null,
   "metadata": {},
   "outputs": [],
   "source": []
  },
  {
   "cell_type": "markdown",
   "metadata": {},
   "source": []
  }
 ],
 "metadata": {
  "language_info": {
   "name": "python"
  },
  "orig_nbformat": 4
 },
 "nbformat": 4,
 "nbformat_minor": 2
}
