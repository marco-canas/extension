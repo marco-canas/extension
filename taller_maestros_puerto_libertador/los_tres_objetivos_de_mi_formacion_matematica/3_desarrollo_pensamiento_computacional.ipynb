{
 "cells": [
  {
   "cell_type": "markdown",
   "metadata": {},
   "source": [
    "<table align=\"left\">\n",
    "  <td>\n",
    "    <a href=\"https://colab.research.google.com/github/marco-canas/extension/blob/main/taller_maestros_puerto_libertador/desarrollo_pensamiento_computacional.ipynb\" target=\"_parent\"><img src=\"https://colab.research.google.com/assets/colab-badge.svg\" alt=\"Open In Colab\"/></a>\n",
    "  </td>\n",
    "</table>"
   ]
  },
  {
   "cell_type": "markdown",
   "metadata": {},
   "source": [
    "### [Video de apoyo]() "
   ]
  },
  {
   "cell_type": "markdown",
   "metadata": {},
   "source": [
    "# Taller sobre desarollo del pensamiento computacional en primaria y secundaria"
   ]
  },
  {
   "cell_type": "markdown",
   "metadata": {},
   "source": [
    "Un taller práctico de tres horas para la formación de maestros de primaria y secundaria en Montería, Colombia, sobre cómo desarrollar el pensamiento computacional en sus estudiantes podría estructurarse de la siguiente manera:\n"
   ]
  },
  {
   "cell_type": "markdown",
   "metadata": {},
   "source": [
    "\n",
    "**Título del Taller:** Introducción al Desarrollo del Pensamiento Computacional en Primaria y Secundaria\n"
   ]
  },
  {
   "cell_type": "markdown",
   "metadata": {},
   "source": [
    "\n",
    "**Duración Total:** 3 horas\n",
    "\n",
    "**Objetivos:**\n",
    "- Comprender el concepto de pensamiento computacional y su importancia en la educación.\n",
    "- Explorar estrategias y actividades para fomentar el pensamiento computacional en estudiantes de primaria y secundaria.\n",
    "- Adquirir recursos y herramientas prácticas para implementar en el aula.\n"
   ]
  },
  {
   "cell_type": "markdown",
   "metadata": {},
   "source": [
    "\n",
    "**Estructura del Taller:**\n",
    "\n",
    "**I. Bienvenida y Presentación (15 minutos)**\n",
    "   - Registro de participantes.\n",
    "   - Breve introducción al pensamiento computacional y su relevancia en la educación actual.\n",
    "   - Presentación del programa y los objetivos del taller.\n",
    "\n",
    "**II. Fundamentos del Pensamiento Computacional (30 minutos)**\n",
    "   - Definición y componentes del pensamiento computacional.\n",
    "   - Ejemplos de cómo el pensamiento computacional se aplica en la vida cotidiana.\n",
    "   - Discusión sobre por qué es importante enseñarlo a los estudiantes de primaria y secundaria.\n",
    "\n",
    "**III. Actividades Prácticas para Primaria (45 minutos)**\n",
    "   - Presentación de ejercicios y actividades prácticas diseñadas para estudiantes de primaria.\n",
    "   - Los participantes trabajan en grupos pequeños para completar una actividad.\n",
    "   - Compartir resultados y discutir la importancia de cada actividad en el desarrollo del pensamiento computacional.\n",
    "\n",
    "**IV. Actividades Prácticas para Secundaria (45 minutos)**\n",
    "   - Presentación de ejercicios y actividades prácticas diseñadas para estudiantes de secundaria.\n",
    "   - Los participantes trabajan en grupos pequeños para completar una actividad.\n",
    "   - Compartir resultados y discutir la importancia de cada actividad en el desarrollo del pensamiento computacional.\n",
    "\n",
    "**V. Recursos y Herramientas para el Aula (20 minutos)**\n",
    "   - Introducción a herramientas y recursos disponibles para ayudar a los maestros a enseñar el pensamiento computacional.\n",
    "   - Recomendaciones de libros, sitios web y aplicaciones educativas.\n",
    "   - Preguntas y respuestas.\n",
    "\n",
    "**VI. Planificación para la Implementación (15 minutos)**\n",
    "   - Discusión sobre cómo integrar actividades de pensamiento computacional en el plan de estudios existente.\n",
    "   - Brainstorming de ideas para proyectos o lecciones futuras.\n",
    "   \n",
    "**VII. Cierre y Evaluación (10 minutos)**\n",
    "   - Resumen de los puntos clave del taller.\n",
    "   - Distribución de encuestas de evaluación para recibir retroalimentación de los participantes.\n",
    "   \n",
    "**VIII. Networking y Sesión de Preguntas (20 minutos)**\n",
    "   - Oportunidad para que los maestros interactúen, compartan experiencias y hagan preguntas adicionales.\n",
    "   \n",
    "**IX. Entrega de Certificados (10 minutos)**\n",
    "   - Entrega de certificados de participación.\n",
    "\n",
    "Este taller proporcionará a los maestros las bases necesarias para incorporar el pensamiento computacional en su enseñanza y brindará herramientas prácticas para comenzar a implementarlo en el aula. Además, fomentará la colaboración y el intercambio de ideas entre los participantes, lo que puede ser invaluable para el éxito de la enseñanza del pensamiento computacional en Montería, Colombia."
   ]
  },
  {
   "cell_type": "markdown",
   "metadata": {},
   "source": [
    "# Desarrollo del taller\n",
    "\n",
    "**I. Bienvenida y Presentación (15 minutos)**\n",
    "   - Registro de participantes.\n",
    "   - Breve introducción al pensamiento computacional y su relevancia en la educación actual.\n",
    "   - Presentación del programa y los objetivos del taller.\n",
    "\n",
    "Pero hay una alternativa, ya tenida en cuenta (Papert, 1980) que enlaza con corrientes\n",
    "clásicas del aprendizaje apoyado en la tecnología. Nos referimos al construccionismo.\n",
    "Esta alternativa está sostenida por algunos autores, inspira a profesores y grupos\n",
    "Pensamiento computacional: Una nueva alfabetización digital\n",
    "Miguel Zapata-Ros\n",
    "Pág. 2 de 47RED. Revista de Educación a Distancia. Núm. 46\n",
    "15-Sep-2015 http://www.um.es/ead/red/46\n",
    "innovadores en la puesta en marcha de actividades y en algunos pocos casos a\n",
    "corporaciones que, frecuentemente de forma aislada, nos planteamos la cuestión de otro\n",
    "modo: Las competencias que se muestran como más eficaces en la codificación son\n",
    "la parte más visible de una forma de pensar que es útil no sólo en ese ámbito de\n",
    "actividades cognitivas, las que se utilizan en el desarrollo y en la creación de programas\n",
    "y de sistemas informáticos. En definitiva sostienen que hay una forma específica de\n",
    "pensar, de organizar ideas y representaciones, que es propicia y que favorece las\n",
    "competencias computacionales. Se trata de una forma de pensar que propicia el análisis\n",
    "y la relación de ideas para la organización y la representación lógica de procedimientos.\n",
    "Esas habilidades se ven favorecidas con ciertas actividades y con ciertos entornos\n",
    "de aprendizaje desde las primeras etapas. Se trata del desarrollo de un\n",
    "pensamiento específico, de un pensamiento computacional.\n"
   ]
  },
  {
   "cell_type": "markdown",
   "metadata": {},
   "source": []
  },
  {
   "cell_type": "markdown",
   "metadata": {},
   "source": []
  },
  {
   "cell_type": "markdown",
   "metadata": {},
   "source": [
    "## Referentes\n",
    "\n",
    "* [Los Derechao Básicos de Aprendizaje:](https://github.com/marco-canas/seminario_didactica_aritmetica/blob/main/referentes/3_DBA_Matematicas.pdf) \n",
    "\n",
    "* [Zapata-Ros, M. (2015). Pensamiento computacional: Una nueva alfabetización digital. Revista de Educación a Distancia (RED), (46).](https://revistas.um.es/red/article/view/240321) \n",
    "\n",
    "\n"
   ]
  },
  {
   "cell_type": "code",
   "execution_count": null,
   "metadata": {},
   "outputs": [],
   "source": []
  },
  {
   "cell_type": "code",
   "execution_count": null,
   "metadata": {},
   "outputs": [],
   "source": []
  },
  {
   "cell_type": "code",
   "execution_count": null,
   "metadata": {},
   "outputs": [],
   "source": []
  },
  {
   "cell_type": "code",
   "execution_count": null,
   "metadata": {},
   "outputs": [],
   "source": []
  },
  {
   "cell_type": "code",
   "execution_count": null,
   "metadata": {},
   "outputs": [],
   "source": []
  },
  {
   "cell_type": "code",
   "execution_count": null,
   "metadata": {},
   "outputs": [],
   "source": []
  },
  {
   "cell_type": "code",
   "execution_count": null,
   "metadata": {},
   "outputs": [],
   "source": []
  },
  {
   "cell_type": "markdown",
   "metadata": {},
   "source": []
  }
 ],
 "metadata": {
  "language_info": {
   "name": "python"
  },
  "orig_nbformat": 4
 },
 "nbformat": 4,
 "nbformat_minor": 2
}
