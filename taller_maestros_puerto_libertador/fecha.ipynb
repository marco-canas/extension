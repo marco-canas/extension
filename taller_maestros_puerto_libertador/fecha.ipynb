{
 "cells": [
  {
   "attachments": {},
   "cell_type": "markdown",
   "metadata": {},
   "source": [
    "# Fecha de realización: Lunes Septiembre 25 de 2023"
   ]
  },
  {
   "attachments": {},
   "cell_type": "markdown",
   "metadata": {},
   "source": [
    "# Objetivo\n",
    "\n",
    "* Constituir comunidad docente alrededor de la enseñanza de la matemática en nuestra región del Sur de Córdoba y nordeste antioqueño.\n",
    "\n",
    "\n"
   ]
  },
  {
   "attachments": {},
   "cell_type": "markdown",
   "metadata": {},
   "source": [
    "# Asesora\n",
    "\n",
    "Yasmira Emperatriz Barboza Mogollón"
   ]
  },
  {
   "attachments": {},
   "cell_type": "markdown",
   "metadata": {},
   "source": [
    "Pediré formalmente a la profesora Yasmira, para que nos asesore sobre la formación de comunidad de apoyo para el desarrollo de la didáctica de la matemática en nuestra región.\n"
   ]
  }
 ],
 "metadata": {
  "language_info": {
   "name": "python"
  },
  "orig_nbformat": 4
 },
 "nbformat": 4,
 "nbformat_minor": 2
}
