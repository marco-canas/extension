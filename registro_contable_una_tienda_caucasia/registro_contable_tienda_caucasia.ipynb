{
 "cells": [
  {
   "cell_type": "markdown",
   "metadata": {},
   "source": [
    "<table align=\"left\">\n",
    "  <td>\n",
    "    <a href=\"https://colab.research.google.com/github/marco-canas/extension/blob/main/registro_contable_una_tienda_caucasia/registro_contable_tienda_caucasia.ipynb\" target=\"_parent\"><img src=\"https://colab.research.google.com/assets/colab-badge.svg\" alt=\"Open In Colab\"/></a>\n",
    "  </td>\n",
    "</table>"
   ]
  },
  {
   "cell_type": "markdown",
   "metadata": {},
   "source": [
    "## [Primer video de apoyo](https://www.youtube.com/watch?v=GP1mflBhk-8)"
   ]
  },
  {
   "cell_type": "markdown",
   "metadata": {},
   "source": [
    "# Registro contable para una tienda de barrio en Caucasia - Antioquia"
   ]
  },
  {
   "cell_type": "markdown",
   "metadata": {},
   "source": [
    "dame un programa en python para llevar los registros contables de una tienda de barrio en Caucasia Antioquia"
   ]
  },
  {
   "cell_type": "markdown",
   "metadata": {},
   "source": [
    "Crear un sistema de registros contables completo para una tienda de barrio en Python requeriría un código bastante extenso y complejo. Sin embargo, puedo proporcionarte un ejemplo sencillo que podrías utilizar como punto de partida y luego personalizar según las necesidades específicas de tu tienda. En este ejemplo, utilizaremos listas para mantener un registro de los ingresos y gastos de la tienda:\n"
   ]
  },
  {
   "cell_type": "code",
   "execution_count": 2,
   "metadata": {},
   "outputs": [],
   "source": [
    "\n",
    "\n",
    "class TiendaDeBarrio:\n",
    "    def __init__(self):\n",
    "        self.ingresos = []\n",
    "        self.gastos = []\n",
    "        self.saldo = 0\n",
    "\n",
    "    def registrar_ingreso(self, descripcion, monto):\n",
    "        self.ingresos.append((descripcion, monto))\n",
    "        self.saldo += monto\n",
    "\n",
    "    def registrar_gasto(self, descripcion, monto):\n",
    "        self.gastos.append((descripcion, monto))\n",
    "        self.saldo -= monto\n",
    "\n",
    "    def mostrar_registro(self):\n",
    "        print(\"Registro de Ingresos:\")\n",
    "        for descripcion, monto in self.ingresos:\n",
    "            print(f\"{descripcion}: ${monto}\")\n",
    "        print(\"\\nRegistro de Gastos:\")\n",
    "        for descripcion, monto in self.gastos:\n",
    "            print(f\"{descripcion}: ${monto}\")\n",
    "        print(\"\\nSaldo Actual: ${}\".format(self.saldo))\n"
   ]
  },
  {
   "cell_type": "code",
   "execution_count": 3,
   "metadata": {},
   "outputs": [],
   "source": [
    "tienda = TiendaDeBarrio() # instanciemos la clase TiendaDeBarrio"
   ]
  },
  {
   "cell_type": "code",
   "execution_count": 4,
   "metadata": {},
   "outputs": [],
   "source": [
    "tienda.registrar_ingreso('bolsa de lecha', 5000)"
   ]
  },
  {
   "cell_type": "code",
   "execution_count": 5,
   "metadata": {},
   "outputs": [],
   "source": [
    "tienda.registrar_gasto('bolsas para empacar lo vendido', 1000)"
   ]
  },
  {
   "cell_type": "code",
   "execution_count": 6,
   "metadata": {},
   "outputs": [
    {
     "name": "stdout",
     "output_type": "stream",
     "text": [
      "Registro de Ingresos:\n",
      "bolsa de lecha: $5000\n",
      "\n",
      "Registro de Gastos:\n",
      "bolsas para empacar lo vendido: $1000\n",
      "\n",
      "Saldo Actual: $4000\n"
     ]
    }
   ],
   "source": [
    "tienda.mostrar_registro()"
   ]
  },
  {
   "cell_type": "code",
   "execution_count": null,
   "metadata": {},
   "outputs": [],
   "source": []
  },
  {
   "cell_type": "code",
   "execution_count": 3,
   "metadata": {},
   "outputs": [
    {
     "name": "stdout",
     "output_type": "stream",
     "text": [
      "\n",
      "Opciones:\n",
      "1. Registrar Ingreso\n",
      "2. Registrar Gasto\n",
      "3. Mostrar Registro\n",
      "4. Salir\n",
      "Registro de Ingresos:\n",
      "\n",
      "Registro de Gastos:\n",
      "\n",
      "Saldo Actual: $0\n",
      "\n",
      "Opciones:\n",
      "1. Registrar Ingreso\n",
      "2. Registrar Gasto\n",
      "3. Mostrar Registro\n",
      "4. Salir\n",
      "Registro de Ingresos:\n",
      "\n",
      "Registro de Gastos:\n",
      "\n",
      "Saldo Actual: $0\n",
      "\n",
      "Opciones:\n",
      "1. Registrar Ingreso\n",
      "2. Registrar Gasto\n",
      "3. Mostrar Registro\n",
      "4. Salir\n",
      "Registro de Ingresos:\n",
      "\n",
      "Registro de Gastos:\n",
      "\n",
      "Saldo Actual: $0\n",
      "\n",
      "Opciones:\n",
      "1. Registrar Ingreso\n",
      "2. Registrar Gasto\n",
      "3. Mostrar Registro\n",
      "4. Salir\n",
      "Ingreso registrado con éxito.\n",
      "\n",
      "Opciones:\n",
      "1. Registrar Ingreso\n",
      "2. Registrar Gasto\n",
      "3. Mostrar Registro\n",
      "4. Salir\n",
      "Registro de Ingresos:\n",
      "leche: $5000.0\n",
      "\n",
      "Registro de Gastos:\n",
      "\n",
      "Saldo Actual: $5000.0\n",
      "\n",
      "Opciones:\n",
      "1. Registrar Ingreso\n",
      "2. Registrar Gasto\n",
      "3. Mostrar Registro\n",
      "4. Salir\n",
      "Saliendo del programa.\n"
     ]
    }
   ],
   "source": [
    "\n",
    "def main():\n",
    "    tienda = TiendaDeBarrio()\n",
    "\n",
    "    while True:\n",
    "        print(\"\\nOpciones:\")\n",
    "        print(\"1. Registrar Ingreso\")\n",
    "        print(\"2. Registrar Gasto\")\n",
    "        print(\"3. Mostrar Registro\")\n",
    "        print(\"4. Salir\")\n",
    "\n",
    "        opcion = input(\"Seleccione una opción: \")\n",
    "\n",
    "        if opcion == \"1\":\n",
    "            descripcion = input(\"Descripción del ingreso: \")\n",
    "            monto = float(input(\"Monto del ingreso: \"))\n",
    "            tienda.registrar_ingreso(descripcion, monto)\n",
    "            print(\"Ingreso registrado con éxito.\")\n",
    "\n",
    "        elif opcion == \"2\":\n",
    "            descripcion = input(\"Descripción del gasto: \")\n",
    "            monto = float(input(\"Monto del gasto: \"))\n",
    "            tienda.registrar_gasto(descripcion, monto)\n",
    "            print(\"Gasto registrado con éxito.\")\n",
    "\n",
    "        elif opcion == \"3\":\n",
    "            tienda.mostrar_registro()\n",
    "\n",
    "        elif opcion == \"4\":\n",
    "            print(\"Saliendo del programa.\")\n",
    "            break\n",
    "\n",
    "        else:\n",
    "            print(\"Opción no válida. Por favor, seleccione una opción válida.\")\n",
    "\n",
    "if __name__ == \"__main__\":\n",
    "    main()\n",
    "\n"
   ]
  },
  {
   "cell_type": "markdown",
   "metadata": {},
   "source": [
    "\n",
    "Este código crea una clase `TiendaDeBarrio` que permite registrar ingresos y gastos, mantener un saldo y mostrar un registro de transacciones. El programa principal (la función `main()`) presenta un menú interactivo para que el usuario pueda seleccionar diferentes opciones, como registrar ingresos, gastos, mostrar el registro o salir del programa.\n",
    "\n",
    "Recuerda que este es solo un ejemplo simple y que, para un sistema contable más robusto, es posible que desees considerar el uso de una base de datos o un software contable especializado."
   ]
  },
  {
   "cell_type": "markdown",
   "metadata": {},
   "source": [
    "## Referentes\n",
    "\n",
    "Para citar a ChatGPT como autor de un programa generado por este asistente, puedes seguir una convención similar a la de citar a un autor humano. Aquí te muestro un ejemplo de cómo podrías citar a ChatGPT como autor en una cita bibliográfica siguiendo el formato de estilo APA:\n",
    "\n",
    "Título del Programa: [Nombre del programa, si lo has dado].\n",
    "Autor: ChatGPT (Generative Pre-trained Transformer 3.5, desarrollado por OpenAI).\n",
    "Fecha de Creación: [Fecha en la que se generó el programa].\n",
    "Fuente: OpenAI (https://openai.com).\n",
    "URL: [URL de la página de OpenAI o ubicación del asistente].\n",
    "\n",
    "Si tienes una fecha específica en la que se generó el programa, puedes incluirla en la cita. Si no, puedes mencionar la fecha de acceso si es relevante.\n",
    "\n",
    "Por ejemplo:\n",
    "\n",
    "**Título del Programa:** Programa de Registro Contable para Tienda de Barrio en Python.\n",
    "**Autor:** ChatGPT (Generative Pre-trained Transformer 3.5, desarrollado por OpenAI).\n",
    "**Fecha de Creación:** 2023.\n",
    "**Fuente:** OpenAI (https://openai.com).\n",
    "\n",
    "Asegúrate de seguir el formato de citación requerido por tu institución educativa o el estilo de citación que estés utilizando, ya que las normas pueden variar según la guía de estilo (APA, MLA, Chicago, etc.)."
   ]
  },
  {
   "cell_type": "code",
   "execution_count": null,
   "metadata": {},
   "outputs": [],
   "source": []
  }
 ],
 "metadata": {
  "kernelspec": {
   "display_name": ".venv",
   "language": "python",
   "name": "python3"
  },
  "language_info": {
   "codemirror_mode": {
    "name": "ipython",
    "version": 3
   },
   "file_extension": ".py",
   "mimetype": "text/x-python",
   "name": "python",
   "nbconvert_exporter": "python",
   "pygments_lexer": "ipython3",
   "version": "3.10.12"
  },
  "orig_nbformat": 4
 },
 "nbformat": 4,
 "nbformat_minor": 2
}
