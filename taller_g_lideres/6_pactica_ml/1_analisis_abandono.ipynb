{
 "cells": [
  {
   "cell_type": "markdown",
   "id": "dc06dec7",
   "metadata": {
    "slideshow": {
     "slide_type": "slide"
    }
   },
   "source": [
    "<table align=\"left\">\n",
    "  <td>\n",
    "    <a href=\"https://colab.research.google.com/github/marco-canas/extension/blob/main/taller_g_lideres/6_pactica_ml/1_analisis_abandono.ipynb\" target=\"_parent\"><img src=\"https://colab.research.google.com/assets/colab-badge.svg\" alt=\"Open In Colab\"/></a>\n",
    "  </td>\n",
    "  <td>\n",
    "    <a target=\"_blank\" href=\"https://kaggle.com/kernels/welcome?src=https://github.com/marco-canas/extension/blob/main/taller_g_lideres/6_pactica_ml/1_analisis_abandono.ipynb\"><img src=\"https://kaggle.com/static/images/open-in-kaggle.svg\" /></a>\n",
    "  </td>\n",
    "</table>"
   ]
  },
  {
   "cell_type": "markdown",
   "id": "e0c5b198",
   "metadata": {
    "slideshow": {
     "slide_type": "slide"
    }
   },
   "source": [
    "### [Video de apoyo a la lectura interactiva y experimental de este cuaderno](https://www.youtube.com/watch?v=D5RHi4KWW8k)"
   ]
  },
  {
   "cell_type": "markdown",
   "id": "41e82203",
   "metadata": {
    "slideshow": {
     "slide_type": "slide"
    }
   },
   "source": [
    "## [Vínculo al programa del curso de Introducción al machine learning:](https://github.com/marco-canas/didactica_ciencia_datos/tree/main/1_curso_machine_learning)\n",
    "\n"
   ]
  },
  {
   "cell_type": "markdown",
   "id": "d11ab06d",
   "metadata": {
    "slideshow": {
     "slide_type": "slide"
    }
   },
   "source": [
    "Un reconocimiento a mis estudiantes que han construido conmigo este saber pedagógico:\n",
    "\n",
    "<img src = 'https://github.com/marco-canas/extension/blob/main/taller_g_lideres/images_of_students/g_lideres_ml_for_bootcamps_2024_10_10.jpeg?raw=true' width = 600> \n",
    "\n"
   ]
  },
  {
   "cell_type": "markdown",
   "id": "8a74a56c-0ce6-4ad6-b985-553fd7fb68bb",
   "metadata": {},
   "source": [
    "Reconocimiento a las profesoras destacadas en enseñanza: Lorena Barba\n",
    "\n",
    "[flipped class](https://lorenabarba.com/news/flipped-class-energizes-cfd/)"
   ]
  },
  {
   "cell_type": "markdown",
   "id": "8d97dc80",
   "metadata": {
    "slideshow": {
     "slide_type": "slide"
    }
   },
   "source": [
    "## Fomento de la lectura literaria asociada a Ingeniería agropecuaria y licenciatura en Matemáticas\n",
    "\n",
    "[Aprender a negociar de Roger Fisher](https://github.com/marco-canas/el_arte_de_aprender_a_negociar)"
   ]
  },
  {
   "cell_type": "markdown",
   "id": "96775931",
   "metadata": {
    "slideshow": {
     "slide_type": "slide"
    }
   },
   "source": [
    "## Título de la clase: Análisis de riesgo de deserción de clientes    \n",
    "\n",
    "[]()"
   ]
  },
  {
   "cell_type": "markdown",
   "id": "1d38dd4e",
   "metadata": {
    "slideshow": {
     "slide_type": "slide"
    }
   },
   "source": [
    "### Objetivo de aprendizaje (Enunciar, de manera corta sencilla y clara para todos los asistentes)\n"
   ]
  },
  {
   "cell_type": "code",
   "execution_count": null,
   "id": "bc0addfe",
   "metadata": {},
   "outputs": [],
   "source": [
    "# mapa conceptual para cada clase  \n",
    "from graphviz import Digraph\n",
    "\n",
    "# Crear un nuevo grafo dirigido\n",
    "dot = Digraph()\n",
    "\n",
    "# Añadir nodos y relaciones al grafo\n",
    "main_concept = 'Predicción de abandono'\n",
    "dot.node('A', main_concept)\n",
    "dot.node('B', 'Contextualización')\n",
    "dot.node('C', 'Obtención de datos')\n",
    "dot.node('D', 'Síntesis Tabulares')\n",
    "dot.node('E', 'Visualizacion \\n atributos categóricos')\n",
    "dot.node('F', 'Visualización de \\n variables cuantitativas continuas')\n",
    "dot.node('G', 'Análisis de correlaciones')\n",
    "dot.node('H', 'Correlaciones entre targent categorico\\n y predictores continuos')\n",
    "\n",
    "dot.edges(['AB', 'BC', 'CD', 'DE', 'EF', 'FG', 'GH']) \n",
    "\n",
    "# Guardar el grafo como un archivo de imagen\n",
    "dot.render(filename=main_concept, format='png', cleanup=True)\n",
    "\n",
    "dot.view()\n"
   ]
  },
  {
   "cell_type": "markdown",
   "id": "10e55ccf",
   "metadata": {},
   "source": [
    "# Análisis de riesgo de deserción de clientes  \n",
    "\n",
    "[El dataset es de kaggle](https://www.kaggle.com/datasets/geoamins/telco-customer-churn-ibm?resource=download)"
   ]
  },
  {
   "cell_type": "markdown",
   "id": "5ccedc56",
   "metadata": {},
   "source": [
    "<img src = 'https://i.ytimg.com/vi/BV03sQ0srcU/hqdefault.jpg'>"
   ]
  },
  {
   "cell_type": "markdown",
   "id": "5c12a187",
   "metadata": {},
   "source": [
    "Este dataset es conocido como **Telco Customer Churn** y contiene información de clientes de una compañía de telecomunicaciones. "
   ]
  },
  {
   "cell_type": "markdown",
   "id": "42cb4d20",
   "metadata": {},
   "source": [
    "Se utiliza principalmente para analizar y predecir la deserción de clientes, es decir, el riesgo de que un cliente cancele su servicio o deje de usar los productos de la compañía. "
   ]
  },
  {
   "cell_type": "markdown",
   "id": "8a2a52c5",
   "metadata": {},
   "source": [
    "Este tipo de análisis es importante para las empresas, ya que les permite identificar patrones y comportamientos que pueden llevar a la pérdida de clientes, con el fin de tomar acciones preventivas para retenerlos.\n"
   ]
  },
  {
   "cell_type": "markdown",
   "id": "5575ed7b",
   "metadata": {},
   "source": [
    "\n",
    "## Descripción de las variables:\n"
   ]
  },
  {
   "cell_type": "markdown",
   "id": "d02a2208",
   "metadata": {},
   "source": [
    "\n",
    "1. **Estado (state)**: Esta variable indica el estado de origen del cliente. Puede ayudar a detectar si hay patrones geográficos relacionados con la deserción.\n"
   ]
  },
  {
   "cell_type": "markdown",
   "id": "fc3d484b",
   "metadata": {},
   "source": [
    "\n",
    "2. **Longitud de la cuenta (account_length)**: Representa la duración de la relación del cliente con la compañía en días. Esto puede ser un indicador de fidelidad, ya que clientes con cuentas más antiguas tienden a ser más leales.\n"
   ]
  },
  {
   "cell_type": "markdown",
   "id": "87ce1a05",
   "metadata": {},
   "source": [
    "\n",
    "3. **Código de área (area_code)**: El código de área asociado con el número telefónico del cliente. Aunque no es un factor directo de deserción, podría servir para segmentar geográficamente.\n"
   ]
  },
  {
   "cell_type": "markdown",
   "id": "d39041c8",
   "metadata": {},
   "source": [
    "\n",
    "4. **Plan internacional (international_plan)**: Indica si el cliente tiene contratado un plan de llamadas internacionales. Clientes que no necesitan este plan pueden cambiar de proveedor si no ven valor en los servicios ofrecidos.\n"
   ]
  },
  {
   "cell_type": "markdown",
   "id": "4b00b1b1",
   "metadata": {},
   "source": [
    "\n",
    "5. **Plan de correo de voz (voice_mail_plan)**: Indica si el cliente tiene un plan de correo de voz. La falta de servicios adicionales como este podría estar relacionada con la insatisfacción.\n"
   ]
  },
  {
   "cell_type": "markdown",
   "id": "475b94e6",
   "metadata": {},
   "source": [
    "\n",
    "6. **Número de mensajes de correo de voz (number_vmail_messages)**: Número de mensajes de voz que el cliente ha recibido. Esto da una idea del uso que el cliente hace del plan de correo de voz.\n"
   ]
  },
  {
   "cell_type": "markdown",
   "id": "fa7387e9",
   "metadata": {},
   "source": [
    "\n",
    "7. **Minutos totales durante el día (total_day_minutes)**: Cantidad de minutos que el cliente usa el servicio durante el día. Un uso elevado o bajo puede tener relación con la decisión de cancelar el servicio.\n"
   ]
  },
  {
   "cell_type": "markdown",
   "id": "4c4a7574",
   "metadata": {},
   "source": [
    "\n",
    "8. **Número total de llamadas durante el día (total_day_calls)**: Cantidad de llamadas realizadas por el cliente durante el día. El volumen de llamadas puede ser un indicador del uso general del servicio.\n"
   ]
  },
  {
   "cell_type": "markdown",
   "id": "1698afbb",
   "metadata": {},
   "source": [
    "\n",
    "9. **Cargos totales durante el día (total_day_charge)**: Los cargos totales generados por las llamadas diurnas. Un aumento en los cargos sin un aumento proporcional en el uso podría generar insatisfacción.\n"
   ]
  },
  {
   "cell_type": "markdown",
   "id": "1692d3f1",
   "metadata": {},
   "source": [
    "\n",
    "10. **Minutos totales durante la tarde (total_eve_minutes)**: Minutos utilizados durante la tarde, otra ventana de tiempo importante para medir el uso del servicio.\n"
   ]
  },
  {
   "cell_type": "markdown",
   "id": "bdceb0aa",
   "metadata": {},
   "source": [
    "\n",
    "11. **Número de llamadas durante la tarde (total_eve_calls)**: Número de llamadas realizadas en la tarde, puede influir en la experiencia del cliente.\n"
   ]
  },
  {
   "cell_type": "markdown",
   "id": "1f9f1074",
   "metadata": {},
   "source": [
    "\n",
    "12. **Cargos totales durante la tarde (total_eve_charge)**: Los cargos asociados a las llamadas realizadas durante la tarde.\n"
   ]
  },
  {
   "cell_type": "markdown",
   "id": "cf051fc4",
   "metadata": {},
   "source": [
    "\n",
    "13. **Minutos totales durante la noche (total_night_minutes)**: Minutos totales utilizados durante la noche. Este es otro período importante para medir el uso de los servicios de telecomunicaciones.\n"
   ]
  },
  {
   "cell_type": "markdown",
   "id": "e1233037",
   "metadata": {},
   "source": [
    "\n",
    "14. **Número de llamadas durante la noche (total_night_calls)**: Número de llamadas realizadas durante la noche.\n"
   ]
  },
  {
   "cell_type": "markdown",
   "id": "dae8764b",
   "metadata": {},
   "source": [
    "\n",
    "15. **Cargos totales durante la noche (total_night_charge)**: Cargos generados por las llamadas nocturnas.\n"
   ]
  },
  {
   "cell_type": "markdown",
   "id": "c47aa4c6",
   "metadata": {},
   "source": [
    "\n",
    "16. **Minutos internacionales totales (total_intl_minutes)**: Minutos que el cliente ha utilizado para llamadas internacionales. Los clientes con un plan internacional probablemente tendrán un mayor uso en esta categoría.\n"
   ]
  },
  {
   "cell_type": "markdown",
   "id": "12245f96",
   "metadata": {},
   "source": [
    "\n",
    "17. **Número de llamadas internacionales (total_intl_calls)**: Cantidad de llamadas internacionales que ha realizado el cliente.\n"
   ]
  },
  {
   "cell_type": "markdown",
   "id": "fc53072a",
   "metadata": {},
   "source": [
    "\n",
    "18. **Cargos internacionales totales (total_intl_charge)**: Cargos generados por las llamadas internacionales.\n"
   ]
  },
  {
   "cell_type": "markdown",
   "id": "180fc117",
   "metadata": {},
   "source": [
    "\n",
    "19. **Número de llamadas al servicio de atención al cliente (number_customer_service_calls)**: Número de veces que el cliente ha llamado al servicio de atención al cliente. Un número elevado de llamadas puede indicar problemas o insatisfacción, y por tanto estar correlacionado con la deserción.\n"
   ]
  },
  {
   "cell_type": "markdown",
   "id": "c67b42f6",
   "metadata": {},
   "source": [
    "\n",
    "20. **Deserción (churn)**: Es la variable objetivo. Indica si el cliente ha abandonado la compañía o no (1 = Sí, 0 = No). El objetivo de muchos modelos de machine learning es predecir esta variable utilizando las demás variables como características.\n"
   ]
  },
  {
   "cell_type": "markdown",
   "id": "ad9b5b7b",
   "metadata": {},
   "source": [
    "\n",
    "### Significado del dataset:\n"
   ]
  },
  {
   "cell_type": "markdown",
   "id": "1c0ef2cc",
   "metadata": {},
   "source": [
    "Este dataset es fundamental para el análisis de **churn** (deserción), que es un problema crítico para empresas que prestan servicios recurrentes, como telecomunicaciones, bancos, plataformas de suscripción, entre otros. "
   ]
  },
  {
   "cell_type": "markdown",
   "id": "daed9802",
   "metadata": {},
   "source": [
    "El objetivo principal es usar estas variables para entrenar modelos de **machine learning** que permitan predecir si un cliente está en riesgo de abandonar la empresa, de manera que las organizaciones puedan implementar estrategias de retención proactivas.\n"
   ]
  },
  {
   "cell_type": "markdown",
   "id": "b8d05cf7",
   "metadata": {},
   "source": [
    "\n",
    "Este tipo de análisis es común en proyectos de **ciencia de datos aplicada a la gestión empresarial**, donde se busca no solo identificar patrones, sino también crear perfiles de clientes en riesgo, entender las razones del abandono, y generar estrategias para mejorar la satisfacción y fidelización del cliente."
   ]
  },
  {
   "cell_type": "markdown",
   "id": "e828e96c",
   "metadata": {},
   "source": [
    "# Obtención de los datos"
   ]
  },
  {
   "cell_type": "markdown",
   "id": "57a3c1f5",
   "metadata": {},
   "source": [
    "Tenemos dos opciones para obtención de datos:\n",
    "1. Obtención local \n",
    "2. Obtención desde url "
   ]
  },
  {
   "cell_type": "markdown",
   "id": "7bd3e1bd",
   "metadata": {},
   "source": [
    "* Favor leer sobre la función `pandas.read_csv()` [aquí](https://pandas.pydata.org/docs/reference/api/pandas.read_csv.html)\n",
    "* Favor leer sobre la función `pandas.read_excel()` [aquí](https://pandas.pydata.org/docs/reference/api/pandas.read_excel.html)"
   ]
  },
  {
   "cell_type": "code",
   "execution_count": 7,
   "id": "239427f7",
   "metadata": {},
   "outputs": [
    {
     "name": "stdout",
     "output_type": "stream",
     "text": [
      "CPU times: total: 0 ns\n",
      "Wall time: 278 ms\n"
     ]
    },
    {
     "data": {
      "text/html": [
       "<div>\n",
       "<style scoped>\n",
       "    .dataframe tbody tr th:only-of-type {\n",
       "        vertical-align: middle;\n",
       "    }\n",
       "\n",
       "    .dataframe tbody tr th {\n",
       "        vertical-align: top;\n",
       "    }\n",
       "\n",
       "    .dataframe thead th {\n",
       "        text-align: right;\n",
       "    }\n",
       "</style>\n",
       "<table border=\"1\" class=\"dataframe\">\n",
       "  <thead>\n",
       "    <tr style=\"text-align: right;\">\n",
       "      <th></th>\n",
       "      <th>state</th>\n",
       "      <th>account_length</th>\n",
       "      <th>area_code</th>\n",
       "      <th>international_plan</th>\n",
       "      <th>voice_mail_plan</th>\n",
       "      <th>number_vmail_messages</th>\n",
       "      <th>total_day_minutes</th>\n",
       "      <th>total_day_calls</th>\n",
       "      <th>total_day_charge</th>\n",
       "      <th>total_eve_minutes</th>\n",
       "      <th>total_eve_calls</th>\n",
       "      <th>total_eve_charge</th>\n",
       "      <th>total_night_minutes</th>\n",
       "      <th>total_night_calls</th>\n",
       "      <th>total_night_charge</th>\n",
       "      <th>total_intl_minutes</th>\n",
       "      <th>total_intl_calls</th>\n",
       "      <th>total_intl_charge</th>\n",
       "      <th>number_customer_service_calls</th>\n",
       "      <th>churn</th>\n",
       "    </tr>\n",
       "  </thead>\n",
       "  <tbody>\n",
       "    <tr>\n",
       "      <th>0</th>\n",
       "      <td>OH</td>\n",
       "      <td>107</td>\n",
       "      <td>area_code_415</td>\n",
       "      <td>no</td>\n",
       "      <td>yes</td>\n",
       "      <td>26</td>\n",
       "      <td>161.6</td>\n",
       "      <td>123</td>\n",
       "      <td>27.47</td>\n",
       "      <td>195.5</td>\n",
       "      <td>103</td>\n",
       "      <td>16.62</td>\n",
       "      <td>254.4</td>\n",
       "      <td>103</td>\n",
       "      <td>11.45</td>\n",
       "      <td>13.7</td>\n",
       "      <td>3</td>\n",
       "      <td>3.70</td>\n",
       "      <td>1</td>\n",
       "      <td>no</td>\n",
       "    </tr>\n",
       "    <tr>\n",
       "      <th>1</th>\n",
       "      <td>NJ</td>\n",
       "      <td>137</td>\n",
       "      <td>area_code_415</td>\n",
       "      <td>no</td>\n",
       "      <td>no</td>\n",
       "      <td>0</td>\n",
       "      <td>243.4</td>\n",
       "      <td>114</td>\n",
       "      <td>41.38</td>\n",
       "      <td>121.2</td>\n",
       "      <td>110</td>\n",
       "      <td>10.30</td>\n",
       "      <td>162.6</td>\n",
       "      <td>104</td>\n",
       "      <td>7.32</td>\n",
       "      <td>12.2</td>\n",
       "      <td>5</td>\n",
       "      <td>3.29</td>\n",
       "      <td>0</td>\n",
       "      <td>no</td>\n",
       "    </tr>\n",
       "    <tr>\n",
       "      <th>2</th>\n",
       "      <td>OH</td>\n",
       "      <td>84</td>\n",
       "      <td>area_code_408</td>\n",
       "      <td>yes</td>\n",
       "      <td>no</td>\n",
       "      <td>0</td>\n",
       "      <td>299.4</td>\n",
       "      <td>71</td>\n",
       "      <td>50.90</td>\n",
       "      <td>61.9</td>\n",
       "      <td>88</td>\n",
       "      <td>5.26</td>\n",
       "      <td>196.9</td>\n",
       "      <td>89</td>\n",
       "      <td>8.86</td>\n",
       "      <td>6.6</td>\n",
       "      <td>7</td>\n",
       "      <td>1.78</td>\n",
       "      <td>2</td>\n",
       "      <td>no</td>\n",
       "    </tr>\n",
       "    <tr>\n",
       "      <th>3</th>\n",
       "      <td>OK</td>\n",
       "      <td>75</td>\n",
       "      <td>area_code_415</td>\n",
       "      <td>yes</td>\n",
       "      <td>no</td>\n",
       "      <td>0</td>\n",
       "      <td>166.7</td>\n",
       "      <td>113</td>\n",
       "      <td>28.34</td>\n",
       "      <td>148.3</td>\n",
       "      <td>122</td>\n",
       "      <td>12.61</td>\n",
       "      <td>186.9</td>\n",
       "      <td>121</td>\n",
       "      <td>8.41</td>\n",
       "      <td>10.1</td>\n",
       "      <td>3</td>\n",
       "      <td>2.73</td>\n",
       "      <td>3</td>\n",
       "      <td>no</td>\n",
       "    </tr>\n",
       "    <tr>\n",
       "      <th>4</th>\n",
       "      <td>MA</td>\n",
       "      <td>121</td>\n",
       "      <td>area_code_510</td>\n",
       "      <td>no</td>\n",
       "      <td>yes</td>\n",
       "      <td>24</td>\n",
       "      <td>218.2</td>\n",
       "      <td>88</td>\n",
       "      <td>37.09</td>\n",
       "      <td>348.5</td>\n",
       "      <td>108</td>\n",
       "      <td>29.62</td>\n",
       "      <td>212.6</td>\n",
       "      <td>118</td>\n",
       "      <td>9.57</td>\n",
       "      <td>7.5</td>\n",
       "      <td>7</td>\n",
       "      <td>2.03</td>\n",
       "      <td>3</td>\n",
       "      <td>no</td>\n",
       "    </tr>\n",
       "    <tr>\n",
       "      <th>...</th>\n",
       "      <td>...</td>\n",
       "      <td>...</td>\n",
       "      <td>...</td>\n",
       "      <td>...</td>\n",
       "      <td>...</td>\n",
       "      <td>...</td>\n",
       "      <td>...</td>\n",
       "      <td>...</td>\n",
       "      <td>...</td>\n",
       "      <td>...</td>\n",
       "      <td>...</td>\n",
       "      <td>...</td>\n",
       "      <td>...</td>\n",
       "      <td>...</td>\n",
       "      <td>...</td>\n",
       "      <td>...</td>\n",
       "      <td>...</td>\n",
       "      <td>...</td>\n",
       "      <td>...</td>\n",
       "      <td>...</td>\n",
       "    </tr>\n",
       "    <tr>\n",
       "      <th>4995</th>\n",
       "      <td>GA</td>\n",
       "      <td>130</td>\n",
       "      <td>area_code_415</td>\n",
       "      <td>no</td>\n",
       "      <td>no</td>\n",
       "      <td>0</td>\n",
       "      <td>119.4</td>\n",
       "      <td>99</td>\n",
       "      <td>20.30</td>\n",
       "      <td>226.3</td>\n",
       "      <td>97</td>\n",
       "      <td>19.24</td>\n",
       "      <td>202.7</td>\n",
       "      <td>111</td>\n",
       "      <td>9.12</td>\n",
       "      <td>11.3</td>\n",
       "      <td>7</td>\n",
       "      <td>3.05</td>\n",
       "      <td>0</td>\n",
       "      <td>yes</td>\n",
       "    </tr>\n",
       "    <tr>\n",
       "      <th>4996</th>\n",
       "      <td>WA</td>\n",
       "      <td>73</td>\n",
       "      <td>area_code_408</td>\n",
       "      <td>no</td>\n",
       "      <td>no</td>\n",
       "      <td>0</td>\n",
       "      <td>177.2</td>\n",
       "      <td>118</td>\n",
       "      <td>30.12</td>\n",
       "      <td>270.5</td>\n",
       "      <td>84</td>\n",
       "      <td>22.99</td>\n",
       "      <td>241.8</td>\n",
       "      <td>112</td>\n",
       "      <td>10.88</td>\n",
       "      <td>12.3</td>\n",
       "      <td>2</td>\n",
       "      <td>3.32</td>\n",
       "      <td>3</td>\n",
       "      <td>yes</td>\n",
       "    </tr>\n",
       "    <tr>\n",
       "      <th>4997</th>\n",
       "      <td>WV</td>\n",
       "      <td>152</td>\n",
       "      <td>area_code_415</td>\n",
       "      <td>no</td>\n",
       "      <td>no</td>\n",
       "      <td>0</td>\n",
       "      <td>184.2</td>\n",
       "      <td>90</td>\n",
       "      <td>31.31</td>\n",
       "      <td>256.8</td>\n",
       "      <td>73</td>\n",
       "      <td>21.83</td>\n",
       "      <td>213.6</td>\n",
       "      <td>113</td>\n",
       "      <td>9.61</td>\n",
       "      <td>14.7</td>\n",
       "      <td>2</td>\n",
       "      <td>3.97</td>\n",
       "      <td>3</td>\n",
       "      <td>no</td>\n",
       "    </tr>\n",
       "    <tr>\n",
       "      <th>4998</th>\n",
       "      <td>DC</td>\n",
       "      <td>61</td>\n",
       "      <td>area_code_415</td>\n",
       "      <td>no</td>\n",
       "      <td>no</td>\n",
       "      <td>0</td>\n",
       "      <td>140.6</td>\n",
       "      <td>89</td>\n",
       "      <td>23.90</td>\n",
       "      <td>172.8</td>\n",
       "      <td>128</td>\n",
       "      <td>14.69</td>\n",
       "      <td>212.4</td>\n",
       "      <td>97</td>\n",
       "      <td>9.56</td>\n",
       "      <td>13.6</td>\n",
       "      <td>4</td>\n",
       "      <td>3.67</td>\n",
       "      <td>1</td>\n",
       "      <td>yes</td>\n",
       "    </tr>\n",
       "    <tr>\n",
       "      <th>4999</th>\n",
       "      <td>DC</td>\n",
       "      <td>109</td>\n",
       "      <td>area_code_510</td>\n",
       "      <td>no</td>\n",
       "      <td>no</td>\n",
       "      <td>0</td>\n",
       "      <td>188.8</td>\n",
       "      <td>67</td>\n",
       "      <td>32.10</td>\n",
       "      <td>171.7</td>\n",
       "      <td>92</td>\n",
       "      <td>14.59</td>\n",
       "      <td>224.4</td>\n",
       "      <td>89</td>\n",
       "      <td>10.10</td>\n",
       "      <td>8.5</td>\n",
       "      <td>6</td>\n",
       "      <td>2.30</td>\n",
       "      <td>0</td>\n",
       "      <td>yes</td>\n",
       "    </tr>\n",
       "  </tbody>\n",
       "</table>\n",
       "<p>5000 rows × 20 columns</p>\n",
       "</div>"
      ],
      "text/plain": [
       "     state  account_length      area_code international_plan voice_mail_plan  \\\n",
       "0       OH             107  area_code_415                 no             yes   \n",
       "1       NJ             137  area_code_415                 no              no   \n",
       "2       OH              84  area_code_408                yes              no   \n",
       "3       OK              75  area_code_415                yes              no   \n",
       "4       MA             121  area_code_510                 no             yes   \n",
       "...    ...             ...            ...                ...             ...   \n",
       "4995    GA             130  area_code_415                 no              no   \n",
       "4996    WA              73  area_code_408                 no              no   \n",
       "4997    WV             152  area_code_415                 no              no   \n",
       "4998    DC              61  area_code_415                 no              no   \n",
       "4999    DC             109  area_code_510                 no              no   \n",
       "\n",
       "      number_vmail_messages  total_day_minutes  total_day_calls  \\\n",
       "0                        26              161.6              123   \n",
       "1                         0              243.4              114   \n",
       "2                         0              299.4               71   \n",
       "3                         0              166.7              113   \n",
       "4                        24              218.2               88   \n",
       "...                     ...                ...              ...   \n",
       "4995                      0              119.4               99   \n",
       "4996                      0              177.2              118   \n",
       "4997                      0              184.2               90   \n",
       "4998                      0              140.6               89   \n",
       "4999                      0              188.8               67   \n",
       "\n",
       "      total_day_charge  total_eve_minutes  total_eve_calls  total_eve_charge  \\\n",
       "0                27.47              195.5              103             16.62   \n",
       "1                41.38              121.2              110             10.30   \n",
       "2                50.90               61.9               88              5.26   \n",
       "3                28.34              148.3              122             12.61   \n",
       "4                37.09              348.5              108             29.62   \n",
       "...                ...                ...              ...               ...   \n",
       "4995             20.30              226.3               97             19.24   \n",
       "4996             30.12              270.5               84             22.99   \n",
       "4997             31.31              256.8               73             21.83   \n",
       "4998             23.90              172.8              128             14.69   \n",
       "4999             32.10              171.7               92             14.59   \n",
       "\n",
       "      total_night_minutes  total_night_calls  total_night_charge  \\\n",
       "0                   254.4                103               11.45   \n",
       "1                   162.6                104                7.32   \n",
       "2                   196.9                 89                8.86   \n",
       "3                   186.9                121                8.41   \n",
       "4                   212.6                118                9.57   \n",
       "...                   ...                ...                 ...   \n",
       "4995                202.7                111                9.12   \n",
       "4996                241.8                112               10.88   \n",
       "4997                213.6                113                9.61   \n",
       "4998                212.4                 97                9.56   \n",
       "4999                224.4                 89               10.10   \n",
       "\n",
       "      total_intl_minutes  total_intl_calls  total_intl_charge  \\\n",
       "0                   13.7                 3               3.70   \n",
       "1                   12.2                 5               3.29   \n",
       "2                    6.6                 7               1.78   \n",
       "3                   10.1                 3               2.73   \n",
       "4                    7.5                 7               2.03   \n",
       "...                  ...               ...                ...   \n",
       "4995                11.3                 7               3.05   \n",
       "4996                12.3                 2               3.32   \n",
       "4997                14.7                 2               3.97   \n",
       "4998                13.6                 4               3.67   \n",
       "4999                 8.5                 6               2.30   \n",
       "\n",
       "      number_customer_service_calls churn  \n",
       "0                                 1    no  \n",
       "1                                 0    no  \n",
       "2                                 2    no  \n",
       "3                                 3    no  \n",
       "4                                 3    no  \n",
       "...                             ...   ...  \n",
       "4995                              0   yes  \n",
       "4996                              3   yes  \n",
       "4997                              3    no  \n",
       "4998                              1   yes  \n",
       "4999                              0   yes  \n",
       "\n",
       "[5000 rows x 20 columns]"
      ]
     },
     "execution_count": 7,
     "metadata": {},
     "output_type": "execute_result"
    }
   ],
   "source": [
    "\n",
    "%%time\n",
    "import numpy as np \n",
    "import pandas as pd \n",
    "url = 'https://raw.githubusercontent.com/marco-canas/extension/refs/heads/main/taller_g_lideres/6_pactica_ml/Telco%20BigML%20Churn%205000.csv'\n",
    "df= pd.read_csv(url)\n",
    "df "
   ]
  },
  {
   "cell_type": "code",
   "execution_count": 9,
   "id": "962bbff1",
   "metadata": {},
   "outputs": [],
   "source": [
    "import numpy as np \n",
    "df.index = np.arange(1, 5000+1) "
   ]
  },
  {
   "cell_type": "code",
   "execution_count": 10,
   "id": "2f3f110b",
   "metadata": {},
   "outputs": [
    {
     "data": {
      "text/html": [
       "<div>\n",
       "<style scoped>\n",
       "    .dataframe tbody tr th:only-of-type {\n",
       "        vertical-align: middle;\n",
       "    }\n",
       "\n",
       "    .dataframe tbody tr th {\n",
       "        vertical-align: top;\n",
       "    }\n",
       "\n",
       "    .dataframe thead th {\n",
       "        text-align: right;\n",
       "    }\n",
       "</style>\n",
       "<table border=\"1\" class=\"dataframe\">\n",
       "  <thead>\n",
       "    <tr style=\"text-align: right;\">\n",
       "      <th></th>\n",
       "      <th>state</th>\n",
       "      <th>account_length</th>\n",
       "      <th>area_code</th>\n",
       "      <th>international_plan</th>\n",
       "      <th>voice_mail_plan</th>\n",
       "      <th>number_vmail_messages</th>\n",
       "      <th>total_day_minutes</th>\n",
       "      <th>total_day_calls</th>\n",
       "      <th>total_day_charge</th>\n",
       "      <th>total_eve_minutes</th>\n",
       "      <th>total_eve_calls</th>\n",
       "      <th>total_eve_charge</th>\n",
       "      <th>total_night_minutes</th>\n",
       "      <th>total_night_calls</th>\n",
       "      <th>total_night_charge</th>\n",
       "      <th>total_intl_minutes</th>\n",
       "      <th>total_intl_calls</th>\n",
       "      <th>total_intl_charge</th>\n",
       "      <th>number_customer_service_calls</th>\n",
       "      <th>churn</th>\n",
       "    </tr>\n",
       "  </thead>\n",
       "  <tbody>\n",
       "    <tr>\n",
       "      <th>1</th>\n",
       "      <td>OH</td>\n",
       "      <td>107</td>\n",
       "      <td>area_code_415</td>\n",
       "      <td>no</td>\n",
       "      <td>yes</td>\n",
       "      <td>26</td>\n",
       "      <td>161.6</td>\n",
       "      <td>123</td>\n",
       "      <td>27.47</td>\n",
       "      <td>195.5</td>\n",
       "      <td>103</td>\n",
       "      <td>16.62</td>\n",
       "      <td>254.4</td>\n",
       "      <td>103</td>\n",
       "      <td>11.45</td>\n",
       "      <td>13.7</td>\n",
       "      <td>3</td>\n",
       "      <td>3.70</td>\n",
       "      <td>1</td>\n",
       "      <td>no</td>\n",
       "    </tr>\n",
       "    <tr>\n",
       "      <th>2</th>\n",
       "      <td>NJ</td>\n",
       "      <td>137</td>\n",
       "      <td>area_code_415</td>\n",
       "      <td>no</td>\n",
       "      <td>no</td>\n",
       "      <td>0</td>\n",
       "      <td>243.4</td>\n",
       "      <td>114</td>\n",
       "      <td>41.38</td>\n",
       "      <td>121.2</td>\n",
       "      <td>110</td>\n",
       "      <td>10.30</td>\n",
       "      <td>162.6</td>\n",
       "      <td>104</td>\n",
       "      <td>7.32</td>\n",
       "      <td>12.2</td>\n",
       "      <td>5</td>\n",
       "      <td>3.29</td>\n",
       "      <td>0</td>\n",
       "      <td>no</td>\n",
       "    </tr>\n",
       "    <tr>\n",
       "      <th>3</th>\n",
       "      <td>OH</td>\n",
       "      <td>84</td>\n",
       "      <td>area_code_408</td>\n",
       "      <td>yes</td>\n",
       "      <td>no</td>\n",
       "      <td>0</td>\n",
       "      <td>299.4</td>\n",
       "      <td>71</td>\n",
       "      <td>50.90</td>\n",
       "      <td>61.9</td>\n",
       "      <td>88</td>\n",
       "      <td>5.26</td>\n",
       "      <td>196.9</td>\n",
       "      <td>89</td>\n",
       "      <td>8.86</td>\n",
       "      <td>6.6</td>\n",
       "      <td>7</td>\n",
       "      <td>1.78</td>\n",
       "      <td>2</td>\n",
       "      <td>no</td>\n",
       "    </tr>\n",
       "    <tr>\n",
       "      <th>4</th>\n",
       "      <td>OK</td>\n",
       "      <td>75</td>\n",
       "      <td>area_code_415</td>\n",
       "      <td>yes</td>\n",
       "      <td>no</td>\n",
       "      <td>0</td>\n",
       "      <td>166.7</td>\n",
       "      <td>113</td>\n",
       "      <td>28.34</td>\n",
       "      <td>148.3</td>\n",
       "      <td>122</td>\n",
       "      <td>12.61</td>\n",
       "      <td>186.9</td>\n",
       "      <td>121</td>\n",
       "      <td>8.41</td>\n",
       "      <td>10.1</td>\n",
       "      <td>3</td>\n",
       "      <td>2.73</td>\n",
       "      <td>3</td>\n",
       "      <td>no</td>\n",
       "    </tr>\n",
       "    <tr>\n",
       "      <th>5</th>\n",
       "      <td>MA</td>\n",
       "      <td>121</td>\n",
       "      <td>area_code_510</td>\n",
       "      <td>no</td>\n",
       "      <td>yes</td>\n",
       "      <td>24</td>\n",
       "      <td>218.2</td>\n",
       "      <td>88</td>\n",
       "      <td>37.09</td>\n",
       "      <td>348.5</td>\n",
       "      <td>108</td>\n",
       "      <td>29.62</td>\n",
       "      <td>212.6</td>\n",
       "      <td>118</td>\n",
       "      <td>9.57</td>\n",
       "      <td>7.5</td>\n",
       "      <td>7</td>\n",
       "      <td>2.03</td>\n",
       "      <td>3</td>\n",
       "      <td>no</td>\n",
       "    </tr>\n",
       "  </tbody>\n",
       "</table>\n",
       "</div>"
      ],
      "text/plain": [
       "  state  account_length      area_code international_plan voice_mail_plan  \\\n",
       "1    OH             107  area_code_415                 no             yes   \n",
       "2    NJ             137  area_code_415                 no              no   \n",
       "3    OH              84  area_code_408                yes              no   \n",
       "4    OK              75  area_code_415                yes              no   \n",
       "5    MA             121  area_code_510                 no             yes   \n",
       "\n",
       "   number_vmail_messages  total_day_minutes  total_day_calls  \\\n",
       "1                     26              161.6              123   \n",
       "2                      0              243.4              114   \n",
       "3                      0              299.4               71   \n",
       "4                      0              166.7              113   \n",
       "5                     24              218.2               88   \n",
       "\n",
       "   total_day_charge  total_eve_minutes  total_eve_calls  total_eve_charge  \\\n",
       "1             27.47              195.5              103             16.62   \n",
       "2             41.38              121.2              110             10.30   \n",
       "3             50.90               61.9               88              5.26   \n",
       "4             28.34              148.3              122             12.61   \n",
       "5             37.09              348.5              108             29.62   \n",
       "\n",
       "   total_night_minutes  total_night_calls  total_night_charge  \\\n",
       "1                254.4                103               11.45   \n",
       "2                162.6                104                7.32   \n",
       "3                196.9                 89                8.86   \n",
       "4                186.9                121                8.41   \n",
       "5                212.6                118                9.57   \n",
       "\n",
       "   total_intl_minutes  total_intl_calls  total_intl_charge  \\\n",
       "1                13.7                 3               3.70   \n",
       "2                12.2                 5               3.29   \n",
       "3                 6.6                 7               1.78   \n",
       "4                10.1                 3               2.73   \n",
       "5                 7.5                 7               2.03   \n",
       "\n",
       "   number_customer_service_calls churn  \n",
       "1                              1    no  \n",
       "2                              0    no  \n",
       "3                              2    no  \n",
       "4                              3    no  \n",
       "5                              3    no  "
      ]
     },
     "execution_count": 10,
     "metadata": {},
     "output_type": "execute_result"
    }
   ],
   "source": [
    "# con este código puede obtener las cinco primeras observaciones \n",
    "df.head()"
   ]
  },
  {
   "cell_type": "code",
   "execution_count": 4,
   "id": "8e7bc8f0",
   "metadata": {},
   "outputs": [
    {
     "data": {
      "text/plain": [
       "Index(['state', 'account_length', 'area_code', 'international_plan',\n",
       "       'voice_mail_plan', 'number_vmail_messages', 'total_day_minutes',\n",
       "       'total_day_calls', 'total_day_charge', 'total_eve_minutes',\n",
       "       'total_eve_calls', 'total_eve_charge', 'total_night_minutes',\n",
       "       'total_night_calls', 'total_night_charge', 'total_intl_minutes',\n",
       "       'total_intl_calls', 'total_intl_charge',\n",
       "       'number_customer_service_calls', 'churn'],\n",
       "      dtype='object')"
      ]
     },
     "execution_count": 4,
     "metadata": {},
     "output_type": "execute_result"
    }
   ],
   "source": [
    "# ontención de los nombres de los atributos o keys\n",
    "df.columns"
   ]
  },
  {
   "cell_type": "code",
   "execution_count": 11,
   "id": "311c9fa2",
   "metadata": {},
   "outputs": [
    {
     "data": {
      "text/html": [
       "<div>\n",
       "<style scoped>\n",
       "    .dataframe tbody tr th:only-of-type {\n",
       "        vertical-align: middle;\n",
       "    }\n",
       "\n",
       "    .dataframe tbody tr th {\n",
       "        vertical-align: top;\n",
       "    }\n",
       "\n",
       "    .dataframe thead th {\n",
       "        text-align: right;\n",
       "    }\n",
       "</style>\n",
       "<table border=\"1\" class=\"dataframe\">\n",
       "  <thead>\n",
       "    <tr style=\"text-align: right;\">\n",
       "      <th></th>\n",
       "      <th>Estado</th>\n",
       "      <th>LongitudCuenta</th>\n",
       "      <th>CodigoArea</th>\n",
       "      <th>PlanInternacional</th>\n",
       "      <th>PlanCorreoVoz</th>\n",
       "      <th>NumeroMensajesCorreoVoz</th>\n",
       "      <th>MinutosDiaTotales</th>\n",
       "      <th>LlamadasDiaTotales</th>\n",
       "      <th>CargosDiaTotales</th>\n",
       "      <th>MinutosTardeTotales</th>\n",
       "      <th>LlamadasTardeTotales</th>\n",
       "      <th>CargosTardeTotales</th>\n",
       "      <th>MinutosNocheTotales</th>\n",
       "      <th>LlamadasNocheTotales</th>\n",
       "      <th>CargosNocheTotales</th>\n",
       "      <th>MinInternacTotales</th>\n",
       "      <th>LlamadasInterncTotales</th>\n",
       "      <th>CargosInternacTotales</th>\n",
       "      <th>NumeroLlamadasAtencionClientes</th>\n",
       "      <th>Desercion</th>\n",
       "    </tr>\n",
       "  </thead>\n",
       "  <tbody>\n",
       "    <tr>\n",
       "      <th>1</th>\n",
       "      <td>OH</td>\n",
       "      <td>107</td>\n",
       "      <td>area_code_415</td>\n",
       "      <td>no</td>\n",
       "      <td>yes</td>\n",
       "      <td>26</td>\n",
       "      <td>161.6</td>\n",
       "      <td>123</td>\n",
       "      <td>27.47</td>\n",
       "      <td>195.5</td>\n",
       "      <td>103</td>\n",
       "      <td>16.62</td>\n",
       "      <td>254.4</td>\n",
       "      <td>103</td>\n",
       "      <td>11.45</td>\n",
       "      <td>13.7</td>\n",
       "      <td>3</td>\n",
       "      <td>3.70</td>\n",
       "      <td>1</td>\n",
       "      <td>no</td>\n",
       "    </tr>\n",
       "    <tr>\n",
       "      <th>2</th>\n",
       "      <td>NJ</td>\n",
       "      <td>137</td>\n",
       "      <td>area_code_415</td>\n",
       "      <td>no</td>\n",
       "      <td>no</td>\n",
       "      <td>0</td>\n",
       "      <td>243.4</td>\n",
       "      <td>114</td>\n",
       "      <td>41.38</td>\n",
       "      <td>121.2</td>\n",
       "      <td>110</td>\n",
       "      <td>10.30</td>\n",
       "      <td>162.6</td>\n",
       "      <td>104</td>\n",
       "      <td>7.32</td>\n",
       "      <td>12.2</td>\n",
       "      <td>5</td>\n",
       "      <td>3.29</td>\n",
       "      <td>0</td>\n",
       "      <td>no</td>\n",
       "    </tr>\n",
       "    <tr>\n",
       "      <th>3</th>\n",
       "      <td>OH</td>\n",
       "      <td>84</td>\n",
       "      <td>area_code_408</td>\n",
       "      <td>yes</td>\n",
       "      <td>no</td>\n",
       "      <td>0</td>\n",
       "      <td>299.4</td>\n",
       "      <td>71</td>\n",
       "      <td>50.90</td>\n",
       "      <td>61.9</td>\n",
       "      <td>88</td>\n",
       "      <td>5.26</td>\n",
       "      <td>196.9</td>\n",
       "      <td>89</td>\n",
       "      <td>8.86</td>\n",
       "      <td>6.6</td>\n",
       "      <td>7</td>\n",
       "      <td>1.78</td>\n",
       "      <td>2</td>\n",
       "      <td>no</td>\n",
       "    </tr>\n",
       "    <tr>\n",
       "      <th>4</th>\n",
       "      <td>OK</td>\n",
       "      <td>75</td>\n",
       "      <td>area_code_415</td>\n",
       "      <td>yes</td>\n",
       "      <td>no</td>\n",
       "      <td>0</td>\n",
       "      <td>166.7</td>\n",
       "      <td>113</td>\n",
       "      <td>28.34</td>\n",
       "      <td>148.3</td>\n",
       "      <td>122</td>\n",
       "      <td>12.61</td>\n",
       "      <td>186.9</td>\n",
       "      <td>121</td>\n",
       "      <td>8.41</td>\n",
       "      <td>10.1</td>\n",
       "      <td>3</td>\n",
       "      <td>2.73</td>\n",
       "      <td>3</td>\n",
       "      <td>no</td>\n",
       "    </tr>\n",
       "    <tr>\n",
       "      <th>5</th>\n",
       "      <td>MA</td>\n",
       "      <td>121</td>\n",
       "      <td>area_code_510</td>\n",
       "      <td>no</td>\n",
       "      <td>yes</td>\n",
       "      <td>24</td>\n",
       "      <td>218.2</td>\n",
       "      <td>88</td>\n",
       "      <td>37.09</td>\n",
       "      <td>348.5</td>\n",
       "      <td>108</td>\n",
       "      <td>29.62</td>\n",
       "      <td>212.6</td>\n",
       "      <td>118</td>\n",
       "      <td>9.57</td>\n",
       "      <td>7.5</td>\n",
       "      <td>7</td>\n",
       "      <td>2.03</td>\n",
       "      <td>3</td>\n",
       "      <td>no</td>\n",
       "    </tr>\n",
       "  </tbody>\n",
       "</table>\n",
       "</div>"
      ],
      "text/plain": [
       "  Estado  LongitudCuenta     CodigoArea PlanInternacional PlanCorreoVoz  \\\n",
       "1     OH             107  area_code_415                no           yes   \n",
       "2     NJ             137  area_code_415                no            no   \n",
       "3     OH              84  area_code_408               yes            no   \n",
       "4     OK              75  area_code_415               yes            no   \n",
       "5     MA             121  area_code_510                no           yes   \n",
       "\n",
       "   NumeroMensajesCorreoVoz  MinutosDiaTotales  LlamadasDiaTotales  \\\n",
       "1                       26              161.6                 123   \n",
       "2                        0              243.4                 114   \n",
       "3                        0              299.4                  71   \n",
       "4                        0              166.7                 113   \n",
       "5                       24              218.2                  88   \n",
       "\n",
       "   CargosDiaTotales  MinutosTardeTotales  LlamadasTardeTotales  \\\n",
       "1             27.47                195.5                   103   \n",
       "2             41.38                121.2                   110   \n",
       "3             50.90                 61.9                    88   \n",
       "4             28.34                148.3                   122   \n",
       "5             37.09                348.5                   108   \n",
       "\n",
       "   CargosTardeTotales  MinutosNocheTotales  LlamadasNocheTotales  \\\n",
       "1               16.62                254.4                   103   \n",
       "2               10.30                162.6                   104   \n",
       "3                5.26                196.9                    89   \n",
       "4               12.61                186.9                   121   \n",
       "5               29.62                212.6                   118   \n",
       "\n",
       "   CargosNocheTotales  MinInternacTotales  LlamadasInterncTotales  \\\n",
       "1               11.45                13.7                       3   \n",
       "2                7.32                12.2                       5   \n",
       "3                8.86                 6.6                       7   \n",
       "4                8.41                10.1                       3   \n",
       "5                9.57                 7.5                       7   \n",
       "\n",
       "   CargosInternacTotales  NumeroLlamadasAtencionClientes Desercion  \n",
       "1                   3.70                               1        no  \n",
       "2                   3.29                               0        no  \n",
       "3                   1.78                               2        no  \n",
       "4                   2.73                               3        no  \n",
       "5                   2.03                               3        no  "
      ]
     },
     "execution_count": 11,
     "metadata": {},
     "output_type": "execute_result"
    }
   ],
   "source": [
    "# Renombrar las columnas del DataFrame a español\n",
    "# Esta estrategia de renombre es por reasignación \n",
    "# Vea la estrategia a través de la función pandas.rename()\n",
    "\n",
    "df.columns = [\n",
    "    'Estado', 'LongitudCuenta', 'CodigoArea', 'PlanInternacional', \n",
    "    'PlanCorreoVoz', 'NumeroMensajesCorreoVoz', 'MinutosDiaTotales', \n",
    "    'LlamadasDiaTotales', 'CargosDiaTotales', 'MinutosTardeTotales', \n",
    "    'LlamadasTardeTotales', 'CargosTardeTotales', 'MinutosNocheTotales', \n",
    "    'LlamadasNocheTotales', 'CargosNocheTotales', 'MinInternacTotales', \n",
    "    'LlamadasInterncTotales', 'CargosInternacTotales', \n",
    "    'NumeroLlamadasAtencionClientes', 'Desercion'\n",
    "]\n",
    "# El método pandas.DataFrame.rename(columns = {}) para renombrar de manera selectiva  \n",
    "\n",
    "# Verificar los cambios\n",
    "df.head()\n",
    "\n"
   ]
  },
  {
   "cell_type": "markdown",
   "id": "207d221d",
   "metadata": {},
   "source": [
    "# Take a Quick Look at the Data Structure"
   ]
  },
  {
   "cell_type": "code",
   "execution_count": 12,
   "id": "f626f2ba",
   "metadata": {},
   "outputs": [
    {
     "name": "stdout",
     "output_type": "stream",
     "text": [
      "<class 'pandas.core.frame.DataFrame'>\n",
      "Index: 5000 entries, 1 to 5000\n",
      "Data columns (total 20 columns):\n",
      " #   Column                          Non-Null Count  Dtype  \n",
      "---  ------                          --------------  -----  \n",
      " 0   Estado                          5000 non-null   object \n",
      " 1   LongitudCuenta                  5000 non-null   int64  \n",
      " 2   CodigoArea                      5000 non-null   object \n",
      " 3   PlanInternacional               5000 non-null   object \n",
      " 4   PlanCorreoVoz                   5000 non-null   object \n",
      " 5   NumeroMensajesCorreoVoz         5000 non-null   int64  \n",
      " 6   MinutosDiaTotales               5000 non-null   float64\n",
      " 7   LlamadasDiaTotales              5000 non-null   int64  \n",
      " 8   CargosDiaTotales                5000 non-null   float64\n",
      " 9   MinutosTardeTotales             5000 non-null   float64\n",
      " 10  LlamadasTardeTotales            5000 non-null   int64  \n",
      " 11  CargosTardeTotales              5000 non-null   float64\n",
      " 12  MinutosNocheTotales             5000 non-null   float64\n",
      " 13  LlamadasNocheTotales            5000 non-null   int64  \n",
      " 14  CargosNocheTotales              5000 non-null   float64\n",
      " 15  MinInternacTotales              5000 non-null   float64\n",
      " 16  LlamadasInterncTotales          5000 non-null   int64  \n",
      " 17  CargosInternacTotales           5000 non-null   float64\n",
      " 18  NumeroLlamadasAtencionClientes  5000 non-null   int64  \n",
      " 19  Desercion                       5000 non-null   object \n",
      "dtypes: float64(8), int64(7), object(5)\n",
      "memory usage: 820.3+ KB\n"
     ]
    }
   ],
   "source": [
    "# resumen de las variables categóricas y numéricas \n",
    "df.info()"
   ]
  },
  {
   "cell_type": "markdown",
   "id": "d81a493f",
   "metadata": {},
   "source": [
    "## Inferencias de la utilización del método `pandas.info()`\n",
    "\n",
    "1. No hay atributos con datos faltantes. De donde se infiere que no será necesario hacer procesamiento de datos faltantes. \n",
    "2. Hay cuatro atributos predictores categóricos sin codificar.\n",
    "3. La variable objetivo es categórica y está sin codificar. (Codificar es representar sus valores de manera numérica) "
   ]
  },
  {
   "cell_type": "markdown",
   "id": "a9c340d5",
   "metadata": {},
   "source": [
    "# Lo que seguiremos en la metodología de modelación  \n",
    "\n",
    "1. Discover and visualize the data to gain insights.\n",
    "2. Prepare the data for Machine Learning algorithms.\n",
    "3. Select a model and train it.\n",
    "4. Fine-tune your model.\n",
    "5. Present your solution.\n",
    "6. Launch, monitor, and maintain your system."
   ]
  },
  {
   "cell_type": "markdown",
   "id": "5189c451",
   "metadata": {},
   "source": [
    "# Visualización de variables categóricas"
   ]
  },
  {
   "cell_type": "code",
   "execution_count": 24,
   "id": "fed83b45",
   "metadata": {},
   "outputs": [],
   "source": [
    "# Función para graficación personalizada de variables categóricas \n",
    "def grafico_de_barras(datos, atributo, nombre_de_los_datos):\n",
    "    '''\n",
    "    INPUT: \n",
    "        datos: una serie de pandas\n",
    "        atributo: el atributo que se quiere graficar, que va a ser una cadena de caracteres. \n",
    "        nombre_de_los_datos: como una cadena de caracteres. \n",
    "    '''\n",
    "    import matplotlib.pyplot as plt \n",
    "    plt.figure(figsize = (14, 6))\n",
    "    plt.title(f'Balance de {atributo} de clientes en el dataset {nombre_de_los_datos}')\n",
    "    plt.xlabel(f'{atributo}')\n",
    "    plt.ylabel('Número de clientes')\n",
    "    bar_colors = ['tab:green', 'tab:red', 'tab:pink']\n",
    "    plt.bar(x = datos[atributo].value_counts().index, height = datos[atributo].value_counts().values, \\\n",
    "    edgecolor = 'black', color = bar_colors)\n",
    "    plt.grid(alpha = 0.3)\n",
    "    plt.savefig(f\"C:/Users/marco/Documentos/extension/taller_g_lideres/6_pactica_ml/images/{atributo}.jpg\")\n",
    "    return df[f'{atributo}'].value_counts()\n",
    "    \n",
    "   \n",
    "    \n",
    "    # guardar con path /\n",
    "    # solicitar ubicación debe ser con \\"
   ]
  },
  {
   "cell_type": "code",
   "execution_count": 25,
   "id": "86c87c9b",
   "metadata": {},
   "outputs": [
    {
     "data": {
      "text/plain": [
       "Estado\n",
       "WV    158\n",
       "MN    125\n",
       "AL    124\n",
       "ID    119\n",
       "VA    118\n",
       "OH    116\n",
       "TX    116\n",
       "WY    115\n",
       "OR    114\n",
       "NY    114\n",
       "NJ    112\n",
       "UT    112\n",
       "WI    106\n",
       "ME    103\n",
       "MI    103\n",
       "MA    103\n",
       "MD    102\n",
       "VT    101\n",
       "MT     99\n",
       "KY     99\n",
       "RI     99\n",
       "CT     99\n",
       "MS     99\n",
       "KS     99\n",
       "IN     98\n",
       "WA     98\n",
       "CO     96\n",
       "NH     95\n",
       "DE     94\n",
       "MO     93\n",
       "AR     92\n",
       "NM     91\n",
       "SC     91\n",
       "NC     91\n",
       "OK     90\n",
       "NV     90\n",
       "FL     90\n",
       "AZ     89\n",
       "TN     89\n",
       "ND     88\n",
       "IL     88\n",
       "NE     88\n",
       "DC     88\n",
       "HI     86\n",
       "SD     85\n",
       "GA     83\n",
       "LA     82\n",
       "PA     77\n",
       "AK     72\n",
       "IA     69\n",
       "CA     52\n",
       "Name: count, dtype: int64"
      ]
     },
     "execution_count": 25,
     "metadata": {},
     "output_type": "execute_result"
    },
    {
     "data": {
      "image/png": "[encoded data removed]",
      "text/plain": [
       "<Figure size 1400x600 with 1 Axes>"
      ]
     },
     "metadata": {},
     "output_type": "display_data"
    }
   ],
   "source": [
    "grafico_de_barras(datos = df, atributo = 'Estado', nombre_de_los_datos='df')"
   ]
  },
  {
   "cell_type": "markdown",
   "id": "f845d9ee",
   "metadata": {},
   "source": [
    "## Inferencias de esta gráfico de barras  \n",
    "\n",
    "La variable de `Estado` tiene un número de valores muy grande, lo que hace necesario de que su codificación sea diferente a la codificación ordinaria y a la codificación one-hot. "
   ]
  },
  {
   "cell_type": "code",
   "execution_count": 26,
   "id": "fea90ed4",
   "metadata": {},
   "outputs": [
    {
     "data": {
      "text/plain": [
       "CodigoArea\n",
       "area_code_415    2495\n",
       "area_code_408    1259\n",
       "area_code_510    1246\n",
       "Name: count, dtype: int64"
      ]
     },
     "execution_count": 26,
     "metadata": {},
     "output_type": "execute_result"
    },
    {
     "data": {
      "image/png": "[encoded data removed]",
      "text/plain": [
       "<Figure size 1400x600 with 1 Axes>"
      ]
     },
     "metadata": {},
     "output_type": "display_data"
    }
   ],
   "source": [
    "grafico_de_barras(datos = df, atributo = 'CodigoArea', nombre_de_los_datos='df')"
   ]
  },
  {
   "cell_type": "markdown",
   "id": "24e4530a",
   "metadata": {},
   "source": [
    "## Inferencias de la visualización de esta variable categórica  \n",
    "\n",
    "1. "
   ]
  },
  {
   "cell_type": "code",
   "execution_count": null,
   "id": "ea368be6",
   "metadata": {},
   "outputs": [],
   "source": [
    "df.PlanInternacional.value_counts()"
   ]
  },
  {
   "cell_type": "code",
   "execution_count": null,
   "id": "571c3f52",
   "metadata": {},
   "outputs": [],
   "source": [
    "grafico_de_barras(atributo = 'PlanInternacional', datos = df, nombre_de_los_datos='df') "
   ]
  },
  {
   "cell_type": "code",
   "execution_count": null,
   "id": "9ee967f3",
   "metadata": {},
   "outputs": [],
   "source": [
    "df.PlanCorreoVoz.value_counts()"
   ]
  },
  {
   "cell_type": "code",
   "execution_count": null,
   "id": "573eff6d",
   "metadata": {},
   "outputs": [],
   "source": [
    "\n",
    "grafico_de_barras(atributo = 'PlanCorreoVoz',  datos = df, nombre_de_los_datos='df')    "
   ]
  },
  {
   "cell_type": "markdown",
   "id": "6e033753",
   "metadata": {},
   "source": [
    "### [Como cambiar la familia indexante y como guargar gráficos](https://www.youtube.com/watch?v=SaxAFtDh7Qk)"
   ]
  },
  {
   "cell_type": "markdown",
   "id": "582ef594",
   "metadata": {},
   "source": [
    "# Observemos a la variable objetivo "
   ]
  },
  {
   "cell_type": "code",
   "execution_count": 27,
   "id": "4da0191b",
   "metadata": {},
   "outputs": [
    {
     "data": {
      "text/plain": [
       "Desercion\n",
       "no     4115\n",
       "yes     885\n",
       "Name: count, dtype: int64"
      ]
     },
     "execution_count": 27,
     "metadata": {},
     "output_type": "execute_result"
    },
    {
     "data": {
      "image/png": "[encoded data removed]",
      "text/plain": [
       "<Figure size 1400x600 with 1 Axes>"
      ]
     },
     "metadata": {},
     "output_type": "display_data"
    }
   ],
   "source": [
    "grafico_de_barras(atributo = 'Desercion',  datos = df, nombre_de_los_datos='Análisis de Deserción')    "
   ]
  },
  {
   "cell_type": "markdown",
   "id": "dd25f602",
   "metadata": {},
   "source": [
    "# Visualización tabular de variables numéricas discretas y continuas \n",
    "\n"
   ]
  },
  {
   "cell_type": "code",
   "execution_count": 28,
   "id": "5862f21d",
   "metadata": {},
   "outputs": [
    {
     "data": {
      "text/html": [
       "<div>\n",
       "<style scoped>\n",
       "    .dataframe tbody tr th:only-of-type {\n",
       "        vertical-align: middle;\n",
       "    }\n",
       "\n",
       "    .dataframe tbody tr th {\n",
       "        vertical-align: top;\n",
       "    }\n",
       "\n",
       "    .dataframe thead th {\n",
       "        text-align: right;\n",
       "    }\n",
       "</style>\n",
       "<table border=\"1\" class=\"dataframe\">\n",
       "  <thead>\n",
       "    <tr style=\"text-align: right;\">\n",
       "      <th></th>\n",
       "      <th>Estado</th>\n",
       "      <th>LongitudCuenta</th>\n",
       "      <th>CodigoArea</th>\n",
       "      <th>PlanInternacional</th>\n",
       "      <th>PlanCorreoVoz</th>\n",
       "      <th>NumeroMensajesCorreoVoz</th>\n",
       "      <th>MinutosDiaTotales</th>\n",
       "      <th>LlamadasDiaTotales</th>\n",
       "      <th>CargosDiaTotales</th>\n",
       "      <th>MinutosTardeTotales</th>\n",
       "      <th>LlamadasTardeTotales</th>\n",
       "      <th>CargosTardeTotales</th>\n",
       "      <th>MinutosNocheTotales</th>\n",
       "      <th>LlamadasNocheTotales</th>\n",
       "      <th>CargosNocheTotales</th>\n",
       "      <th>MinInternacTotales</th>\n",
       "      <th>LlamadasInterncTotales</th>\n",
       "      <th>CargosInternacTotales</th>\n",
       "      <th>NumeroLlamadasAtencionClientes</th>\n",
       "      <th>Desercion</th>\n",
       "    </tr>\n",
       "  </thead>\n",
       "  <tbody>\n",
       "    <tr>\n",
       "      <th>count</th>\n",
       "      <td>5000</td>\n",
       "      <td>5000.00000</td>\n",
       "      <td>5000</td>\n",
       "      <td>5000</td>\n",
       "      <td>5000</td>\n",
       "      <td>5000.000000</td>\n",
       "      <td>5000.000000</td>\n",
       "      <td>5000.000000</td>\n",
       "      <td>5000.000000</td>\n",
       "      <td>5000.000000</td>\n",
       "      <td>5000.000000</td>\n",
       "      <td>5000.000000</td>\n",
       "      <td>5000.000000</td>\n",
       "      <td>5000.000000</td>\n",
       "      <td>5000.000000</td>\n",
       "      <td>5000.000000</td>\n",
       "      <td>5000.000000</td>\n",
       "      <td>5000.000000</td>\n",
       "      <td>5000.000000</td>\n",
       "      <td>5000</td>\n",
       "    </tr>\n",
       "    <tr>\n",
       "      <th>unique</th>\n",
       "      <td>51</td>\n",
       "      <td>NaN</td>\n",
       "      <td>3</td>\n",
       "      <td>2</td>\n",
       "      <td>2</td>\n",
       "      <td>NaN</td>\n",
       "      <td>NaN</td>\n",
       "      <td>NaN</td>\n",
       "      <td>NaN</td>\n",
       "      <td>NaN</td>\n",
       "      <td>NaN</td>\n",
       "      <td>NaN</td>\n",
       "      <td>NaN</td>\n",
       "      <td>NaN</td>\n",
       "      <td>NaN</td>\n",
       "      <td>NaN</td>\n",
       "      <td>NaN</td>\n",
       "      <td>NaN</td>\n",
       "      <td>NaN</td>\n",
       "      <td>2</td>\n",
       "    </tr>\n",
       "    <tr>\n",
       "      <th>top</th>\n",
       "      <td>WV</td>\n",
       "      <td>NaN</td>\n",
       "      <td>area_code_415</td>\n",
       "      <td>no</td>\n",
       "      <td>no</td>\n",
       "      <td>NaN</td>\n",
       "      <td>NaN</td>\n",
       "      <td>NaN</td>\n",
       "      <td>NaN</td>\n",
       "      <td>NaN</td>\n",
       "      <td>NaN</td>\n",
       "      <td>NaN</td>\n",
       "      <td>NaN</td>\n",
       "      <td>NaN</td>\n",
       "      <td>NaN</td>\n",
       "      <td>NaN</td>\n",
       "      <td>NaN</td>\n",
       "      <td>NaN</td>\n",
       "      <td>NaN</td>\n",
       "      <td>no</td>\n",
       "    </tr>\n",
       "    <tr>\n",
       "      <th>freq</th>\n",
       "      <td>158</td>\n",
       "      <td>NaN</td>\n",
       "      <td>2495</td>\n",
       "      <td>4527</td>\n",
       "      <td>3677</td>\n",
       "      <td>NaN</td>\n",
       "      <td>NaN</td>\n",
       "      <td>NaN</td>\n",
       "      <td>NaN</td>\n",
       "      <td>NaN</td>\n",
       "      <td>NaN</td>\n",
       "      <td>NaN</td>\n",
       "      <td>NaN</td>\n",
       "      <td>NaN</td>\n",
       "      <td>NaN</td>\n",
       "      <td>NaN</td>\n",
       "      <td>NaN</td>\n",
       "      <td>NaN</td>\n",
       "      <td>NaN</td>\n",
       "      <td>4115</td>\n",
       "    </tr>\n",
       "    <tr>\n",
       "      <th>mean</th>\n",
       "      <td>NaN</td>\n",
       "      <td>100.25860</td>\n",
       "      <td>NaN</td>\n",
       "      <td>NaN</td>\n",
       "      <td>NaN</td>\n",
       "      <td>7.755200</td>\n",
       "      <td>180.288900</td>\n",
       "      <td>100.029400</td>\n",
       "      <td>30.649668</td>\n",
       "      <td>200.636560</td>\n",
       "      <td>100.191000</td>\n",
       "      <td>17.054322</td>\n",
       "      <td>200.391620</td>\n",
       "      <td>99.919200</td>\n",
       "      <td>9.017732</td>\n",
       "      <td>10.261780</td>\n",
       "      <td>4.435200</td>\n",
       "      <td>2.771196</td>\n",
       "      <td>1.570400</td>\n",
       "      <td>NaN</td>\n",
       "    </tr>\n",
       "    <tr>\n",
       "      <th>std</th>\n",
       "      <td>NaN</td>\n",
       "      <td>39.69456</td>\n",
       "      <td>NaN</td>\n",
       "      <td>NaN</td>\n",
       "      <td>NaN</td>\n",
       "      <td>13.546393</td>\n",
       "      <td>53.894699</td>\n",
       "      <td>19.831197</td>\n",
       "      <td>9.162069</td>\n",
       "      <td>50.551309</td>\n",
       "      <td>19.826496</td>\n",
       "      <td>4.296843</td>\n",
       "      <td>50.527789</td>\n",
       "      <td>19.958686</td>\n",
       "      <td>2.273763</td>\n",
       "      <td>2.761396</td>\n",
       "      <td>2.456788</td>\n",
       "      <td>0.745514</td>\n",
       "      <td>1.306363</td>\n",
       "      <td>NaN</td>\n",
       "    </tr>\n",
       "    <tr>\n",
       "      <th>min</th>\n",
       "      <td>NaN</td>\n",
       "      <td>1.00000</td>\n",
       "      <td>NaN</td>\n",
       "      <td>NaN</td>\n",
       "      <td>NaN</td>\n",
       "      <td>0.000000</td>\n",
       "      <td>0.000000</td>\n",
       "      <td>0.000000</td>\n",
       "      <td>0.000000</td>\n",
       "      <td>0.000000</td>\n",
       "      <td>0.000000</td>\n",
       "      <td>0.000000</td>\n",
       "      <td>0.000000</td>\n",
       "      <td>0.000000</td>\n",
       "      <td>0.000000</td>\n",
       "      <td>0.000000</td>\n",
       "      <td>0.000000</td>\n",
       "      <td>0.000000</td>\n",
       "      <td>0.000000</td>\n",
       "      <td>NaN</td>\n",
       "    </tr>\n",
       "    <tr>\n",
       "      <th>25%</th>\n",
       "      <td>NaN</td>\n",
       "      <td>73.00000</td>\n",
       "      <td>NaN</td>\n",
       "      <td>NaN</td>\n",
       "      <td>NaN</td>\n",
       "      <td>0.000000</td>\n",
       "      <td>143.700000</td>\n",
       "      <td>87.000000</td>\n",
       "      <td>24.430000</td>\n",
       "      <td>166.375000</td>\n",
       "      <td>87.000000</td>\n",
       "      <td>14.140000</td>\n",
       "      <td>166.900000</td>\n",
       "      <td>87.000000</td>\n",
       "      <td>7.510000</td>\n",
       "      <td>8.500000</td>\n",
       "      <td>3.000000</td>\n",
       "      <td>2.300000</td>\n",
       "      <td>1.000000</td>\n",
       "      <td>NaN</td>\n",
       "    </tr>\n",
       "    <tr>\n",
       "      <th>50%</th>\n",
       "      <td>NaN</td>\n",
       "      <td>100.00000</td>\n",
       "      <td>NaN</td>\n",
       "      <td>NaN</td>\n",
       "      <td>NaN</td>\n",
       "      <td>0.000000</td>\n",
       "      <td>180.100000</td>\n",
       "      <td>100.000000</td>\n",
       "      <td>30.620000</td>\n",
       "      <td>201.000000</td>\n",
       "      <td>100.000000</td>\n",
       "      <td>17.090000</td>\n",
       "      <td>200.400000</td>\n",
       "      <td>100.000000</td>\n",
       "      <td>9.020000</td>\n",
       "      <td>10.300000</td>\n",
       "      <td>4.000000</td>\n",
       "      <td>2.780000</td>\n",
       "      <td>1.000000</td>\n",
       "      <td>NaN</td>\n",
       "    </tr>\n",
       "    <tr>\n",
       "      <th>75%</th>\n",
       "      <td>NaN</td>\n",
       "      <td>127.00000</td>\n",
       "      <td>NaN</td>\n",
       "      <td>NaN</td>\n",
       "      <td>NaN</td>\n",
       "      <td>17.000000</td>\n",
       "      <td>216.200000</td>\n",
       "      <td>113.000000</td>\n",
       "      <td>36.750000</td>\n",
       "      <td>234.100000</td>\n",
       "      <td>114.000000</td>\n",
       "      <td>19.900000</td>\n",
       "      <td>234.700000</td>\n",
       "      <td>113.000000</td>\n",
       "      <td>10.560000</td>\n",
       "      <td>12.000000</td>\n",
       "      <td>6.000000</td>\n",
       "      <td>3.240000</td>\n",
       "      <td>2.000000</td>\n",
       "      <td>NaN</td>\n",
       "    </tr>\n",
       "    <tr>\n",
       "      <th>max</th>\n",
       "      <td>NaN</td>\n",
       "      <td>243.00000</td>\n",
       "      <td>NaN</td>\n",
       "      <td>NaN</td>\n",
       "      <td>NaN</td>\n",
       "      <td>52.000000</td>\n",
       "      <td>351.500000</td>\n",
       "      <td>165.000000</td>\n",
       "      <td>59.760000</td>\n",
       "      <td>363.700000</td>\n",
       "      <td>170.000000</td>\n",
       "      <td>30.910000</td>\n",
       "      <td>395.000000</td>\n",
       "      <td>175.000000</td>\n",
       "      <td>17.770000</td>\n",
       "      <td>20.000000</td>\n",
       "      <td>20.000000</td>\n",
       "      <td>5.400000</td>\n",
       "      <td>9.000000</td>\n",
       "      <td>NaN</td>\n",
       "    </tr>\n",
       "  </tbody>\n",
       "</table>\n",
       "</div>"
      ],
      "text/plain": [
       "       Estado  LongitudCuenta     CodigoArea PlanInternacional PlanCorreoVoz  \\\n",
       "count    5000      5000.00000           5000              5000          5000   \n",
       "unique     51             NaN              3                 2             2   \n",
       "top        WV             NaN  area_code_415                no            no   \n",
       "freq      158             NaN           2495              4527          3677   \n",
       "mean      NaN       100.25860            NaN               NaN           NaN   \n",
       "std       NaN        39.69456            NaN               NaN           NaN   \n",
       "min       NaN         1.00000            NaN               NaN           NaN   \n",
       "25%       NaN        73.00000            NaN               NaN           NaN   \n",
       "50%       NaN       100.00000            NaN               NaN           NaN   \n",
       "75%       NaN       127.00000            NaN               NaN           NaN   \n",
       "max       NaN       243.00000            NaN               NaN           NaN   \n",
       "\n",
       "        NumeroMensajesCorreoVoz  MinutosDiaTotales  LlamadasDiaTotales  \\\n",
       "count               5000.000000        5000.000000         5000.000000   \n",
       "unique                      NaN                NaN                 NaN   \n",
       "top                         NaN                NaN                 NaN   \n",
       "freq                        NaN                NaN                 NaN   \n",
       "mean                   7.755200         180.288900          100.029400   \n",
       "std                   13.546393          53.894699           19.831197   \n",
       "min                    0.000000           0.000000            0.000000   \n",
       "25%                    0.000000         143.700000           87.000000   \n",
       "50%                    0.000000         180.100000          100.000000   \n",
       "75%                   17.000000         216.200000          113.000000   \n",
       "max                   52.000000         351.500000          165.000000   \n",
       "\n",
       "        CargosDiaTotales  MinutosTardeTotales  LlamadasTardeTotales  \\\n",
       "count        5000.000000          5000.000000           5000.000000   \n",
       "unique               NaN                  NaN                   NaN   \n",
       "top                  NaN                  NaN                   NaN   \n",
       "freq                 NaN                  NaN                   NaN   \n",
       "mean           30.649668           200.636560            100.191000   \n",
       "std             9.162069            50.551309             19.826496   \n",
       "min             0.000000             0.000000              0.000000   \n",
       "25%            24.430000           166.375000             87.000000   \n",
       "50%            30.620000           201.000000            100.000000   \n",
       "75%            36.750000           234.100000            114.000000   \n",
       "max            59.760000           363.700000            170.000000   \n",
       "\n",
       "        CargosTardeTotales  MinutosNocheTotales  LlamadasNocheTotales  \\\n",
       "count          5000.000000          5000.000000           5000.000000   \n",
       "unique                 NaN                  NaN                   NaN   \n",
       "top                    NaN                  NaN                   NaN   \n",
       "freq                   NaN                  NaN                   NaN   \n",
       "mean             17.054322           200.391620             99.919200   \n",
       "std               4.296843            50.527789             19.958686   \n",
       "min               0.000000             0.000000              0.000000   \n",
       "25%              14.140000           166.900000             87.000000   \n",
       "50%              17.090000           200.400000            100.000000   \n",
       "75%              19.900000           234.700000            113.000000   \n",
       "max              30.910000           395.000000            175.000000   \n",
       "\n",
       "        CargosNocheTotales  MinInternacTotales  LlamadasInterncTotales  \\\n",
       "count          5000.000000         5000.000000             5000.000000   \n",
       "unique                 NaN                 NaN                     NaN   \n",
       "top                    NaN                 NaN                     NaN   \n",
       "freq                   NaN                 NaN                     NaN   \n",
       "mean              9.017732           10.261780                4.435200   \n",
       "std               2.273763            2.761396                2.456788   \n",
       "min               0.000000            0.000000                0.000000   \n",
       "25%               7.510000            8.500000                3.000000   \n",
       "50%               9.020000           10.300000                4.000000   \n",
       "75%              10.560000           12.000000                6.000000   \n",
       "max              17.770000           20.000000               20.000000   \n",
       "\n",
       "        CargosInternacTotales  NumeroLlamadasAtencionClientes Desercion  \n",
       "count             5000.000000                     5000.000000      5000  \n",
       "unique                    NaN                             NaN         2  \n",
       "top                       NaN                             NaN        no  \n",
       "freq                      NaN                             NaN      4115  \n",
       "mean                 2.771196                        1.570400       NaN  \n",
       "std                  0.745514                        1.306363       NaN  \n",
       "min                  0.000000                        0.000000       NaN  \n",
       "25%                  2.300000                        1.000000       NaN  \n",
       "50%                  2.780000                        1.000000       NaN  \n",
       "75%                  3.240000                        2.000000       NaN  \n",
       "max                  5.400000                        9.000000       NaN  "
      ]
     },
     "execution_count": 28,
     "metadata": {},
     "output_type": "execute_result"
    }
   ],
   "source": [
    "# Histogramas de variables aleatorias numéricas discretas y continuas \n",
    "df.describe(include='all')  "
   ]
  },
  {
   "cell_type": "markdown",
   "id": "d4dc69cb",
   "metadata": {},
   "source": [
    "# Visualización Gráfica de variables cuantitativas usando Pandas y matplotlib "
   ]
  },
  {
   "cell_type": "code",
   "execution_count": 29,
   "id": "0d6e91b3",
   "metadata": {},
   "outputs": [
    {
     "data": {
      "image/png": "[encoded data removed]",
      "text/plain": [
       "<Figure size 2000x1200 with 16 Axes>"
      ]
     },
     "metadata": {},
     "output_type": "display_data"
    }
   ],
   "source": [
    "# Matriz de histogramas\n",
    "import matplotlib.pyplot as plt \n",
    "df.hist(bins = 50, figsize=(20,12))\n",
    "plt.show()"
   ]
  },
  {
   "cell_type": "markdown",
   "id": "28ffb599",
   "metadata": {},
   "source": [
    "## Conclusiones o Inferencias de la visualización de variables cuantitativas continuas  \n",
    "\n",
    "1. Casi todas las variables numéricas predictoras, tiene un distribución acampanada  \n",
    "2. Los rangos de estos variables son de valores distante y\n",
    "3. los valores de algunas de las variables son muy grandes o otros muy pequeños.  "
   ]
  },
  {
   "cell_type": "markdown",
   "id": "d934e2f2",
   "metadata": {},
   "source": [
    "La distribución acampanada de los atributos predictores, que típicamente se refiere a una **distribución normal (o gaussiana)**, influye en el desempeño de los modelos de machine learning de diversas maneras, dependiendo del tipo de modelo y del contexto de los datos."
   ]
  },
  {
   "cell_type": "markdown",
   "id": "3ba11a60",
   "metadata": {},
   "source": [
    " Aquí algunos puntos clave:\n"
   ]
  },
  {
   "cell_type": "markdown",
   "id": "629a8435",
   "metadata": {},
   "source": [
    "\n",
    "### 1. **Modelos Lineales y Estadísticos**:\n",
    "   - **Regresión lineal** y otros modelos estadísticos que asumen relaciones lineales entre las variables suelen beneficiarse cuando los predictores tienen distribuciones normales. Esto se debe a que la normalidad en los predictores favorece la convergencia de los algoritmos de optimización y garantiza que los residuos (errores) tengan una distribución más predecible, lo que mejora las inferencias y la interpretación del modelo.\n"
   ]
  },
  {
   "cell_type": "markdown",
   "id": "a1d4865e",
   "metadata": {},
   "source": [
    "   - Además, la normalidad de los predictores minimiza el **sesgo** y la **varianza**, lo que puede llevar a un mejor ajuste del modelo y una mayor robustez frente a ruido en los datos.\n"
   ]
  },
  {
   "cell_type": "markdown",
   "id": "cb8f737e",
   "metadata": {},
   "source": [
    "\n",
    "### 2. **Algoritmos Basados en Distancia**:\n",
    "   - Modelos como el **k-nearest neighbors (k-NN)** o **máquinas de soporte vectorial (SVM)** con kernels lineales tienden a desempeñarse mejor cuando las variables tienen distribuciones simétricas y sin sesgos. Una distribución normal permite que las distancias entre puntos de datos se calculen de manera más consistente, lo que facilita la separación o clasificación de los datos.\n"
   ]
  },
  {
   "cell_type": "markdown",
   "id": "5c4975c1",
   "metadata": {},
   "source": [
    "   - Si los atributos tienen distribuciones muy desbalanceadas o sesgadas, estos modelos podrían sobreponderar ciertas características, afectando negativamente su desempeño.\n"
   ]
  },
  {
   "cell_type": "markdown",
   "id": "cc33db45",
   "metadata": {},
   "source": [
    "\n",
    "### 3. **Redes Neuronales y Modelos Complejos**:\n",
    "   - Aunque **redes neuronales** y otros algoritmos más complejos como **árboles de decisión** o **random forests** no necesariamente requieren que los datos sean normalmente distribuidos, una distribución acampanada puede facilitar el entrenamiento porque **evita valores extremos** que pueden distorsionar el aprendizaje.\n",
    "   - Sin embargo, estos modelos son más robustos frente a la no normalidad de los datos, ya que no dependen de suposiciones estrictas sobre la distribución de los predictores.\n"
   ]
  },
  {
   "cell_type": "markdown",
   "id": "424b8941",
   "metadata": {},
   "source": [
    "\n",
    "### 4. **Normalización y Estandarización**:\n",
    "   - Incluso si un predictor no sigue una distribución acampanada, los pasos de **normalización** (escala [0,1]) o **estandarización** (centrado en 0, con desviación estándar 1) pueden ayudar a mejorar el rendimiento de muchos algoritmos. "
   ]
  },
  {
   "cell_type": "markdown",
   "id": "5cfa3948",
   "metadata": {},
   "source": [
    "La estandarización convierte los datos en algo más cercano a una distribución normal, lo cual es particularmente útil para algoritmos como **regresión logística**, **SVM**, y **algoritmos basados en gradiente**.\n",
    "   - Las distribuciones normales son ideales para estos procesos porque facilitan la transformación a escalas comparables sin la necesidad de grandes ajustes o transformaciones.\n"
   ]
  },
  {
   "cell_type": "markdown",
   "id": "50774e8b",
   "metadata": {},
   "source": [
    "\n",
    "### 5. **Ruido y Outliers**:\n",
    "   - Una distribución acampanada suele implicar una menor presencia de **outliers** (valores atípicos), lo cual es beneficioso para el rendimiento de los modelos de machine learning. Los outliers pueden desestabilizar muchos algoritmos, especialmente los que dependen de cálculos de distancia o que son sensibles a los valores extremos (como la regresión lineal). \n"
   ]
  },
  {
   "cell_type": "markdown",
   "id": "30d03c1a",
   "metadata": {},
   "source": [
    "\n",
    "### Resumen:\n",
    "En general, una distribución acampanada (normal) de los atributos predictores puede mejorar el desempeño de los modelos de machine learning, especialmente aquellos que dependen de suposiciones estadísticas sobre los datos o que son sensibles a la escala y la varianza. Para modelos complejos, aunque no es un requisito estricto, puede simplificar el proceso de entrenamiento y mejorar la eficiencia de los algoritmos."
   ]
  },
  {
   "cell_type": "markdown",
   "id": "299a8b6c",
   "metadata": {},
   "source": [
    "# Seleccionar el conjunto de prueba o testeo con muestreo puramente aleatorio"
   ]
  },
  {
   "cell_type": "code",
   "execution_count": 30,
   "id": "cf3455ba",
   "metadata": {},
   "outputs": [],
   "source": [
    "from sklearn.model_selection import train_test_split\n",
    "train_set, test_set = train_test_split(df, test_size=0.2, random_state=None, stratify=None)\n",
    "\n",
    "# Tarea: Lea sobre la función `sklearn.train_test_split()`"
   ]
  },
  {
   "cell_type": "markdown",
   "id": "b38ea79c",
   "metadata": {},
   "source": [
    "# Imagen de un train set y un test set \n",
    "\n",
    "<img src = 'https://encrypted-tbn0.gstatic.com/images?q=tbn:ANd9GcRs2aoO8J1-yzMcCUqY8t_zD1PZ5vbqD0e4LQ&s'>"
   ]
  },
  {
   "cell_type": "code",
   "execution_count": null,
   "id": "504fd013",
   "metadata": {},
   "outputs": [],
   "source": [
    "# verificación de la mezcla aleatoria\n",
    "train_set"
   ]
  },
  {
   "cell_type": "code",
   "execution_count": null,
   "id": "bf1e6f9b",
   "metadata": {},
   "outputs": [],
   "source": [
    "# Verificación gráfica del muestreo aleatorio\n",
    "\n",
    "grafico_de_barras(datos = train_set, atributo = 'Desercion', nombre_de_los_datos='train_set') "
   ]
  },
  {
   "cell_type": "markdown",
   "id": "9182d5be",
   "metadata": {},
   "source": [
    "# Muestreo estratificado"
   ]
  },
  {
   "cell_type": "markdown",
   "id": "7ec4e336",
   "metadata": {},
   "source": [
    "<img src = 'https://tesisdeceroa100.com/wp-content/uploads/2020/01/muestreo-estatificado-1-1.jpg'>"
   ]
  },
  {
   "cell_type": "code",
   "execution_count": 31,
   "id": "beb17ab7",
   "metadata": {},
   "outputs": [],
   "source": [
    "from sklearn.model_selection import train_test_split\n",
    "train_set, test_set = train_test_split(df, test_size=0.2, random_state=None, stratify=df['Desercion'])\n"
   ]
  },
  {
   "cell_type": "code",
   "execution_count": 32,
   "id": "aef88712",
   "metadata": {},
   "outputs": [
    {
     "data": {
      "text/plain": [
       "Desercion\n",
       "no     4115\n",
       "yes     885\n",
       "Name: count, dtype: int64"
      ]
     },
     "execution_count": 32,
     "metadata": {},
     "output_type": "execute_result"
    },
    {
     "data": {
      "image/png": "[encoded data removed]",
      "text/plain": [
       "<Figure size 1400x600 with 1 Axes>"
      ]
     },
     "metadata": {},
     "output_type": "display_data"
    }
   ],
   "source": [
    "grafico_de_barras(datos = train_set, atributo = 'Desercion', nombre_de_los_datos='train_set') "
   ]
  },
  {
   "cell_type": "code",
   "execution_count": 33,
   "id": "8d828798",
   "metadata": {},
   "outputs": [
    {
     "data": {
      "text/plain": [
       "Desercion\n",
       "no     0.823\n",
       "yes    0.177\n",
       "Name: count, dtype: float64"
      ]
     },
     "execution_count": 33,
     "metadata": {},
     "output_type": "execute_result"
    }
   ],
   "source": [
    "train_set['Desercion'].value_counts()/len(train_set)"
   ]
  },
  {
   "cell_type": "markdown",
   "id": "660b6982",
   "metadata": {},
   "source": [
    "# Codificación de la variable objetivo  en el conjunto de entrenamiento y el conjunto de testeo"
   ]
  },
  {
   "cell_type": "code",
   "execution_count": 34,
   "id": "2b876ba0",
   "metadata": {},
   "outputs": [],
   "source": [
    "train_set['Desercion'] = (train_set['Desercion'] == 'yes')*1\n",
    "test_set['Desercion'] = (test_set['Desercion'] == 'yes')*1 \n",
    "\n"
   ]
  },
  {
   "cell_type": "markdown",
   "id": "332d1914",
   "metadata": {},
   "source": [
    "# Construir una lista con los atributos predictores categóricos "
   ]
  },
  {
   "cell_type": "code",
   "execution_count": 35,
   "id": "512b0a11",
   "metadata": {},
   "outputs": [
    {
     "data": {
      "text/plain": [
       "['Estado', 'CodigoArea', 'PlanInternacional', 'PlanCorreoVoz']"
      ]
     },
     "execution_count": 35,
     "metadata": {},
     "output_type": "execute_result"
    }
   ],
   "source": [
    "# Tarea, consulte sobre las propiedades de la función remove() para listas de python. Esta función modifica la lista in-place, \n",
    "# es decir, modifica la lista original sin devolver ningín valor \n",
    "atributos_categoricos = df.select_dtypes(include='object')\n",
    "atributos_categoricos = list(atributos_categoricos)  # Convertir a lista si no lo es\n",
    "atributos_categoricos.remove('Desercion')  # Eliminar 'Desercion' de la lista\n",
    "atributos_categoricos"
   ]
  },
  {
   "cell_type": "code",
   "execution_count": 36,
   "id": "f68b582e",
   "metadata": {},
   "outputs": [
    {
     "name": "stdout",
     "output_type": "stream",
     "text": [
      "<class 'pandas.core.frame.DataFrame'>\n",
      "Index: 4000 entries, 1951 to 2049\n",
      "Data columns (total 20 columns):\n",
      " #   Column                          Non-Null Count  Dtype  \n",
      "---  ------                          --------------  -----  \n",
      " 0   Estado                          4000 non-null   object \n",
      " 1   LongitudCuenta                  4000 non-null   int64  \n",
      " 2   CodigoArea                      4000 non-null   object \n",
      " 3   PlanInternacional               4000 non-null   object \n",
      " 4   PlanCorreoVoz                   4000 non-null   object \n",
      " 5   NumeroMensajesCorreoVoz         4000 non-null   int64  \n",
      " 6   MinutosDiaTotales               4000 non-null   float64\n",
      " 7   LlamadasDiaTotales              4000 non-null   int64  \n",
      " 8   CargosDiaTotales                4000 non-null   float64\n",
      " 9   MinutosTardeTotales             4000 non-null   float64\n",
      " 10  LlamadasTardeTotales            4000 non-null   int64  \n",
      " 11  CargosTardeTotales              4000 non-null   float64\n",
      " 12  MinutosNocheTotales             4000 non-null   float64\n",
      " 13  LlamadasNocheTotales            4000 non-null   int64  \n",
      " 14  CargosNocheTotales              4000 non-null   float64\n",
      " 15  MinInternacTotales              4000 non-null   float64\n",
      " 16  LlamadasInterncTotales          4000 non-null   int64  \n",
      " 17  CargosInternacTotales           4000 non-null   float64\n",
      " 18  NumeroLlamadasAtencionClientes  4000 non-null   int64  \n",
      " 19  Desercion                       4000 non-null   int64  \n",
      "dtypes: float64(8), int64(8), object(4)\n",
      "memory usage: 656.2+ KB\n"
     ]
    }
   ],
   "source": [
    "train_set.info()"
   ]
  },
  {
   "cell_type": "markdown",
   "id": "df49faaa",
   "metadata": {},
   "source": [
    "# Hacer una copia del conjunto de entrenamiento"
   ]
  },
  {
   "cell_type": "code",
   "execution_count": 37,
   "id": "3d8f983a",
   "metadata": {},
   "outputs": [],
   "source": [
    "df_train = train_set.copy()\n",
    "df_test = test_set.copy()"
   ]
  },
  {
   "cell_type": "markdown",
   "id": "8f4d6686",
   "metadata": {},
   "source": [
    "# Análisis de correlaciones  \n"
   ]
  },
  {
   "cell_type": "code",
   "execution_count": 38,
   "id": "5899658c",
   "metadata": {},
   "outputs": [
    {
     "data": {
      "text/plain": [
       "Desercion\n",
       "0    0.823\n",
       "1    0.177\n",
       "Name: count, dtype: float64"
      ]
     },
     "execution_count": 38,
     "metadata": {},
     "output_type": "execute_result"
    }
   ],
   "source": [
    "df_train.Desercion.value_counts()/len(df_train)"
   ]
  },
  {
   "cell_type": "markdown",
   "id": "42b49e25",
   "metadata": {},
   "source": [
    "# La correlación de punto biserial "
   ]
  },
  {
   "cell_type": "markdown",
   "id": "a2a57b0c",
   "metadata": {},
   "source": [
    "La **correlación de punto biserial** es una técnica que mide la relación entre una variable cuantitativa continua y una variable binaria (categórica con dos posibles valores, como 0 y 1). "
   ]
  },
  {
   "cell_type": "markdown",
   "id": "a908764a",
   "metadata": {},
   "source": [
    "Se puede considerar como una forma especial de la correlación de Pearson, adaptada para variables binarias. \n"
   ]
  },
  {
   "cell_type": "markdown",
   "id": "fe177391",
   "metadata": {},
   "source": [
    "\n",
    "### Fórmula de la correlación de punto biserial\n",
    "\n",
    "La fórmula es:\n",
    "\n",
    "$$\n",
    "r_{pb} = \\frac{M_1 - M_0}{s} \\sqrt{\\frac{p(1 - p)}{n}}\n",
    "$$\n"
   ]
  },
  {
   "cell_type": "markdown",
   "id": "79a01973",
   "metadata": {},
   "source": [
    "\n",
    "Donde:\n",
    "- $M_1$ es la media de la variable cuantitativa para los casos donde la variable binaria es 1.\n",
    "- $M_0$ es la media de la variable cuantitativa para los casos donde la variable binaria es 0.\n",
    "- $s$ es la desviación estándar total de la variable cuantitativa.\n",
    "- $p$ es la proporción de casos en la categoría 1.\n",
    "- $n$ es el tamaño total de la muestra.\n"
   ]
  },
  {
   "cell_type": "markdown",
   "id": "25a49488",
   "metadata": {},
   "source": [
    "\n",
    "### Interpretación\n",
    "El coeficiente de correlación de punto biserial $r_{pb}$ oscila entre -1 y 1:\n",
    "- Un valor cercano a 1 indica una fuerte correlación positiva.\n",
    "- Un valor cercano a -1 indica una fuerte correlación negativa.\n",
    "- Un valor cercano a 0 indica una correlación débil o nula.\n"
   ]
  },
  {
   "cell_type": "markdown",
   "id": "a7dd7c65",
   "metadata": {},
   "source": [
    "\n",
    "### Implementación en Python\n",
    "\n",
    "En Python, puedes implementar la correlación de punto biserial usando bibliotecas como `scipy` o `pandas` para manejar los datos. A continuación te doy un ejemplo paso a paso.\n"
   ]
  },
  {
   "cell_type": "code",
   "execution_count": null,
   "id": "fdc15d94",
   "metadata": {},
   "outputs": [],
   "source": [
    "df_train.drop(atributos_categoricos, axis = 1).columns "
   ]
  },
  {
   "cell_type": "markdown",
   "id": "ee517e31",
   "metadata": {},
   "source": [
    "\n",
    "Luego, puedes usar el siguiente código:\n"
   ]
  },
  {
   "cell_type": "code",
   "execution_count": null,
   "id": "a2903ccd",
   "metadata": {},
   "outputs": [],
   "source": [
    "import numpy as np\n",
    "import pandas as pd\n",
    "from scipy import stats\n",
    "\n",
    "# Calculamos la correlación de punto biserial usando scipy\n",
    "corr_punto_biserial, p_valor = stats.pointbiserialr(df_train['Desercion'], df_train.NumeroMensajesCorreoVoz)\n",
    "\n",
    "# Mostramos los resultados\n",
    "print(f\"Correlación de punto biserial: {corr_punto_biserial}\")\n",
    "if p_valor < 0.05:\n",
    "    print(f\"\"\"Valor p: {p_valor}, altamente significativa desde el punto de vista estadístico. \n",
    "          En otras palabras, es muy improbable que la correlación que observaste haya ocurrido por azar.\"\"\")\n",
    "\n"
   ]
  },
  {
   "cell_type": "markdown",
   "id": "b04a9bf9",
   "metadata": {},
   "source": [
    "La salida que obtuviste al aplicar la función `stats.pointbiserialr()` te proporciona dos valores importantes: el coeficiente de correlación de punto biserial (`rpb`) y el valor p asociado.\n",
    "\n",
    "### 1. **Correlación de punto biserial (`rpb`)**: \n",
    "Este valor mide la relación lineal entre una variable continua y una variable binaria (con solo dos posibles valores). En tu caso, el valor es:\n",
    "\n",
    "```\n",
    "Correlación de punto biserial: 0.01506735058830074\n",
    "```\n"
   ]
  },
  {
   "cell_type": "markdown",
   "id": "7cfeacea",
   "metadata": {},
   "source": [
    "\n",
    "- **Interpretación del valor**: \n",
    "  - El valor de la correlación está cerca de 0, lo que sugiere que prácticamente no hay una relación lineal entre las dos variables.\n",
    "  - Un valor de 0 indicaría que no hay correlación, mientras que un valor cercano a 1 o -1 indicaría una correlación positiva o negativa fuerte, respectivamente. En tu caso, un valor tan bajo (aproximadamente 0.015) implica una correlación muy débil o inexistente.\n",
    "\n",
    "### 2. **Valor p (`p-value`)**:\n",
    "Este valor te indica si la correlación observada es estadísticamente significativa. El valor que obtuviste es:\n",
    "\n",
    "```\n",
    "Valor p: 0.34074251800003136\n",
    "```\n"
   ]
  },
  {
   "cell_type": "markdown",
   "id": "a28f7448",
   "metadata": {},
   "source": [
    "\n",
    "- **Interpretación del valor p**:\n",
    "  - El valor p te ayuda a determinar si la correlación observada es significativa. Generalmente, se utiliza un umbral de significancia del 5% (es decir, un valor p menor a 0.05) para considerar que la correlación es significativa.\n",
    "  - En tu caso, el valor p es 0.34, mucho mayor que 0.05. Esto significa que **no hay evidencia estadística** para rechazar la hipótesis nula, que en este contexto es que **no hay correlación** entre las dos variables.\n",
    "\n",
    "### Conclusión:\n",
    "- La **correlación** es muy baja (casi inexistente).\n",
    "- El **valor p** indica que la correlación observada no es estadísticamente significativa.\n",
    "  \n",
    "En resumen, no parece haber una relación lineal significativa entre tu variable continua y tu variable binaria. Por lo tanto, cualquier correlación que exista probablemente sea debida al azar."
   ]
  },
  {
   "cell_type": "markdown",
   "id": "6ce97c3c",
   "metadata": {},
   "source": [
    "\n",
    "### Explicación del código:\n",
    "\n",
    "1. **Datos de ejemplo**: \n",
    "   - Creamos un `DataFrame` con dos columnas: una con la variable binaria `var_binaria` y otra con la variable cuantitativa `var_cuantitativa`.\n",
    "\n",
    "2. **Cálculo de la correlación**: \n",
    "   - Usamos la función `pointbiserialr` de `scipy.stats` que toma como argumentos la variable binaria y la cuantitativa, y devuelve el coeficiente de correlación y el valor p asociado, que nos indica si la correlación es estadísticamente significativa.\n",
    "\n",
    "3. **Resultados**: \n",
    "   - Imprimimos la correlación de punto biserial y el valor p para evaluar si la relación es significativa.\n",
    "\n",
    "#### Ejemplo de salida:\n",
    "\n",
    "```\n",
    "Correlación de punto biserial: 0.834\n",
    "Valor p: 0.001\n",
    "```\n",
    "\n",
    "En este caso, una correlación positiva indica que a medida que la variable binaria toma el valor de 1, la variable cuantitativa tiende a aumentar.\n",
    "\n",
    "### Interpretación del valor p:\n",
    "- Si el valor p es menor a un umbral de significancia (por ejemplo, 0.05), se puede considerar que la correlación es estadísticamente significativa. En el ejemplo anterior, un valor p de 0.001 sugiere que la correlación observada no se debe al azar.\n",
    "\n",
    "¿Te gustaría hacer alguna prueba con tus datos o necesitas más detalles?"
   ]
  },
  {
   "cell_type": "markdown",
   "id": "c690508c",
   "metadata": {},
   "source": [
    "<img src = 'https://upload.wikimedia.org/wikipedia/commons/thumb/d/d4/Correlation_examples2.svg/600px-Correlation_examples2.svg.png' width = 600>"
   ]
  },
  {
   "cell_type": "markdown",
   "id": "53876c52",
   "metadata": {},
   "source": [
    "df.columns "
   ]
  },
  {
   "cell_type": "code",
   "execution_count": null,
   "id": "8ba67062",
   "metadata": {},
   "outputs": [],
   "source": [
    "import matplotlib.pyplot as plt \n",
    "from pandas.plotting import scatter_matrix\n",
    "attributes_parte_1 = [elemento for elemento in list(df.columns) if elemento not in atributos_categoricos][:4]\n",
    "attributes_parte_2 = [elemento for elemento in list(df.columns) if elemento not in atributos_categoricos][4:8]\n",
    "attributes_parte_3 = [elemento for elemento in list(df.columns) if elemento not in atributos_categoricos][8:12]       \n",
    "attributes_parte_4 = [elemento for elemento in list(df.columns) if elemento not in atributos_categoricos][12:]\n",
    "\n",
    "scatter_matrix(df[attributes_parte_1], figsize=(14, 10))\n",
    "plt.show() "
   ]
  },
  {
   "cell_type": "code",
   "execution_count": null,
   "id": "a82ad45a",
   "metadata": {},
   "outputs": [],
   "source": [
    "df[attributes_parte_1].corr()"
   ]
  },
  {
   "cell_type": "code",
   "execution_count": null,
   "id": "e9d47e0d",
   "metadata": {},
   "outputs": [],
   "source": [
    "scatter_matrix(df[attributes_parte_2], figsize=(14, 10))\n",
    "\n",
    "plt.show()"
   ]
  },
  {
   "cell_type": "code",
   "execution_count": null,
   "id": "fca7f7c3",
   "metadata": {},
   "outputs": [],
   "source": [
    "scatter_matrix(df[attributes_parte_3], figsize=(14, 10))\n",
    "\n",
    "plt.show() "
   ]
  },
  {
   "cell_type": "code",
   "execution_count": null,
   "id": "f752dc29",
   "metadata": {},
   "outputs": [],
   "source": [
    "scatter_matrix(df[attributes_parte_4], figsize=(14, 10))\n",
    "\n",
    "plt.show() "
   ]
  },
  {
   "cell_type": "code",
   "execution_count": null,
   "id": "aec5e50d",
   "metadata": {},
   "outputs": [],
   "source": [
    "df_train"
   ]
  },
  {
   "cell_type": "markdown",
   "id": "aaae4df7",
   "metadata": {},
   "source": [
    "# Diagrama de dispersión individual "
   ]
  },
  {
   "cell_type": "code",
   "execution_count": null,
   "id": "444bb097",
   "metadata": {},
   "outputs": [],
   "source": [
    "df.plot(kind=\"scatter\", x=df_train.columns[0], y=df_train.columns[1], alpha=0.1, \\\n",
    "    title = f'Grafico de {df_train.columns[0]} vs {df_train.columns[1]}')\n"
   ]
  },
  {
   "cell_type": "markdown",
   "id": "8230e998",
   "metadata": {},
   "source": [
    "## Recomendación: Experimente con combinación de atributos \n",
    "\n",
    "Ejemplo: Página 65 de Geron. "
   ]
  },
  {
   "cell_type": "markdown",
   "id": "31afb20f",
   "metadata": {},
   "source": [
    "# Preparemos ahora los datos para los algoritmos de machine learning "
   ]
  },
  {
   "cell_type": "code",
   "execution_count": 42,
   "id": "b17d37a0",
   "metadata": {},
   "outputs": [],
   "source": [
    "# Dividir en predictores y etiquetas.  \n",
    "\n",
    "df_train_atributos = df_train.drop(\"Desercion\", axis=1)\n",
    "df_train_labels = df_train[\"Desercion\"].copy()\n",
    "df_test_atributos = df_test.drop(\"Desercion\", axis=1)\n",
    "df_test_labels = df_test[\"Desercion\"].copy()"
   ]
  },
  {
   "cell_type": "code",
   "execution_count": null,
   "id": "2b779824",
   "metadata": {},
   "outputs": [],
   "source": [
    "df_train_atributos.info()"
   ]
  },
  {
   "cell_type": "markdown",
   "id": "a4e19f24",
   "metadata": {},
   "source": [
    "# Data Cleaning "
   ]
  },
  {
   "cell_type": "code",
   "execution_count": null,
   "id": "5c7e2bd8",
   "metadata": {},
   "outputs": [],
   "source": [
    "#housing.dropna(subset=[\"total_bedrooms\"]) # option 1\n",
    "#housing.drop(\"total_bedrooms\", axis=1) # option 2\n",
    "#median = housing[\"total_bedrooms\"].median() # option 3\n",
    "#housing[\"total_bedrooms\"].fillna(median, inplace=True)"
   ]
  },
  {
   "cell_type": "markdown",
   "id": "9649bf81",
   "metadata": {},
   "source": [
    "# Tratamiento de datos categóricos  "
   ]
  },
  {
   "cell_type": "code",
   "execution_count": null,
   "id": "54b00c1d",
   "metadata": {},
   "outputs": [],
   "source": [
    "# mapaconceptual de clasificación de tipos de variables y tipos de codificación adecuada \n",
    "\n",
    "# mapa conceptual para cada clase  \n",
    "from graphviz import Digraph\n",
    "\n",
    "# Crear un nuevo grafo dirigido\n",
    "dot = Digraph()\n",
    "\n",
    "# Añadir nodos y relaciones al grafo\n",
    "main_concept = 'Codificacion Variables Categoricas'\n",
    "dot.node('A', main_concept)\n",
    "dot.node('B', 'Variables categóricas ordinales')\n",
    "dot.node('C', 'Variables categóricas no ordinales')\n",
    "dot.node('D', '')\n",
    "dot.node('E', '')\n",
    "dot.node('F', '')\n",
    "dot.node('G', '')\n",
    "dot.node('H', '')\n",
    "\n",
    "dot.edges(['AB', 'AC', 'CD', 'DE', 'EF', 'FG', 'GH']) \n",
    "\n",
    "# Guardar el grafo como un archivo de imagen\n",
    "dot.render(filename=main_concept, format='png', cleanup=True)\n",
    "\n",
    "dot.view()"
   ]
  },
  {
   "cell_type": "markdown",
   "id": "8b9da18a",
   "metadata": {},
   "source": [
    "Ya codificamos la variable objetivo, pero falta codificar las demás variables categóricas que son predictivas. "
   ]
  },
  {
   "cell_type": "code",
   "execution_count": null,
   "id": "364b927d",
   "metadata": {},
   "outputs": [],
   "source": [
    "from sklearn.preprocessing import OrdinalEncoder\n",
    "ordinal_encoder = OrdinalEncoder()\n",
    "atributos_categoricos = df.select_dtypes(include='object').columns\n",
    "df_cat_encoded = ordinal_encoder.fit_transform(df[atributos_categoricos])\n",
    "df_cat_encoded[:10]"
   ]
  },
  {
   "cell_type": "markdown",
   "id": "8c66f21e",
   "metadata": {},
   "source": [
    "La clase `OrdinalEncoder()` de **scikit-learn** es aplicable cuando necesitas convertir variables categóricas en **valores numéricos ordinales** (valores enteros) que reflejan un **orden natural** entre las categorías. Es útil cuando trabajas con características categóricas que tienen un orden intrínseco y necesitas que los modelos de machine learning interpreten ese orden. A continuación te explico cuándo es aplicable y cómo se usa:\n",
    "\n",
    "### Aplicabilidad de `OrdinalEncoder()`\n",
    "1. **Categorías con Orden Natural**:\n",
    "   - Se utiliza cuando las categorías tienen un **orden jerárquico o natural**. Por ejemplo, si tienes una característica como `nivel de educación`, donde las categorías son:\n",
    "     - \"Primaria\", \"Secundaria\", \"Pregrado\", \"Postgrado\".\n",
    "   - En este caso, hay una relación intrínseca entre los niveles, y se espera que esta jerarquía sea capturada por el modelo.\n",
    "\n",
    "2. **Modelos que No Aceptan Datos Categóricos Directos**:\n",
    "   - Muchos modelos de machine learning (como **regresión logística**, **árboles de decisión**, **SVM**) no pueden trabajar directamente con datos categóricos. Por lo tanto, `OrdinalEncoder()` es útil para convertir esas categorías en valores numéricos que los modelos puedan usar.\n",
    "\n",
    "3. **Datos de Encuestas o Escalas de Clasificación**:\n",
    "   - Es útil cuando trabajas con datos que provienen de encuestas o clasificaciones ordinales. Ejemplos comunes son:\n",
    "     - Escalas de satisfacción: \"Muy insatisfecho\", \"Insatisfecho\", \"Neutral\", \"Satisfecho\", \"Muy satisfecho\".\n",
    "     - Clasificación de productos: \"Baja calidad\", \"Media calidad\", \"Alta calidad\".\n",
    "\n",
    "4. **Cuando no necesitas codificación one-hot**:\n",
    "   - Si no necesitas crear variables binarias para cada categoría (como lo harías con `OneHotEncoder()`), y en su lugar prefieres mantener una representación compacta y ordinal de las categorías, `OrdinalEncoder()` es adecuado.\n",
    "\n",
    "### Cuándo no es aplicable:\n",
    "- **Categorías sin orden intrínseco**: Si las categorías no tienen un orden natural, usar `OrdinalEncoder()` no es adecuado porque asignar números a categorías sin orden puede inducir al modelo a interpretar incorrectamente esas relaciones. En este caso, sería mejor usar **OneHotEncoder()**. Ejemplos de categorías sin orden:\n",
    "  - Colores: \"Rojo\", \"Verde\", \"Azul\".\n",
    "  - Géneros de música: \"Rock\", \"Jazz\", \"Pop\".\n",
    "  \n",
    "- **Modelos que no dependen de orden**: Algunos modelos, como **árboles de decisión** o **random forests**, no dependen del orden de los valores numéricos. Por lo tanto, `OrdinalEncoder()` puede no ser la mejor opción y `OneHotEncoder()` puede funcionar igual o mejor.\n",
    "\n",
    "### Ejemplo de uso de `OrdinalEncoder()`:\n",
    "\n",
    "```python\n",
    "from sklearn.preprocessing import OrdinalEncoder\n",
    "\n",
    "# Ejemplo de categorías con orden\n",
    "categorias = [['Secundaria'], ['Pregrado'], ['Primaria'], ['Postgrado']]\n",
    "\n",
    "# Crear el objeto OrdinalEncoder\n",
    "encoder = OrdinalEncoder()\n",
    "\n",
    "# Aplicar el codificador a los datos categóricos\n",
    "categorias_codificadas = encoder.fit_transform(categorias)\n",
    "\n",
    "print(categorias_codificadas)\n",
    "```\n",
    "\n",
    "En este ejemplo, las categorías se convertirán a valores numéricos ordenados, como:\n",
    "- \"Primaria\" → 0\n",
    "- \"Secundaria\" → 1\n",
    "- \"Pregrado\" → 2\n",
    "- \"Postgrado\" → 3\n",
    "\n",
    "### Resumen:\n",
    "`OrdinalEncoder()` es aplicable cuando las características categóricas tienen un orden natural y necesitas que el modelo de machine learning lo interprete. No es adecuado para categorías sin orden, donde es mejor usar otras técnicas de codificación como `OneHotEncoder()`."
   ]
  },
  {
   "cell_type": "markdown",
   "id": "5ccaaf94",
   "metadata": {},
   "source": [
    "# La Codificación One-Hot Encoding  \n",
    "La **codificación One-Hot (One-Hot Encoding)** es útil en las siguientes situaciones:\n"
   ]
  },
  {
   "cell_type": "markdown",
   "id": "d72f43fb",
   "metadata": {},
   "source": [
    "\n",
    "### 1. **Modelos de Machine Learning que no manejan bien datos categóricos**\n",
    "   - **Algoritmos que requieren valores numéricos**: Algunos algoritmos de aprendizaje automático, como regresión logística, redes neuronales, y k-means, no pueden procesar directamente variables categóricas. **One-Hot Encoding** convierte las categorías en columnas binarias (0 o 1), permitiendo que el algoritmo maneje variables categóricas de manera eficiente.\n"
   ]
  },
  {
   "cell_type": "markdown",
   "id": "fe639f51",
   "metadata": {},
   "source": [
    "\n",
    "### 2. **Cuando no hay un orden implícito en las categorías**\n",
    "   - **Categorías sin jerarquía**: One-Hot Encoding es útil cuando las categorías no tienen un orden inherente o jerarquía. Por ejemplo, las variables como \"color\" (rojo, azul, verde) o \"ciudad\" (Bogotá, Medellín, Cali) son **nominales** (sin orden). En estos casos, codificar las categorías como números ordinales podría inducir relaciones falsas, ya que el modelo podría interpretar jerarquías inexistentes.\n",
    "\n",
    "### 3. **Evitar suposiciones incorrectas sobre las relaciones entre categorías**\n",
    "   - **Eliminar el riesgo de suposiciones de orden**: Usar One-Hot Encoding evita que los modelos asuman que hay una relación lineal o jerárquica entre categorías, lo que puede suceder si se usa una codificación ordinal.\n",
    "\n",
    "### 4. **Para modelos lineales o redes neuronales**\n",
    "   - **Mejor rendimiento con datos binarios**: Algoritmos como redes neuronales o modelos de regresión lineal suelen funcionar mejor con datos en formato binario (0/1) debido a cómo procesan las entradas. La codificación One-Hot permite que estas técnicas identifiquen patrones más fácilmente en datos categóricos.\n"
   ]
  },
  {
   "cell_type": "markdown",
   "id": "968487a2",
   "metadata": {},
   "source": [
    "\n",
    "### 5. **Para trabajar con grandes datasets con muchas categorías**\n",
    "   - **Categorías en datasets grandes**: En grandes datasets con muchas categorías pero con una cantidad limitada de categorías únicas por columna, One-Hot Encoding puede ser eficaz para evitar los problemas de interpretación y mejorar el rendimiento en tareas como clasificación o regresión.\n"
   ]
  },
  {
   "cell_type": "markdown",
   "id": "9a6a1cfd",
   "metadata": {},
   "source": [
    "\n",
    "### Ejemplo de cuándo usar One-Hot Encoding:\n",
    "- Si tienes una columna **\"Género\"** con valores categóricos [\"Mujer\", \"Hombre\"], la codificación ordinal podría asignar [0, 1], lo que implicaría un orden entre los valores, aunque no lo haya. Con One-Hot Encoding, crearías dos columnas binarias, una para \"Mujer\" y otra para \"Hombre\", eliminando cualquier interpretación errónea.\n"
   ]
  },
  {
   "cell_type": "markdown",
   "id": "8941035f",
   "metadata": {},
   "source": [
    "\n",
    "### Limitación:\n",
    "- **One-Hot Encoding aumenta la dimensionalidad**: Si tienes muchas categorías diferentes, cada categoría se convertirá en una columna, lo que puede aumentar significativamente el tamaño del dataset y afectar el rendimiento del modelo. Esto es especialmente problemático si las categorías tienen muchas clases únicas (por ejemplo, miles de ciudades). En estos casos, técnicas como **Target Encoding** o **Hashing** pueden ser más eficientes."
   ]
  },
  {
   "cell_type": "code",
   "execution_count": null,
   "id": "176eddd7",
   "metadata": {},
   "outputs": [],
   "source": [
    "df.CodigoArea.value_counts() # el código de área es una variable categórica no ordinal "
   ]
  },
  {
   "cell_type": "code",
   "execution_count": null,
   "id": "0fba09c4",
   "metadata": {},
   "outputs": [],
   "source": [
    "from sklearn.preprocessing import OneHotEncoder\n",
    "cat_encoder = OneHotEncoder()\n",
    "df_train_cat_no_ordinal = df_train[['CodigoArea']]\n",
    "X_cat_1hot = cat_encoder.fit_transform(df_train_cat_no_ordinal)\n",
    "X_cat_1hot"
   ]
  },
  {
   "cell_type": "code",
   "execution_count": null,
   "id": "3449eaaa",
   "metadata": {},
   "outputs": [],
   "source": [
    "X_cat_1hot = df_cat_1hot.toarray()\n",
    "X_cat_1hot  "
   ]
  },
  {
   "cell_type": "code",
   "execution_count": null,
   "id": "434b1336",
   "metadata": {},
   "outputs": [],
   "source": [
    "# convertir en un dataframe a esta variable codificada \n",
    "valores_CodigoArea = df_train.CodigoArea.value_counts().index\n",
    "df_cat_1hot = pd.DataFrame(X_cat_1hot, columns = valores_CodigoArea)\n",
    "df_cat_1hot"
   ]
  },
  {
   "cell_type": "markdown",
   "id": "90a9bdfa",
   "metadata": {},
   "source": [
    "# Otra variable categórica de codificación interesante "
   ]
  },
  {
   "cell_type": "code",
   "execution_count": null,
   "id": "c563a0fb",
   "metadata": {},
   "outputs": [],
   "source": [
    "df.Estado.value_counts()"
   ]
  },
  {
   "cell_type": "markdown",
   "id": "07f3a441",
   "metadata": {},
   "source": [
    "# Técnica Target Encoding  y la técnica Hashing "
   ]
  },
  {
   "cell_type": "markdown",
   "id": "1c1df9e1",
   "metadata": {},
   "source": [
    "Cuando se trabaja con **variables categóricas no ordinales** (sin un orden natural) y con un gran número de subcategorías, es importante elegir la técnica adecuada para codificarlas en un formato numérico que pueda ser procesado por los modelos de machine learning. "
   ]
  },
  {
   "cell_type": "markdown",
   "id": "d6dbf33d",
   "metadata": {},
   "source": [
    "Estas son dos técnicas avanzadas para abordar este desafío: **Target Encoding** y **Hashing**.\n"
   ]
  },
  {
   "cell_type": "markdown",
   "id": "60856b28",
   "metadata": {},
   "source": [
    "\n",
    "### 1. **Target Encoding (Codificación Basada en el Objetivo)**\n",
    "\n",
    "#### Descripción:\n",
    "La técnica de **Target Encoding** asigna un valor numérico a cada categoría basado en la **media del objetivo** (target) o la **variable de salida** que estás tratando de predecir. "
   ]
  },
  {
   "cell_type": "markdown",
   "id": "56a46b8d",
   "metadata": {},
   "source": [
    "Esto significa que la codificación toma en cuenta la relación entre una categoría y el valor de la variable objetivo. Es especialmente útil en problemas de **regresión** y **clasificación**, donde se utiliza el promedio de la variable objetivo de los registros asociados con cada categoría.\n"
   ]
  },
  {
   "cell_type": "markdown",
   "id": "64f98f86",
   "metadata": {},
   "source": [
    "\n",
    "#### Funcionamiento:\n",
    "- En un problema de **regresión**, se calcula el promedio del valor objetivo (target) para cada categoría. Luego, esa media se usa para reemplazar la categoría.\n",
    "- En un problema de **clasificación**, se utiliza la tasa de incidencia (la proporción de veces que una clase aparece) para codificar las categorías.\n",
    "  \n"
   ]
  },
  {
   "cell_type": "markdown",
   "id": "dd916070",
   "metadata": {},
   "source": [
    "#### Ejemplo:\n",
    "Supongamos que tienes una variable categórica \"Ciudad\" y la variable objetivo es el precio promedio de las casas en cada ciudad. Con Target Encoding, la categoría \"Ciudad A\" se codificaría con el promedio de precios de casas en \"Ciudad A\", \"Ciudad B\" con el promedio en \"Ciudad B\", etc.\n"
   ]
  },
  {
   "cell_type": "markdown",
   "id": "484ea0df",
   "metadata": {},
   "source": [
    "\n",
    "##### Ventajas:\n",
    "- **Captura relaciones estadísticas** entre las categorías y el objetivo, lo que puede mejorar el rendimiento del modelo al proporcionar una codificación más informada.\n",
    "- **Reduce la dimensionalidad**, ya que no crea muchas columnas adicionales como ocurre con la codificación one-hot.\n",
    "  \n"
   ]
  },
  {
   "cell_type": "markdown",
   "id": "75bd0a1a",
   "metadata": {},
   "source": [
    "##### Desventajas:\n",
    "- **Riesgo de sobreajuste**: Como la codificación está basada en la variable objetivo, si no se implementa correctamente (sin validación cruzada), podría llevar a sobreajuste del modelo a los datos de entrenamiento.\n",
    "- **Bias en categorías raras**: Para categorías con pocas observaciones, las estimaciones pueden ser ruidosas o poco confiables.\n",
    "  \n"
   ]
  },
  {
   "cell_type": "markdown",
   "id": "0af63ba3",
   "metadata": {},
   "source": [
    "##### Ejemplo en Python:\n"
   ]
  },
  {
   "cell_type": "code",
   "execution_count": null,
   "id": "b41a1858",
   "metadata": {},
   "outputs": [],
   "source": [
    "import pandas as pd\n",
    "from category_encoders import TargetEncoder\n",
    "\n",
    "# Datos de ejemplo\n",
    "df = pd.DataFrame({\n",
    "    'Ciudad': ['A', 'B', 'A', 'C', 'B', 'C', 'A'],\n",
    "    'Precio': [200, 190, 200, 300, 210, 320, 200]\n",
    "})\n",
    "\n",
    "# Definir el TargetEncoder sin suavizado\n",
    "encoder = TargetEncoder(smoothing=0, min_samples_leaf=1)\n",
    "\n",
    "# Aplicar el codificador a la columna \"Ciudad\" usando la variable objetivo \"Precio\"\n",
    "df['Ciudad_codificada'] = encoder.fit_transform(df['Ciudad'], df['Precio'])\n",
    "\n",
    "print(df)\n"
   ]
  },
  {
   "cell_type": "markdown",
   "id": "97d6a1b5",
   "metadata": {},
   "source": [
    "\n",
    "### 2. **Hashing (Hashing Trick)**\n",
    "\n",
    "#### Descripción:\n",
    "La técnica de **Hashing** (o **Hashing Trick**) convierte las categorías en valores numéricos aplicando una **función hash**. Esto significa que se aplica una función matemática que toma cada categoría y la transforma en un valor entero. Este enfoque es muy eficiente cuando tienes un número extremadamente alto de categorías, ya que no requiere construir explícitamente un diccionario de mapeo de categorías a números.\n",
    "\n",
    "#### Funcionamiento:\n",
    "- El **Hashing Trick** asigna cada categoría a una posición en un vector de tamaño fijo (predefinido). Las categorías que colisionan (es decir, que el hash de diferentes categorías resulta en el mismo valor) comparten la misma posición.\n",
    "- Se elige un número de **dimensiones (k)**, que define el tamaño del espacio donde se mapean las categorías. A partir de aquí, cada categoría es transformada en su valor hash, y este valor se usa para construir la representación numérica en un espacio de menor dimensión.\n",
    "\n",
    "#### Ejemplo:\n",
    "Supón que tienes 1 millón de categorías en una columna. En lugar de codificarlas todas individualmente (lo que consumiría mucha memoria), aplicas el Hashing Trick para proyectarlas a un espacio de 1000 dimensiones. Algunas categorías colisionarán, pero las representaciones serán más eficientes para procesar.\n",
    "\n",
    "##### Ventajas:\n",
    "- **Escalabilidad**: Es muy eficiente cuando trabajas con **grandes volúmenes de datos categóricos** (con millones de categorías). No requiere almacenar un diccionario de todas las categorías.\n",
    "- **Dimensionalidad controlada**: Puedes elegir el número de dimensiones, lo que reduce la complejidad del modelo y el uso de memoria.\n",
    "- **Sin necesidad de datos de entrenamiento**: A diferencia de otras técnicas de codificación, no necesitas ver todos los datos antes de aplicar el hash, lo que lo hace adecuado para sistemas de producción con datos en flujo.\n",
    "\n",
    "##### Desventajas:\n",
    "- **Colisiones**: Dado que la misma posición en el vector puede ser asignada a varias categorías diferentes, puede haber pérdida de información debido a las colisiones de hash.\n",
    "- **Difícil interpretación**: Las categorías ya no tienen una representación directa o interpretable. Una vez codificadas, es difícil saber qué categoría corresponde a qué valor hash.\n",
    "  \n",
    "##### Ejemplo en Python usando `FeatureHasher`:\n",
    "```python\n",
    "from sklearn.feature_extraction import FeatureHasher\n",
    "\n",
    "# Definir el hasher con el número de características deseadas\n",
    "hasher = FeatureHasher(n_features=10, input_type='string')\n",
    "\n",
    "# Lista de categorías a codificar\n",
    "categorias = [['Gato'], ['Perro'], ['Ratón'], ['Elefante'], ['Perro']]\n",
    "\n",
    "# Aplicar hashing\n",
    "hashed_features = hasher.transform(categorias)\n",
    "\n",
    "# Convertir a matriz densa para visualizar\n",
    "print(hashed_features.toarray())\n",
    "```\n",
    "\n",
    "En este ejemplo, los valores categóricos como \"Gato\", \"Perro\", etc., son codificados en un espacio de 10 dimensiones. Algunas categorías pueden compartir la misma columna debido a colisiones de hash.\n"
   ]
  },
  {
   "cell_type": "markdown",
   "id": "5fc48d73",
   "metadata": {},
   "source": [
    "\n",
    "### Resumen de las Técnicas:\n",
    "\n",
    "| Técnica          | Descripción                                                                 | Aplicabilidad                                  | Ventajas                             | Desventajas                                  |\n",
    "|------------------|-----------------------------------------------------------------------------|------------------------------------------------|--------------------------------------|----------------------------------------------|\n",
    "| **Target Encoding** | Codifica cada categoría según la media del valor objetivo asociado.        | Variables categóricas no ordinales con muchas subcategorías. | Captura relaciones estadísticas, mejora rendimiento. | Riesgo de sobreajuste, bias en categorías raras. |\n",
    "| **Hashing**        | Usa una función hash para convertir categorías en valores numéricos.        | Variables categóricas con un gran número de subcategorías (escenario de big data). | Escalable, eficiente, sin necesidad de entrenamiento. | Posibles colisiones, difícil interpretación.      |\n"
   ]
  },
  {
   "cell_type": "markdown",
   "id": "35d7baaf",
   "metadata": {},
   "source": [
    "\n",
    "Ambas técnicas son útiles en situaciones donde el número de categorías es elevado, pero debes elegir la que mejor se adapte al tipo de datos y al modelo que estés utilizando."
   ]
  },
  {
   "cell_type": "code",
   "execution_count": null,
   "id": "8b84f4c0",
   "metadata": {},
   "outputs": [],
   "source": []
  },
  {
   "cell_type": "code",
   "execution_count": null,
   "id": "aaf16b85",
   "metadata": {},
   "outputs": [],
   "source": []
  },
  {
   "cell_type": "code",
   "execution_count": null,
   "id": "bbeba65d",
   "metadata": {},
   "outputs": [],
   "source": []
  },
  {
   "cell_type": "code",
   "execution_count": null,
   "id": "b473deff",
   "metadata": {},
   "outputs": [],
   "source": []
  },
  {
   "cell_type": "code",
   "execution_count": null,
   "id": "372033f0",
   "metadata": {},
   "outputs": [],
   "source": []
  },
  {
   "cell_type": "code",
   "execution_count": null,
   "id": "8f28160c",
   "metadata": {},
   "outputs": [],
   "source": []
  },
  {
   "cell_type": "code",
   "execution_count": null,
   "id": "08cce112",
   "metadata": {},
   "outputs": [],
   "source": []
  },
  {
   "cell_type": "code",
   "execution_count": null,
   "id": "94e67008",
   "metadata": {},
   "outputs": [],
   "source": []
  },
  {
   "cell_type": "markdown",
   "id": "d71269f8",
   "metadata": {},
   "source": [
    "# Representación gráfica del camino que hemos seguido\n",
    "\n",
    "Existen varias bibliotecas de Python que permiten trazar y visualizar representaciones gráficas de *pipelines* asociados a modelos de *machine learning*. Estas herramientas son muy útiles para mostrar visualmente los pasos de preprocesamiento, las transformaciones y los modelos en talleres o clases. A continuación te menciono algunas de las bibliotecas más populares:\n"
   ]
  },
  {
   "cell_type": "markdown",
   "id": "ad7cd997",
   "metadata": {},
   "source": [
    "\n",
    "### 1. **Scikit-learn's `plot_pipeline()`** (a partir de la versión 1.0)\n",
    "Scikit-learn, una de las bibliotecas más usadas en *machine learning*, introdujo la función `plot_pipeline()` en su versión 1.0. Esta función permite trazar visualizaciones de los *pipelines* creados con `Pipeline` o `FeatureUnion`.\n"
   ]
  },
  {
   "cell_type": "markdown",
   "id": "83d5ce1d",
   "metadata": {},
   "source": [
    "\n",
    "**Ejemplo**:\n"
   ]
  },
  {
   "cell_type": "code",
   "execution_count": null,
   "id": "6a570e4e",
   "metadata": {},
   "outputs": [],
   "source": [
    "from sklearn.pipeline import Pipeline\n",
    "from sklearn.preprocessing import StandardScaler\n",
    "from sklearn.decomposition import PCA\n",
    "from sklearn.linear_model import LogisticRegression\n",
    "from sklearn import set_config\n",
    "from sklearn.utils import estimator_html_repr\n",
    "from sklearn import datasets\n",
    "from sklearn.pipeline import make_pipeline\n",
    "\n",
    "# Cargar dataset\n",
    "X, y = datasets.load_iris(return_X_y=True)\n",
    "\n",
    "# Crear pipeline\n",
    "pipe = make_pipeline(StandardScaler(), PCA(), LogisticRegression())\n",
    "\n",
    "# Configurar visualización\n",
    "set_config(display='diagram')  # Para obtener el diagrama de la pipeline\n",
    "\n",
    "# Mostrar la representación gráfica del pipeline en Jupyter Notebook\n",
    "pipe\n",
    "\n"
   ]
  },
  {
   "cell_type": "markdown",
   "id": "9dd1ec3b",
   "metadata": {},
   "source": [
    "\n",
    "Este código generará un diagrama visual que muestra las diferentes etapas del *pipeline* cuando se ejecuta en un cuaderno Jupyter.\n",
    "\n",
    "### 2. **`PipelineProfiler`**\n",
    "[`PipelineProfiler`](https://github.com/IBM/PipelineProfiler) es una herramienta desarrollada por IBM que se integra con cuadernos Jupyter para visualizar y comparar diferentes *pipelines* de *machine learning* en scikit-learn.\n",
    "\n",
    "**Cómo instalarla**:\n",
    "```bash\n",
    "pip install PipelineProfiler\n",
    "```\n",
    "\n",
    "**Ejemplo**:\n",
    "```python\n",
    "import PipelineProfiler\n",
    "from sklearn import datasets\n",
    "from sklearn.ensemble import RandomForestClassifier\n",
    "from sklearn.pipeline import make_pipeline\n",
    "from sklearn.preprocessing import StandardScaler\n",
    "\n",
    "# Cargar dataset\n",
    "X, y = datasets.load_iris(return_X_y=True)\n",
    "\n",
    "# Crear pipeline\n",
    "pipeline = make_pipeline(StandardScaler(), RandomForestClassifier())\n",
    "\n",
    "# Visualizar el pipeline con PipelineProfiler\n",
    "profiler = PipelineProfiler.import_pipeline(pipeline)\n",
    "PipelineProfiler.plot_pipeline_matrix(profiler)\n",
    "```\n",
    "\n",
    "Este código trazará un gráfico interactivo que se puede explorar para analizar cada componente del *pipeline*.\n",
    "\n",
    "### 3. **`Yellowbrick`**\n",
    "[`Yellowbrick`](https://www.scikit-yb.org/en/latest/) es una biblioteca de visualización que se integra con scikit-learn y facilita la creación de gráficos para visualizar el desempeño de los modelos en diferentes etapas del *pipeline*.\n",
    "\n",
    "**Cómo instalarla**:\n",
    "```bash\n",
    "pip install yellowbrick\n",
    "```\n",
    "\n",
    "**Ejemplo**:\n",
    "```python\n",
    "from sklearn.pipeline import Pipeline\n",
    "from sklearn.preprocessing import StandardScaler\n",
    "from sklearn.decomposition import PCA\n",
    "from sklearn.linear_model import LogisticRegression\n",
    "from yellowbrick.pipeline import PipelineVisualizer\n",
    "\n",
    "# Crear pipeline\n",
    "pipeline = Pipeline([\n",
    "    ('scaler', StandardScaler()),\n",
    "    ('pca', PCA(n_components=2)),\n",
    "    ('clf', LogisticRegression())\n",
    "])\n",
    "\n",
    "# Visualizar pipeline\n",
    "viz = PipelineVisualizer(pipeline)\n",
    "viz.show()\n",
    "```\n",
    "\n",
    "Esto genera una visualización del flujo del *pipeline* en un diagrama sencillo.\n",
    "\n",
    "### 4. **`DAGsHub`**\n",
    "[DAGsHub](https://dagshub.com/) permite la visualización de *pipelines* en proyectos de *machine learning* y manejo de datos. Aunque es más una plataforma de colaboración, incluye visualizaciones que permiten ver el flujo de datos y etapas del *pipeline* de manera gráfica.\n",
    "\n",
    "### 5. **`TPOT`**\n",
    "[`TPOT`](https://epistasislab.github.io/tpot/) es una biblioteca de *auto machine learning* que genera automáticamente *pipelines* optimizados para diferentes problemas de *machine learning*. TPOT incluye visualizaciones de los *pipelines* generados.\n",
    "\n",
    "**Cómo instalarla**:\n",
    "```bash\n",
    "pip install tpot\n",
    "```\n",
    "\n",
    "**Ejemplo**:\n",
    "```python\n",
    "from tpot import TPOTClassifier\n",
    "from sklearn.datasets import load_iris\n",
    "from sklearn.model_selection import train_test_split\n",
    "\n",
    "# Cargar dataset\n",
    "iris = load_iris()\n",
    "X_train, X_test, y_train, y_test = train_test_split(iris.data, iris.target, train_size=0.75, test_size=0.25)\n",
    "\n",
    "# Crear y entrenar el modelo TPOT\n",
    "tpot = TPOTClassifier(verbosity=2, generations=5, population_size=20)\n",
    "tpot.fit(X_train, y_train)\n",
    "\n",
    "# Exportar el pipeline a un archivo de Python\n",
    "tpot.export('tpot_pipeline.py')\n",
    "\n",
    "# Visualizar el pipeline generado\n",
    "tpot._optimized_pipeline\n",
    "```\n",
    "\n",
    "TPOT permite visualizar los *pipelines* que ha generado automáticamente para cada problema.\n",
    "\n",
    "### Conclusión:\n",
    "Si buscas una herramienta para visualizar *pipelines* en talleres, te recomendaría empezar con la función `plot_pipeline()` de scikit-learn, ya que es muy fácil de usar si ya trabajas con scikit-learn. Si necesitas algo más avanzado o interactivo, puedes explorar `PipelineProfiler` o `Yellowbrick`."
   ]
  },
  {
   "cell_type": "code",
   "execution_count": null,
   "id": "dd389568",
   "metadata": {},
   "outputs": [],
   "source": []
  },
  {
   "cell_type": "code",
   "execution_count": null,
   "id": "78d72747",
   "metadata": {},
   "outputs": [],
   "source": []
  },
  {
   "cell_type": "code",
   "execution_count": null,
   "id": "726fc31a",
   "metadata": {},
   "outputs": [],
   "source": []
  },
  {
   "cell_type": "code",
   "execution_count": null,
   "id": "cc539357",
   "metadata": {},
   "outputs": [],
   "source": []
  },
  {
   "cell_type": "markdown",
   "id": "10bce0d0",
   "metadata": {
    "slideshow": {
     "slide_type": "slide"
    }
   },
   "source": [
    "## Referentes "
   ]
  },
  {
   "cell_type": "markdown",
   "id": "1db3c468",
   "metadata": {
    "slideshow": {
     "slide_type": "slide"
    }
   },
   "source": [
    " \n",
    "* [Chollet, F. (2021). Deep learning with Python. Simon and Schuster.](https://github.com/marco-canas/didactica_ciencia_datos/blob/main/2_referentes/chollet/Fran%C3%A7ois%20Chollet%20-%20Deep%20Learning%20with%20Python-Manning%20(2018).pdf)  \n",
    "  \n",
    "\n",
    "\n",
    "* [Recomendación de la UNESCO sobre ciencia abierta](https://unesdoc.unesco.org/ark:/48223/pf0000379949_spa)\n",
    "\n",
    "* [chatGPT](https://openai.com/blog/chatgpt)  \n",
    "\n",
    "* [Géron, A. (2017). Hands-on machine learning with scikit-learn and tensorflow: Concepts. Tools, and Techniques to build intelligent systems.](https://github.com/marco-canas/didactica_ciencia_datos/blob/main/2_referentes/geron/Hands-On%20Machine%20Learning-3nd_Edition(2022).pdf)  \n",
    "\n",
    "* [McKinney, W. (2012). Python for data analysis: Data wrangling with Pandas, NumPy, and IPython. \" O'Reilly Media, Inc.\".](https://github.com/marco-canas/didactica_ciencia_datos/blob/main/2_referentes/mckinney/Wes_McKinney.pdf)  "
   ]
  },
  {
   "cell_type": "markdown",
   "id": "8e65d6f9",
   "metadata": {},
   "source": [
    "# Como estudiante, encuentro que...   \n",
    "\n",
    "F: Mis Fortalezas son:     \n",
    "O: Mis Oportunidades son:    \n",
    "D: Mis Debilidades son:    \n",
    "A: Lo que Amenazas mi aprendizaje es:  "
   ]
  },
  {
   "cell_type": "markdown",
   "id": "6b9e56a8",
   "metadata": {
    "slideshow": {
     "slide_type": "slide"
    }
   },
   "source": [
    "### [Evaluamos al profesor Marco Cañas Aquí](https://forms.office.com/Pages/ResponsePage.aspx?id=IefhmYRxjkmK_7KtTlPBwkanXIs1i1FEujpsZgO6dXpUREJPV1kxUk1JV1ozTFJIQVNIQjY5WEY3US4u)"
   ]
  },
  {
   "cell_type": "markdown",
   "id": "050b9508",
   "metadata": {},
   "source": [
    "# Aportes de mis estudiantes a la metodología del curso  \n",
    "1. \n",
    "\n",
    "Sus opiniones y aportes son muy importantes para mi. Pues esta es una investigación educativa y un servicio de enseñanza para ustedes. Ustedes son la razón de ser de mi actividad docente. Dios los bendiga. "
   ]
  },
  {
   "cell_type": "markdown",
   "id": "10f43536",
   "metadata": {
    "slideshow": {
     "slide_type": "slide"
    }
   },
   "source": [
    "### Continue su aprendizaje en la siguiente clase a través del siguiente [vínculo]()"
   ]
  },
  {
   "cell_type": "markdown",
   "id": "ba236f4d",
   "metadata": {},
   "source": [
    "### **Actividad de Clase: Expresar Ideas, Dudas y Emociones de Manera Respetuosa y Asertiva**\n"
   ]
  },
  {
   "cell_type": "markdown",
   "id": "33bcd185",
   "metadata": {},
   "source": [
    "\n",
    "**Objetivo:**  \n",
    "Desarrollar habilidades de comunicación efectiva en los estudiantes para que puedan expresar sus ideas, dudas y emociones de forma respetuosa y asertiva.\n",
    "\n",
    "**Duración:**  \n",
    "15-20 minutos\n",
    "\n",
    "---\n"
   ]
  },
  {
   "cell_type": "markdown",
   "id": "f61da648",
   "metadata": {},
   "source": [
    "\n",
    "### **1. Introducción (5 minutos)**  \n",
    "- **Tema:** Introducir a los estudiantes al concepto de la comunicación asertiva, explicando cómo expresar pensamientos y emociones de manera clara y respetuosa sin agredir o ser pasivo.\n",
    "- **Dinámica:** Mostrar dos ejemplos contrastantes: uno de comunicación pasiva/agresiva y otro de comunicación asertiva. Preguntar a los estudiantes cuál creen que es más efectivo y por qué.\n"
   ]
  },
  {
   "cell_type": "markdown",
   "id": "3a60be93",
   "metadata": {},
   "source": [
    "\n",
    "**Materiales:**  \n",
    "- Pizarra o diapositivas con ejemplos de frases pasivas, agresivas y asertivas.\n",
    "  \n",
    "**Ejemplo:**  \n",
    "- **Pasivo:** “Bueno… no sé si es una buena idea, pero… tal vez podrías intentarlo.”\n",
    "- **Agresivo:** “¡Tu idea es terrible, no va a funcionar!”\n",
    "- **Asertivo:** “Creo que podríamos mejorar esa idea si consideramos otro enfoque.”\n",
    "\n",
    "---\n"
   ]
  },
  {
   "cell_type": "markdown",
   "id": "0f367489",
   "metadata": {},
   "source": [
    "\n",
    "### **2. Ejercicio en Parejas (10 minutos)**  \n",
    "- **Instrucciones:** Dividir a los estudiantes en parejas. Darles diferentes situaciones cotidianas en las que deben comunicarse (pedir ayuda, expresar desacuerdo, compartir una idea, etc.). Cada pareja debe crear una breve conversación donde practiquen la comunicación asertiva.\n",
    "  \n"
   ]
  },
  {
   "cell_type": "markdown",
   "id": "1c86ddc7",
   "metadata": {},
   "source": [
    "**Situaciones propuestas:**\n",
    "  - Expresar desacuerdo con un compañero sobre una tarea de grupo.\n",
    "  - Pedirle ayuda al profesor sobre un concepto difícil.\n",
    "  - Expresar frustración por un malentendido en clase.\n",
    "\n",
    "- **Reglas:** Cada estudiante debe asegurarse de usar lenguaje respetuoso y asertivo para expresar su posición y emociones. Al final, cada pareja debe compartir con la clase un ejemplo de lo que discutieron.\n",
    "\n",
    "---\n"
   ]
  },
  {
   "cell_type": "markdown",
   "id": "121a0382",
   "metadata": {},
   "source": [
    "\n",
    "### **3. Retroalimentación y Discusión (5 minutos)**  \n",
    "- **Discusión:** Invitar a algunos estudiantes a compartir sus experiencias de la actividad. \n",
    "- **Preguntas:** ¿Cómo se sintieron al intentar ser asertivos? ¿Les resultó difícil? ¿Cómo fue recibido el mensaje?\n",
    "  \n",
    "**Consejo:** Resaltar la importancia de practicar la asertividad como una herramienta para mejorar la comunicación interpersonal y reducir conflictos.\n",
    "\n",
    "---\n"
   ]
  },
  {
   "cell_type": "markdown",
   "id": "45d4619b",
   "metadata": {},
   "source": [
    "\n",
    "### **Cierre**  \n",
    "- Resumir las características de la comunicación asertiva: uso de \"yo\" en lugar de \"tú\" para evitar culpabilizar, tono de voz calmado, y respeto hacia el interlocutor.\n",
    "- **Tarea opcional:** Pedirles que practiquen la comunicación asertiva en sus conversaciones durante la semana y escriban una reflexión breve sobre cómo les fue.\n",
    "\n",
    "**Material adicional:**  \n",
    "- Video corto o recurso digital sobre la importancia de la comunicación asertiva."
   ]
  },
  {
   "cell_type": "markdown",
   "id": "53cc9115",
   "metadata": {
    "slideshow": {
     "slide_type": "slide"
    }
   },
   "source": [
    "## Agradecimientos  \n",
    "\n",
    "Doy gracias a Dios por la vida de mi Hijo Joseph Cañas Osorio y la madurez que ha alcanzado.\n",
    "\n",
    "Y a mi esposa Yasmira por su apoyo, orientación y acompañamiento. "
   ]
  }
 ],
 "metadata": {
  "celltoolbar": "Slideshow",
  "kernelspec": {
   "display_name": ".venv",
   "language": "python",
   "name": "python3"
  },
  "language_info": {
   "codemirror_mode": {
    "name": "ipython",
    "version": 3
   },
   "file_extension": ".py",
   "mimetype": "text/x-python",
   "name": "python",
   "nbconvert_exporter": "python",
   "pygments_lexer": "ipython3",
   "version": "3.12.7"
  },
  "rise": {
   "enable_chalkboard": true,
   "theme": "sky",
   "transition": "zoom"
  }
 },
 "nbformat": 4,
 "nbformat_minor": 5
}
