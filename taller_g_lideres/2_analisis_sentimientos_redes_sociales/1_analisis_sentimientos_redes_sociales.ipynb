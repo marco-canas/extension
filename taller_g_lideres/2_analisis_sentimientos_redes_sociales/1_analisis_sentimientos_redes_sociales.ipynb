{
 "cells": [
  {
   "cell_type": "markdown",
   "id": "dc06dec7",
   "metadata": {
    "slideshow": {
     "slide_type": "slide"
    }
   },
   "source": [
    "<table align=\"left\">\n",
    "  <td>\n",
    "    <a href=\"https://colab.research.google.com/github/ageron/handson-ml3/blob/main/tools_numpy.ipynb\" target=\"_parent\"><img src=\"https://colab.research.google.com/assets/colab-badge.svg\" alt=\"Open In Colab\"/></a>\n",
    "  </td>\n",
    "  <td>\n",
    "    <a target=\"_blank\" href=\"https://kaggle.com/kernels/welcome?src=https://github.com/ageron/handson-ml3/blob/main/tools_numpy.ipynb\"><img src=\"https://kaggle.com/static/images/open-in-kaggle.svg\" /></a>\n",
    "  </td>\n",
    "</table>"
   ]
  },
  {
   "cell_type": "markdown",
   "id": "e0c5b198",
   "metadata": {
    "slideshow": {
     "slide_type": "slide"
    }
   },
   "source": [
    "### [Video de apoyo a la lectura interactiva y experimental de este cuaderno]()"
   ]
  },
  {
   "cell_type": "markdown",
   "id": "41e82203",
   "metadata": {
    "slideshow": {
     "slide_type": "slide"
    }
   },
   "source": [
    "## [Vínculo al programa del curso:  ]()\n",
    "\n"
   ]
  },
  {
   "cell_type": "markdown",
   "id": "d11ab06d",
   "metadata": {
    "slideshow": {
     "slide_type": "slide"
    }
   },
   "source": [
    "Un reconocimiento a mis estudiantes que han construido conmigo este saber pedagógico:\n",
    "\n",
    "<img src = ''> \n",
    "\n"
   ]
  },
  {
   "cell_type": "markdown",
   "id": "8a74a56c-0ce6-4ad6-b985-553fd7fb68bb",
   "metadata": {},
   "source": [
    "Reconocimiento a las profesoras destacadas en enseñanza de la matemática en Colombia\n",
    "\n",
    "Aquí tienes algunas mujeres destacadas en Colombia en la enseñanza de la matemática, junto con una breve biografía de cada una:"
   ]
  },
  {
   "cell_type": "markdown",
   "id": "d7598d0a-d9b7-4ae0-b029-a0ed6ed1130b",
   "metadata": {},
   "source": [
    "\n",
    "# Principios de mi labor docente"
   ]
  },
  {
   "cell_type": "markdown",
   "id": "4f9d8cf9",
   "metadata": {
    "slideshow": {
     "slide_type": "slide"
    }
   },
   "source": [
    "# Modelo general de clase: [aula invertida](https://www3.gobiernodecanarias.org/medusa/ecoescuela/pedagotic/aprendizaje-invertido-flipped-classroom/)"
   ]
  },
  {
   "cell_type": "markdown",
   "id": "eb6ed03a",
   "metadata": {},
   "source": [
    "<img src = 'https://resources.maneuveringthemiddle.com/wp-content/uploads/2020/07/04212706/1-5.png' width = 400>"
   ]
  },
  {
   "cell_type": "markdown",
   "id": "34319cce-a71b-4f64-aab8-b53e521efa40",
   "metadata": {},
   "source": [
    "# Metodología de enseñanza basada en problemas (ABP)\n",
    "\n",
    "<img src = 'https://www.unir.net/wp-content/uploads/2020/07/aprendizaje-problemas2-1-1-1-1.jpeg'>"
   ]
  },
  {
   "cell_type": "markdown",
   "id": "841a985c-bd9b-4dd3-8e4c-893983980af2",
   "metadata": {},
   "source": [
    "# Desarrollo del pensamiento coomputacional con python y cuadernos Jupyter  orientado a la formación en ciencia de datos \n",
    "\n",
    "\n",
    "<img src = 'https://i.ytimg.com/vi/mcG_wcR4e6M/maxresdefault.jpg'>"
   ]
  },
  {
   "cell_type": "markdown",
   "id": "65aa0404-f7ae-495e-864c-1aec01b4255e",
   "metadata": {},
   "source": [
    "# Principio de fomento a la ciencia abierta, enseñar en el acceso a los datos públicos y el uso de software de código abierto  \n"
   ]
  },
  {
   "cell_type": "markdown",
   "id": "0814414b",
   "metadata": {},
   "source": [
    "\n",
    "<img src = 'https://unesdoc.unesco.org/in/rest/Thumb/image?id=p%3A%3Ausmarcdef_0000379949_spa&author=UNESCO&title=Recomendaci%C3%B3n+de+la+UNESCO+sobre+la+Ciencia+Abierta&year=2021&publisher=UNESCO&TypeOfDocument=UnescoPhysicalDocument&mat=PGD&ct=true&size=512&isPhysical=1' width = 300>"
   ]
  },
  {
   "cell_type": "markdown",
   "id": "d9559f85",
   "metadata": {},
   "source": [
    "El enfoque STEAMS en educación preescolar, primaria y secundaria es una extensión del enfoque STEM (Ciencia, Tecnología, Ingeniería y Matemáticas) y su variante STEAM, que incorpora el Arte. El acrónimo STEAMS incluye:\n",
    "\n",
    "1. **Science (Ciencia):** Fomenta la curiosidad por el mundo natural y el desarrollo de habilidades científicas, como la observación, experimentación y análisis.\n",
    "\n",
    "2. **Technology (Tecnología):** Integra herramientas tecnológicas para potenciar el aprendizaje y la resolución de problemas, promoviendo la alfabetización digital desde edades tempranas.\n",
    "\n",
    "3. **Engineering (Ingeniería):** Introduce el pensamiento lógico y la resolución de problemas estructurados, fomentando habilidades como el diseño y la construcción de soluciones.\n",
    "\n",
    "4. **Arts (Arte):** Añade creatividad y pensamiento crítico, permitiendo a los estudiantes expresarse y explorar el aprendizaje a través de formas artísticas (plásticas, música, teatro).\n",
    "\n",
    "5. **Mathematics (Matemáticas):** Refuerza las habilidades numéricas y el razonamiento lógico, fundamentales en la resolución de problemas y comprensión de conceptos abstractos.\n",
    "\n",
    "6. **Social Sciences (Ciencias Sociales):** Incorpora la comprensión del entorno social, político, cultural y económico, promoviendo el desarrollo de la conciencia crítica sobre el mundo y su historia, además de habilidades de empatía y ciudadanía.\n",
    "\n",
    "El enfoque STEAMS pretende desarrollar un aprendizaje **interdisciplinario** que integre estas áreas para fomentar un pensamiento más holístico y práctico. Se busca que los estudiantes no solo aprendan conocimientos técnicos, sino también cómo aplicarlos creativa y críticamente en situaciones reales, promoviendo habilidades como el trabajo en equipo, la comunicación y la innovación. En educación preescolar, primaria y secundaria, se adapta a las diferentes etapas de desarrollo cognitivo y emocional de los estudiantes, promoviendo el aprendizaje activo y contextualizado.  \n"
   ]
  },
  {
   "cell_type": "markdown",
   "id": "9e4875eb",
   "metadata": {},
   "source": [
    "\n",
    "<img src = 'https://www.campuseducacion.com/blog/wp-content/uploads/2023/03/foto01-1.jpg' width 400>"
   ]
  },
  {
   "cell_type": "markdown",
   "id": "9d15c10d-2c02-4158-9419-b1ed79b4c1ee",
   "metadata": {},
   "source": [
    "# Qué estamos haciendo por la internalización en esta clase y este curso  \n",
    "\n",
    "Para presentar tus acciones como docente de matemáticas en la Universidad de Antioquia con miras a la **internacionalización** de tu práctica docente y el desarrollo de competencias internacionales en tus estudiantes, te sugiero estructurar tu enfoque en los siguientes aspectos clave:"
   ]
  },
  {
   "cell_type": "markdown",
   "id": "964d9de7-53ee-4255-9bcd-d8e6454f2993",
   "metadata": {},
   "source": [
    "### 1. **Visión Global en la Formación Académica**\n",
    "   - **Competencias Internacionales**: Asegúrate de que el contenido de tus cursos fomente habilidades que sean reconocidas globalmente. Al educar a los estudiantes en **Python, LaTeX, Markdown y Jupyter Notebooks** y en la **introducción a la ciencia de datos y técnicas de Machine Learning**, estás proporcionando competencias altamente demandadas en los sectores tecnológicos y académicos a nivel internacional.\n",
    "   - **Relevancia de los Contenidos**: Destaca cómo los temas que enseñas, como el **desarrollo del pensamiento computacional** y la **ciencia de datos**, están alineados con las necesidades globales actuales en diversas industrias, desde la tecnología hasta las ciencias naturales y sociales.\n",
    "   - **Referencias a Estándares Internacionales**: Puedes vincular tu enseñanza a estándares internacionales de competencias en programación y ciencia de datos (por ejemplo, frameworks del **IEEE, ACM**, y estándares de la **data science** o la **computación en la nube**)."
   ]
  },
  {
   "cell_type": "markdown",
   "id": "0f1d110c-3142-48fe-9e7d-5fbd9e8bb931",
   "metadata": {},
   "source": [
    "### 2. **Innovación Pedagógica con Enfoque Internacional**\n",
    "   - **Aula Invertida y ABP**: Presenta cómo tu enfoque de **aula invertida** y **aprendizaje basado en problemas (ABP)** permite a los estudiantes trabajar de manera autónoma y colaborativa, lo que los prepara para escenarios laborales internacionales que requieren autoaprendizaje y habilidades de resolución de problemas en equipo.\n",
    "   - **Uso de Jupyter Notebooks**: El uso de **Jupyter Notebooks** en tus clases no solo facilita la **integración de código, matemáticas y texto**, sino que también es una plataforma utilizada globalmente en ambientes académicos y profesionales, lo que hace a tus estudiantes más competitivos internacionalmente."
   ]
  },
  {
   "cell_type": "markdown",
   "id": "960d52b7-03cd-4eb3-965e-5cdfeb7d9f8e",
   "metadata": {},
   "source": [
    "### 3. **Tecnología y Herramientas de Uso Global**\n",
    "   - **Lenguaje Python**: Python es uno de los lenguajes de programación más usados a nivel mundial, tanto en la academia como en la industria. Al formar a tus estudiantes en Python para ciencia de datos y machine learning, los preparas para operar en entornos tecnológicos globales.\n",
    "   - **Herramientas de Ciencia Abierta**: Resalta cómo herramientas como **GitHub**, **Google Colab** y otras plataformas de código abierto están alineadas con el movimiento de **ciencia abierta**, el cual es internacionalmente reconocido y permite que los estudiantes colaboren y compartan proyectos a nivel global."
   ]
  },
  {
   "cell_type": "markdown",
   "id": "3b2ffa32-7a6f-4545-ba7b-c6a69f51109f",
   "metadata": {},
   "source": [
    "### 4. **Investigación y Publicaciones Internacionales**\n",
    "   - **Promoción de la Investigación**: Detalla cómo promueves que tus estudiantes participen en proyectos de **investigación aplicada**, con posibilidad de publicación en revistas internacionales. Esto contribuye a la reputación internacional de la Universidad de Antioquia.\n",
    "   - **Colaboraciones Internacionales**: Si has colaborado con investigadores de otras instituciones o universidades en el extranjero, menciona estos proyectos y cómo han enriquecido tu enseñanza y proporcionado a los estudiantes una visión más globalizada."
   ]
  },
  {
   "cell_type": "markdown",
   "id": "5d1e396e-aece-4bf7-9421-32fa7809eaf4",
   "metadata": {},
   "source": [
    "### 5. **Uso del Inglés para la Internacionalización**\n",
    "   - **Comunicación Científica en Inglés**: Fomentar el aprendizaje del inglés como lengua científica es clave para que tus estudiantes puedan acceder a publicaciones internacionales, conferencias, y material académico que no está disponible en español. Esto es esencial para que adquieran competencias que les permitan desempeñarse en cualquier contexto internacional.\n",
    "   - **Material Bilingüe**: Al generar material educativo en Python, LaTeX y Markdown, considera ofrecer algunos de estos recursos en inglés, para que los estudiantes se familiaricen con el vocabulario técnico y científico internacional."
   ]
  },
  {
   "cell_type": "markdown",
   "id": "c6a8c3b0-426a-4692-a384-3065aea81c9a",
   "metadata": {},
   "source": [
    "### 6. **Certificaciones y Estándares Internacionales**\n",
    "   - **Participación en Certificaciones Internacionales**: Impulsa que los estudiantes busquen certificaciones internacionales en Python o ciencia de datos (como las ofrecidas por **Coursera, edX,** o **Google**). Estas certificaciones no solo validan sus competencias, sino que también incrementan el reconocimiento de la Universidad de Antioquia en el contexto internacional.\n",
    "   - **Alineación con Acreditaciones Internacionales**: Vincula tu trabajo docente con los estándares de acreditación y certificación que garantizan que la universidad siga siendo reconocida internacionalmente. Puedes vincularte con organizaciones internacionales que promuevan la excelencia en la educación y tecnología, como **ABET** para la acreditación en ingeniería y ciencias computacionales."
   ]
  },
  {
   "cell_type": "markdown",
   "id": "65d3d9e1-ea84-43e0-8197-a2a9c9e21594",
   "metadata": {},
   "source": [
    "### 7. **Proyectos Abiertos y Ciencia Reproducible**\n",
    "   - **GitHub y Open Science**: La utilización de **GitHub** para almacenar los proyectos y materiales de enseñanza en repositorios públicos permite que otros investigadores y educadores internacionales puedan revisar y replicar tu trabajo. Esto contribuye a la creación de una red de colaboración científica abierta.\n",
    "   - **Transparencia y Reproducibilidad**: La ciencia de datos y machine learning están profundamente ligados a la reproducibilidad. Asegura que tus estudiantes desarrollen prácticas de transparencia y documentación en la investigación, que son pilares en la comunidad científica global.\n"
   ]
  },
  {
   "cell_type": "markdown",
   "id": "43607d23",
   "metadata": {},
   "source": [
    "\n",
    "### 8. **Participación en Redes y Conferencias Internacionales**\n",
    "   - **Presentación en Conferencias Internacionales**: Destaca cómo tu participación en conferencias internacionales (como la **ASCOLFA** o eventos sobre educación en matemáticas) contribuye al prestigio de la universidad y permite que tus prácticas sean evaluadas y reconocidas a nivel global.\n",
    "   - **Promoción de Estudiantes en Eventos Internacionales**: Impulsa la participación de tus estudiantes en competiciones internacionales de programación o hackathons, como los organizados por **Google**, **ACM** o **Kaggle**. Esto no solo desarrolla sus habilidades, sino que también visibiliza el talento de la Universidad de Antioquia a nivel global.\n",
    "\n",
    "---"
   ]
  },
  {
   "cell_type": "markdown",
   "id": "233294a4-1983-4641-a7ad-866825e02315",
   "metadata": {},
   "source": [
    "Con esta estrategia, puedes presentar tus acciones docentes en términos de competencias internacionales, innovación pedagógica, tecnología, investigación y participación en redes globales, asegurando que tu práctica esté alineada con los estándares internacionales y que tus estudiantes estén preparados para competir en contextos internacionales."
   ]
  },
  {
   "cell_type": "markdown",
   "id": "8d97dc80",
   "metadata": {
    "slideshow": {
     "slide_type": "slide"
    }
   },
   "source": [
    "## Fomento de la lectura literaria asociada a Ingeniería agropecuaria y licenciatura en Matemáticas\n",
    "\n"
   ]
  },
  {
   "cell_type": "markdown",
   "id": "96775931",
   "metadata": {
    "slideshow": {
     "slide_type": "slide"
    }
   },
   "source": [
    "## Título de la clase:  Análisis de sentimientos en redes sociales  \n",
    "\n",
    "[]()"
   ]
  },
  {
   "cell_type": "markdown",
   "id": "1d38dd4e",
   "metadata": {
    "slideshow": {
     "slide_type": "slide"
    }
   },
   "source": [
    "### Objetivo de aprendizaje  \n"
   ]
  },
  {
   "cell_type": "markdown",
   "id": "540f0ec1",
   "metadata": {
    "slideshow": {
     "slide_type": "slide"
    }
   },
   "source": [
    "## Cuestionario para realizar labores de memorización, observación y síntesis de la información (Además de diagnóstico)  \n",
    "[Realizar encuesta para participacion de todos los estudiantes para diagnosticar presaberes para la clase: mentimeter](https://www.mentimeter.com/es-ES/education/lectures)\n",
    "\n",
    "1. ¿?\n",
    "2. ¿?\n",
    "3. ¿?\n",
    "4. ¿?\n",
    "5. ¿?"
   ]
  },
  {
   "cell_type": "markdown",
   "id": "8e457ea2",
   "metadata": {},
   "source": [
    "# Definiciones y Resultados científicos a comprender y memorizar \n",
    "\n",
    "[Primera grabación en Vocaroo]()"
   ]
  },
  {
   "cell_type": "markdown",
   "id": "ca7261b1",
   "metadata": {
    "slideshow": {
     "slide_type": "slide"
    }
   },
   "source": [
    "## Establecimiento de prerrequisitos conceptuales para alcanzar el objetivo de aprendizaje trazado.   \n",
    "\n",
    "(Elabore una lista de preguntas al rededor de los conceptos que consideres necesarios para empezar la clase).  \n",
    "\n",
    "1. \n",
    "2. \n",
    "3. "
   ]
  },
  {
   "cell_type": "markdown",
   "id": "2298e976",
   "metadata": {
    "slideshow": {
     "slide_type": "slide"
    }
   },
   "source": [
    "# Para el diseño de la clase tenga en cuenta algunos problemas de aprendizaje"
   ]
  },
  {
   "cell_type": "markdown",
   "id": "523d3acf",
   "metadata": {
    "slideshow": {
     "slide_type": "slide"
    }
   },
   "source": []
  },
  {
   "cell_type": "markdown",
   "id": "a40a4704",
   "metadata": {
    "slideshow": {
     "slide_type": "slide"
    }
   },
   "source": [
    "## Secuencia conceptual introductoria a la clase"
   ]
  },
  {
   "cell_type": "markdown",
   "id": "8853d874",
   "metadata": {},
   "source": [
    "## El componente histórico y epistemológico"
   ]
  },
  {
   "cell_type": "code",
   "execution_count": 7,
   "id": "bc0addfe",
   "metadata": {},
   "outputs": [
    {
     "data": {
      "text/plain": [
       "'\\\\Users\\\\marco\\\\Documentos\\\\docencia\\\\images\\\\Análisis de sentimientos en redes sociales .pdf'"
      ]
     },
     "execution_count": 7,
     "metadata": {},
     "output_type": "execute_result"
    }
   ],
   "source": [
    "# mapa conceptual para cada clase  \n",
    "from graphviz import Digraph\n",
    "\n",
    "# Crear un nuevo grafo dirigido\n",
    "dot = Digraph()\n",
    "\n",
    "# Añadir nodos y relaciones al grafo\n",
    "main_concept = 'Análisis de sentimientos en redes sociales '\n",
    "dot.node('A', main_concept)\n",
    "dot.node('B', '')\n",
    "dot.node('C', '')\n",
    "dot.node('D', '')\n",
    "dot.node('E', '')\n",
    "dot.node('F', '')\n",
    "dot.node('G', '')\n",
    "dot.node('H', '')\n",
    "dot.node('I', '')\n",
    "dot.node('J', '')\n",
    "\n",
    "dot.edges(['AB'])\n",
    "dot.edges(['AC'])\n",
    "dot.edges(['CD'])\n",
    "dot.edges(['DJ'])\n",
    "dot.edges(['EF'])\n",
    "dot.edges(['FG'])\n",
    "dot.edges(['GH'])\n",
    "dot.edges(['HI'])\n",
    "dot.edges(['IJ'])\n",
    "\n",
    "# Guardar el grafo como un archivo de imagen\n",
    "dot.render(filename=main_concept, format='png', cleanup=True, \\\n",
    "           directory='/Users/marco/Documentos/docencia/images')\n",
    "\n",
    "dot.view()\n"
   ]
  },
  {
   "cell_type": "markdown",
   "id": "10e55ccf",
   "metadata": {},
   "source": [
    "# Análisis de sentimientos de redes sociales "
   ]
  },
  {
   "cell_type": "markdown",
   "id": "239427f7",
   "metadata": {},
   "source": [
    "Un dataset interesante que puedes utilizar para un taller sobre **Análisis de Sentimientos en Redes Sociales** con técnicas de **Machine Learning** y **Deep Learning** es el **\"Sentiment140\"** o el **\"Twitter US Airline Sentiment\"**, ambos disponibles en Kaggle. "
   ]
  },
  {
   "cell_type": "markdown",
   "id": "32f11a05",
   "metadata": {},
   "source": [
    "Estos datasets están enfocados en el análisis de comentarios de usuarios en redes sociales, que es perfecto para trabajar con **Procesamiento de Lenguaje Natural (NLP)**.\n"
   ]
  },
  {
   "cell_type": "markdown",
   "id": "1407e609",
   "metadata": {},
   "source": [
    "\n",
    "### Dataset recomendado:\n",
    "\n",
    "#### 1. [**Twitter US Airline Sentiment**](https://www.kaggle.com/datasets/crowdflower/twitter-airline-sentiment)\n",
    "   - **Descripción**: Este dataset contiene aproximadamente 15,000 tweets clasificados en tres categorías de sentimiento: positivo, negativo y neutral. Los tweets están relacionados con aerolíneas, pero puedes enfocarte en el análisis de sentimientos en redes sociales en general.\n",
    "   - **Columnas**:\n",
    "     - `tweet_id`: ID único del tweet.\n",
    "     - `airline_sentiment`: Sentimiento asociado (positivo, negativo, neutral).\n",
    "     - `text`: El texto del tweet (lo que vas a analizar).\n",
    "     - `airline`: Nombre de la aerolínea a la que está dirigido el tweet.\n",
    "     - Otros atributos como la ubicación del usuario, etc.\n",
    "   - **URL**: [Twitter US Airline Sentiment on Kaggle](https://www.kaggle.com/crowdflower/twitter-airline-sentiment)\n",
    "   \n"
   ]
  },
  {
   "cell_type": "markdown",
   "id": "d99bfebc",
   "metadata": {},
   "source": [
    "   Este dataset es excelente para aplicar técnicas de clasificación de texto utilizando **NLP**, **Machine Learning** (SVM, Random Forest, Logistic Regression), y **Deep Learning** (LSTM, Transformers) para analizar los sentimientos y visualizar resultados.\n"
   ]
  },
  {
   "cell_type": "markdown",
   "id": "e96cadf0",
   "metadata": {},
   "source": [
    "\n",
    "#### 2. **Sentiment140**\n",
    "   - **Descripción**: El dataset **Sentiment140** es ampliamente utilizado para análisis de sentimientos y contiene 1.6 millones de tweets etiquetados automáticamente con sentimientos positivos o negativos. Es ideal para demostrar la escalabilidad de **Machine Learning** y **Deep Learning** en grandes conjuntos de datos.\n",
    "   - **Columnas**:\n",
    "     - `target`: Sentimiento del tweet (0 = negativo, 4 = positivo).\n",
    "     - `text`: Texto del tweet.\n",
    "     - `date`, `query`, `user`: Información adicional sobre el tweet.\n",
    "   - **URL**: [Sentiment140 Dataset on Kaggle](https://www.kaggle.com/kazanova/sentiment140)\n",
    "\n",
    "### Actividades en el taller:\n",
    "- **Preprocesamiento**: Limpieza de datos, tokenización, eliminación de ruido (URLs, hashtags, menciones, emojis).\n",
    "- **Análisis Exploratorio**: Visualizar la distribución de sentimientos, palabras más comunes, nubes de palabras.\n",
    "- **Aplicación de Machine Learning**: Entrenar modelos como **Naive Bayes**, **Support Vector Machines (SVM)**, o **Logistic Regression** para clasificar los tweets.\n",
    "- **Deep Learning**: Implementar un modelo LSTM o **Transformer-based models** como BERT para mejorar el rendimiento del análisis de sentimientos.\n",
    "- **Visualización de Resultados**: Mostrar gráficos interactivos con **matplotlib** o **plotly** para comparar la precisión de diferentes modelos y presentar resultados.\n",
    "\n",
    "Estos datasets serán relevantes y fáciles de relacionar con los asistentes del taller en Caucasia, ya que el análisis de redes sociales tiene aplicaciones universales, incluso en un contexto local como el de Colombia."
   ]
  },
  {
   "cell_type": "markdown",
   "id": "1e272e04",
   "metadata": {},
   "source": [
    "Aquí te dejo el código completo para realizar un análisis de sentimientos usando el dataset de **Twitter US Airline Sentiment** que recomendé, desde la carga de datos hasta la creación de un modelo de clasificación utilizando **Machine Learning**.\n",
    "\n",
    "### Código completo para análisis de sentimientos\n"
   ]
  },
  {
   "cell_type": "code",
   "execution_count": 10,
   "id": "4dd96c47",
   "metadata": {},
   "outputs": [
    {
     "name": "stderr",
     "output_type": "stream",
     "text": [
      "[nltk_data] Downloading package stopwords to\n",
      "[nltk_data]     C:\\Users\\marco\\AppData\\Roaming\\nltk_data...\n",
      "[nltk_data]   Unzipping corpora\\stopwords.zip.\n"
     ]
    },
    {
     "name": "stdout",
     "output_type": "stream",
     "text": [
      "             tweet_id airline_sentiment  airline_sentiment_confidence  \\\n",
      "0  570306133677760513           neutral                        1.0000   \n",
      "1  570301130888122368          positive                        0.3486   \n",
      "2  570301083672813571           neutral                        0.6837   \n",
      "3  570301031407624196          negative                        1.0000   \n",
      "4  570300817074462722          negative                        1.0000   \n",
      "\n",
      "  negativereason  negativereason_confidence         airline  \\\n",
      "0            NaN                        NaN  Virgin America   \n",
      "1            NaN                     0.0000  Virgin America   \n",
      "2            NaN                        NaN  Virgin America   \n",
      "3     Bad Flight                     0.7033  Virgin America   \n",
      "4     Can't Tell                     1.0000  Virgin America   \n",
      "\n",
      "  airline_sentiment_gold        name negativereason_gold  retweet_count  \\\n",
      "0                    NaN     cairdin                 NaN              0   \n",
      "1                    NaN    jnardino                 NaN              0   \n",
      "2                    NaN  yvonnalynn                 NaN              0   \n",
      "3                    NaN    jnardino                 NaN              0   \n",
      "4                    NaN    jnardino                 NaN              0   \n",
      "\n",
      "                                                text tweet_coord  \\\n",
      "0                @VirginAmerica What @dhepburn said.         NaN   \n",
      "1  @VirginAmerica plus you've added commercials t...         NaN   \n",
      "2  @VirginAmerica I didn't today... Must mean I n...         NaN   \n",
      "3  @VirginAmerica it's really aggressive to blast...         NaN   \n",
      "4  @VirginAmerica and it's a really big bad thing...         NaN   \n",
      "\n",
      "               tweet_created tweet_location               user_timezone  \n",
      "0  2015-02-24 11:35:52 -0800            NaN  Eastern Time (US & Canada)  \n",
      "1  2015-02-24 11:15:59 -0800            NaN  Pacific Time (US & Canada)  \n",
      "2  2015-02-24 11:15:48 -0800      Lets Play  Central Time (US & Canada)  \n",
      "3  2015-02-24 11:15:36 -0800            NaN  Pacific Time (US & Canada)  \n",
      "4  2015-02-24 11:14:45 -0800            NaN  Pacific Time (US & Canada)  \n",
      "<class 'pandas.core.frame.DataFrame'>\n",
      "RangeIndex: 14640 entries, 0 to 14639\n",
      "Data columns (total 15 columns):\n",
      " #   Column                        Non-Null Count  Dtype  \n",
      "---  ------                        --------------  -----  \n",
      " 0   tweet_id                      14640 non-null  int64  \n",
      " 1   airline_sentiment             14640 non-null  object \n",
      " 2   airline_sentiment_confidence  14640 non-null  float64\n",
      " 3   negativereason                9178 non-null   object \n",
      " 4   negativereason_confidence     10522 non-null  float64\n",
      " 5   airline                       14640 non-null  object \n",
      " 6   airline_sentiment_gold        40 non-null     object \n",
      " 7   name                          14640 non-null  object \n",
      " 8   negativereason_gold           32 non-null     object \n",
      " 9   retweet_count                 14640 non-null  int64  \n",
      " 10  text                          14640 non-null  object \n",
      " 11  tweet_coord                   1019 non-null   object \n",
      " 12  tweet_created                 14640 non-null  object \n",
      " 13  tweet_location                9907 non-null   object \n",
      " 14  user_timezone                 9820 non-null   object \n",
      "dtypes: float64(2), int64(2), object(11)\n",
      "memory usage: 1.7+ MB\n",
      "None\n",
      "airline_sentiment\n",
      "negative    9178\n",
      "neutral     3099\n",
      "positive    2363\n",
      "Name: count, dtype: int64\n"
     ]
    },
    {
     "data": {
      "image/png": "[encoded data removed]",
      "text/plain": [
       "<Figure size 640x480 with 1 Axes>"
      ]
     },
     "metadata": {},
     "output_type": "display_data"
    },
    {
     "name": "stdout",
     "output_type": "stream",
     "text": [
      "                                                text  \\\n",
      "0                @VirginAmerica What @dhepburn said.   \n",
      "1  @VirginAmerica plus you've added commercials t...   \n",
      "2  @VirginAmerica I didn't today... Must mean I n...   \n",
      "3  @VirginAmerica it's really aggressive to blast...   \n",
      "4  @VirginAmerica and it's a really big bad thing...   \n",
      "\n",
      "                                          clean_text  \n",
      "0                                               said  \n",
      "1            plus added commercials experience tacky  \n",
      "2             today must mean need take another trip  \n",
      "3  really aggressive blast obnoxious entertainmen...  \n",
      "4                               really big bad thing  \n",
      "              precision    recall  f1-score   support\n",
      "\n",
      "    negative       0.75      0.98      0.85      1889\n",
      "     neutral       0.72      0.29      0.41       580\n",
      "    positive       0.88      0.46      0.60       459\n",
      "\n",
      "    accuracy                           0.76      2928\n",
      "   macro avg       0.78      0.57      0.62      2928\n",
      "weighted avg       0.76      0.76      0.72      2928\n",
      "\n"
     ]
    },
    {
     "data": {
      "image/png": "[encoded data removed]",
      "text/plain": [
       "<Figure size 640x480 with 2 Axes>"
      ]
     },
     "metadata": {},
     "output_type": "display_data"
    },
    {
     "name": "stdout",
     "output_type": "stream",
     "text": [
      "Precisión del modelo: 75.79%\n"
     ]
    }
   ],
   "source": [
    "\n",
    "# Importar librerías necesarias\n",
    "import pandas as pd\n",
    "import matplotlib.pyplot as plt\n",
    "import seaborn as sns\n",
    "from sklearn.model_selection import train_test_split\n",
    "from sklearn.feature_extraction.text import CountVectorizer, TfidfVectorizer\n",
    "from sklearn.naive_bayes import MultinomialNB\n",
    "from sklearn.metrics import classification_report, accuracy_score, confusion_matrix\n",
    "import nltk\n",
    "from nltk.corpus import stopwords\n",
    "import re\n",
    "\n",
    "# Descargar los stopwords si es necesario\n",
    "nltk.download('stopwords')\n",
    "\n",
    "# 1. Obtención de datos\n",
    "df = pd.read_csv('Tweets.csv')\n",
    "\n",
    "# Mostrar las primeras filas del dataset\n",
    "print(df.head())\n",
    "\n",
    "# 2. Exploración de los datos\n",
    "print(df.info())\n",
    "print(df['airline_sentiment'].value_counts())\n",
    "\n",
    "# 3. Visualización de la distribución de los sentimientos\n",
    "sns.countplot(x='airline_sentiment', data=df)\n",
    "plt.title('Distribución de Sentimientos en los Tweets')\n",
    "plt.show()\n",
    "\n",
    "# 4. Preprocesamiento del texto\n",
    "def clean_text(text):\n",
    "    # Quitar menciones (@usuario)\n",
    "    text = re.sub(r'@[A-Za-z0-9_]+', '', text)\n",
    "    # Quitar URLs\n",
    "    text = re.sub(r'https?://[A-Za-z0-9./]+', '', text)\n",
    "    # Quitar caracteres especiales\n",
    "    text = re.sub(r'[^a-zA-Z]', ' ', text)\n",
    "    # Convertir a minúsculas\n",
    "    text = text.lower()\n",
    "    # Quitar stopwords\n",
    "    text = ' '.join([word for word in text.split() if word not in stopwords.words('english')])\n",
    "    return text\n",
    "\n",
    "# Aplicar la función de limpieza de texto\n",
    "df['clean_text'] = df['text'].apply(clean_text)\n",
    "\n",
    "# Mostrar los datos después de la limpieza\n",
    "print(df[['text', 'clean_text']].head())\n",
    "\n",
    "# 5. Vectorización del texto\n",
    "# Usaremos TF-IDF para convertir el texto en una representación numérica\n",
    "tfidf = TfidfVectorizer(max_features=3000)\n",
    "X = tfidf.fit_transform(df['clean_text']).toarray()\n",
    "\n",
    "# Etiquetas (positivo, negativo, neutral)\n",
    "y = df['airline_sentiment']\n",
    "\n",
    "# 6. División de los datos en conjunto de entrenamiento y prueba\n",
    "X_train, X_test, y_train, y_test = train_test_split(X, y, test_size=0.2, random_state=42)\n",
    "\n",
    "# 7. Entrenamiento del modelo de Machine Learning (Naive Bayes)\n",
    "model = MultinomialNB()\n",
    "model.fit(X_train, y_train)\n",
    "\n",
    "# 8. Predicciones y evaluación\n",
    "y_pred = model.predict(X_test)\n",
    "\n",
    "# Reporte de clasificación\n",
    "print(classification_report(y_test, y_pred))\n",
    "\n",
    "# Matriz de confusión\n",
    "cm = confusion_matrix(y_test, y_pred)\n",
    "sns.heatmap(cm, annot=True, fmt='d', cmap='Blues', xticklabels=['Negativo', 'Neutral', 'Positivo'], \\\n",
    "    yticklabels=['Negativo', 'Neutral', 'Positivo'])\n",
    "plt.title('Matriz de Confusión')\n",
    "plt.show()\n",
    "\n",
    "# Precisión del modelo\n",
    "accuracy = accuracy_score(y_test, y_pred)\n",
    "print(f'Precisión del modelo: {accuracy * 100:.2f}%')\n",
    "\n",
    "\n"
   ]
  },
  {
   "cell_type": "markdown",
   "id": "0f8bc2bb",
   "metadata": {},
   "source": [
    "\n",
    "### Explicación del código:\n",
    "\n",
    "1. **Carga y exploración del dataset**: El dataset se carga utilizando `pandas`, y se realiza una exploración inicial de los datos con `.head()` y `.info()`.\n",
    "2. **Visualización de la distribución de sentimientos**: Se utiliza `seaborn` para crear un gráfico de barras que muestra la distribución de los sentimientos (positivo, negativo, neutral) en los tweets.\n",
    "3. **Preprocesamiento del texto**: Se aplica una función `clean_text` que limpia el texto eliminando menciones, URLs, caracteres especiales, convierte el texto a minúsculas y elimina las stopwords en inglés.\n",
    "4. **Vectorización**: Se utiliza **TF-IDF** para convertir el texto en una representación numérica que puede ser usada por los algoritmos de Machine Learning.\n",
    "5. **División de datos**: Se divide el dataset en conjunto de entrenamiento y prueba usando `train_test_split`.\n",
    "6. **Entrenamiento del modelo**: Se entrena un modelo de **Naive Bayes** usando los datos de entrenamiento.\n",
    "7. **Evaluación del modelo**: Se generan predicciones sobre los datos de prueba, y se evalúa el modelo utilizando una matriz de confusión y un reporte de clasificación con métricas como la precisión, exactitud, etc.\n"
   ]
  },
  {
   "cell_type": "markdown",
   "id": "eb61cf26",
   "metadata": {},
   "source": [
    "\n",
    "### Resultado:\n",
    "Este código te permitirá analizar los sentimientos de los tweets relacionados con aerolíneas, usando un enfoque de aprendizaje supervisado y aplicando técnicas de **NLP** para preprocesar el texto. Puedes reemplazar el modelo de Naive Bayes con otros modelos de Machine Learning o **Deep Learning** para mejorar el rendimiento.\n",
    "\n",
    "Este análisis es perfecto para un taller de **Machine Learning** y **Deep Learning** en **Caucasia**, ya que introduce los conceptos de **procesamiento de lenguaje natural** de una manera práctica y aplicada."
   ]
  },
  {
   "cell_type": "code",
   "execution_count": null,
   "id": "92823756",
   "metadata": {},
   "outputs": [],
   "source": []
  },
  {
   "cell_type": "code",
   "execution_count": null,
   "id": "a58c8938",
   "metadata": {},
   "outputs": [],
   "source": []
  },
  {
   "cell_type": "code",
   "execution_count": null,
   "id": "e5fcbba3",
   "metadata": {},
   "outputs": [],
   "source": []
  },
  {
   "cell_type": "code",
   "execution_count": null,
   "id": "83759da5",
   "metadata": {},
   "outputs": [],
   "source": []
  },
  {
   "cell_type": "code",
   "execution_count": null,
   "id": "ec048afb",
   "metadata": {},
   "outputs": [],
   "source": []
  },
  {
   "cell_type": "code",
   "execution_count": null,
   "id": "cc539357",
   "metadata": {},
   "outputs": [],
   "source": []
  },
  {
   "cell_type": "markdown",
   "id": "10bce0d0",
   "metadata": {
    "slideshow": {
     "slide_type": "slide"
    }
   },
   "source": [
    "## Referentes "
   ]
  },
  {
   "cell_type": "markdown",
   "id": "1db3c468",
   "metadata": {
    "slideshow": {
     "slide_type": "slide"
    }
   },
   "source": [
    "\n",
    "* [Chollet, F. (2021). Deep learning with Python. Simon and Schuster.](https://github.com/marco-canas/didactica_ciencia_datos/blob/main/2_referentes/chollet/Fran%C3%A7ois%20Chollet%20-%20Deep%20Learning%20with%20Python-Manning%20(2018).pdf)  \n",
    "  \n",
    "\n",
    "* [Recomendación de la UNESCO sobre ciencia abierta](https://unesdoc.unesco.org/ark:/48223/pf0000379949_spa)\n",
    "\n",
    "* [chatGPT](https://openai.com/blog/chatgpt)  \n",
    "\n",
    "* [Géron, A. (2017). Hands-on machine learning with scikit-learn and tensorflow: Concepts. Tools, and Techniques to build intelligent systems.](https://github.com/marco-canas/didactica_ciencia_datos/blob/main/2_referentes/geron/Hands-On%20Machine%20Learning-3nd_Edition(2022).pdf)  \n",
    "\n",
    "* [McKinney, W. (2012). Python for data analysis: Data wrangling with Pandas, NumPy, and IPython. \" O'Reilly Media, Inc.\".](https://github.com/marco-canas/didactica_ciencia_datos/blob/main/2_referentes/mckinney/Wes_McKinney.pdf)  "
   ]
  },
  {
   "cell_type": "markdown",
   "id": "8e65d6f9",
   "metadata": {},
   "source": [
    "# Como estudiante, encuentro que...   \n",
    "\n",
    "F: Mis Fortalezas son:     \n",
    "O: Mis Oportunidades son:    \n",
    "D: Mis Debilidades son:    \n",
    "A: Lo que Amenazas mi aprendizaje es:  "
   ]
  },
  {
   "cell_type": "markdown",
   "id": "6b9e56a8",
   "metadata": {
    "slideshow": {
     "slide_type": "slide"
    }
   },
   "source": [
    "### [Evaluamos al profesor Marco Cañas Aquí](https://forms.office.com/Pages/ResponsePage.aspx?id=IefhmYRxjkmK_7KtTlPBwkanXIs1i1FEujpsZgO6dXpUREJPV1kxUk1JV1ozTFJIQVNIQjY5WEY3US4u)"
   ]
  },
  {
   "cell_type": "markdown",
   "id": "050b9508",
   "metadata": {},
   "source": [
    "# Aportes de mis estudiantes a la metodología del curso  \n",
    "1. \n",
    "\n",
    "Sus opiniones y aportes son muy importantes para mi. Pues esta es una investigación educativa y un servicio de enseñanza para ustedes. Ustedes son la razón de ser de mi actividad docente. Dios los bendiga. "
   ]
  },
  {
   "cell_type": "markdown",
   "id": "6c4af91f",
   "metadata": {},
   "source": [
    "# Aportes de mis colegas docentes a la metodología que estoy aplicando en mis cursos. "
   ]
  },
  {
   "cell_type": "markdown",
   "id": "071afa04",
   "metadata": {
    "slideshow": {
     "slide_type": "slide"
    }
   },
   "source": [
    "## [Evaluación luego de alcanzar estos objetivos de aprendizaje]()"
   ]
  },
  {
   "cell_type": "markdown",
   "id": "10f43536",
   "metadata": {
    "slideshow": {
     "slide_type": "slide"
    }
   },
   "source": [
    "### Continue su aprendizaje en la siguiente clase a través del siguiente [vínculo]()"
   ]
  },
  {
   "cell_type": "markdown",
   "id": "ba236f4d",
   "metadata": {},
   "source": [
    "### **Actividad de Clase: Expresar Ideas, Dudas y Emociones de Manera Respetuosa y Asertiva**\n"
   ]
  },
  {
   "cell_type": "markdown",
   "id": "33bcd185",
   "metadata": {},
   "source": [
    "\n",
    "**Objetivo:**  \n",
    "Desarrollar habilidades de comunicación efectiva en los estudiantes para que puedan expresar sus ideas, dudas y emociones de forma respetuosa y asertiva.\n",
    "\n",
    "**Duración:**  \n",
    "15-20 minutos\n",
    "\n",
    "---\n"
   ]
  },
  {
   "cell_type": "markdown",
   "id": "f61da648",
   "metadata": {},
   "source": [
    "\n",
    "### **1. Introducción (5 minutos)**  \n",
    "- **Tema:** Introducir a los estudiantes al concepto de la comunicación asertiva, explicando cómo expresar pensamientos y emociones de manera clara y respetuosa sin agredir o ser pasivo.\n",
    "- **Dinámica:** Mostrar dos ejemplos contrastantes: uno de comunicación pasiva/agresiva y otro de comunicación asertiva. Preguntar a los estudiantes cuál creen que es más efectivo y por qué.\n",
    "\n",
    "**Materiales:**  \n",
    "- Pizarra o diapositivas con ejemplos de frases pasivas, agresivas y asertivas.\n",
    "  \n",
    "**Ejemplo:**  \n",
    "- **Pasivo:** “Bueno… no sé si es una buena idea, pero… tal vez podrías intentarlo.”\n",
    "- **Agresivo:** “¡Tu idea es terrible, no va a funcionar!”\n",
    "- **Asertivo:** “Creo que podríamos mejorar esa idea si consideramos otro enfoque.”\n",
    "\n",
    "---\n"
   ]
  },
  {
   "cell_type": "markdown",
   "id": "a5fb1374",
   "metadata": {},
   "source": [
    "\n",
    "### **2. Ejercicio en Parejas (10 minutos)**  \n",
    "- **Instrucciones:** Dividir a los estudiantes en parejas. Darles diferentes situaciones cotidianas en las que deben comunicarse (pedir ayuda, expresar desacuerdo, compartir una idea, etc.). Cada pareja debe crear una breve conversación donde practiquen la comunicación asertiva.\n",
    "  \n",
    "**Situaciones propuestas:**\n",
    "  - Expresar desacuerdo con un compañero sobre una tarea de grupo.\n",
    "  - Pedirle ayuda al profesor sobre un concepto difícil.\n",
    "  - Expresar frustración por un malentendido en clase.\n",
    "\n",
    "- **Reglas:** Cada estudiante debe asegurarse de usar lenguaje respetuoso y asertivo para expresar su posición y emociones. Al final, cada pareja debe compartir con la clase un ejemplo de lo que discutieron.\n",
    "\n",
    "---\n",
    "\n",
    "### **3. Retroalimentación y Discusión (5 minutos)**  \n",
    "- **Discusión:** Invitar a algunos estudiantes a compartir sus experiencias de la actividad. \n",
    "- **Preguntas:** ¿Cómo se sintieron al intentar ser asertivos? ¿Les resultó difícil? ¿Cómo fue recibido el mensaje?\n",
    "  \n",
    "**Consejo:** Resaltar la importancia de practicar la asertividad como una herramienta para mejorar la comunicación interpersonal y reducir conflictos.\n",
    "\n",
    "---\n",
    "\n",
    "### **Cierre**  \n",
    "- Resumir las características de la comunicación asertiva: uso de \"yo\" en lugar de \"tú\" para evitar culpabilizar, tono de voz calmado, y respeto hacia el interlocutor.\n",
    "- **Tarea opcional:** Pedirles que practiquen la comunicación asertiva en sus conversaciones durante la semana y escriban una reflexión breve sobre cómo les fue.\n",
    "\n",
    "**Material adicional:**  \n",
    "- Video corto o recurso digital sobre la importancia de la comunicación asertiva."
   ]
  },
  {
   "cell_type": "markdown",
   "id": "53cc9115",
   "metadata": {
    "slideshow": {
     "slide_type": "slide"
    }
   },
   "source": [
    "## Agradecimientos  \n",
    "\n",
    "Doy gracias a Dios por la vida de mi Hijo Joseph Cañas Osorio y la madurez que ha alcanzado.\n",
    "\n",
    "Y a mi esposa Yasmira por su apoyo, orientación y acompañamiento. "
   ]
  }
 ],
 "metadata": {
  "celltoolbar": "Slideshow",
  "kernelspec": {
   "display_name": "Python 3",
   "language": "python",
   "name": "python3"
  },
  "language_info": {
   "codemirror_mode": {
    "name": "ipython",
    "version": 3
   },
   "file_extension": ".py",
   "mimetype": "text/x-python",
   "name": "python",
   "nbconvert_exporter": "python",
   "pygments_lexer": "ipython3",
   "version": "3.12.7"
  },
  "rise": {
   "enable_chalkboard": true,
   "theme": "sky",
   "transition": "zoom"
  }
 },
 "nbformat": 4,
 "nbformat_minor": 5
}
