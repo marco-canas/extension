{
 "cells": [
  {
   "cell_type": "markdown",
   "id": "dc06dec7",
   "metadata": {
    "slideshow": {
     "slide_type": "slide"
    }
   },
   "source": [
    "<table align=\"left\">\n",
    "  <td>\n",
    "    <a href=\"https://colab.research.google.com/github/marco-canas/extension/blob/main/talleres_maestros_puerto_libertador/taller_17_october/1_como_se_elabora_una_tabla/1_como_elaborar_tabla.ipynb\" target=\"_parent\"><img src=\"https://colab.research.google.com/assets/colab-badge.svg\" alt=\"Open In Colab\"/></a>\n",
    "  </td>\n",
    "  <td>\n",
    "    <a target=\"_blank\" href=\"https://kaggle.com/kernels/welcome?src=https://github.com/marco-canas/extension/blob/main/talleres_maestros_puerto_libertador/taller_17_october/1_como_se_elabora_una_tabla/1_como_elaborar_tabla.ipynb\"><img src=\"https://kaggle.com/static/images/open-in-kaggle.svg\" /></a>\n",
    "  </td>\n",
    "</table>"
   ]
  },
  {
   "cell_type": "markdown",
   "id": "e0c5b198",
   "metadata": {
    "slideshow": {
     "slide_type": "slide"
    }
   },
   "source": [
    "### [Video de apoyo a la lectura interactiva y experimental de este cuaderno]()"
   ]
  },
  {
   "cell_type": "markdown",
   "id": "d11ab06d",
   "metadata": {
    "slideshow": {
     "slide_type": "slide"
    }
   },
   "source": [
    "Un reconocimiento a mis colegas de Puerto Libertador que han construido conmigo este saber pedagógico:\n",
    "\n",
    "<img src = 'https://github.com/marco-canas/extension/blob/main/talleres_maestros_puerto_libertador/images/maestros_bijao_2023-09-25_taller_pensamiento_computacional.jpeg?raw=true'> \n",
    "\n"
   ]
  },
  {
   "cell_type": "markdown",
   "id": "d7598d0a-d9b7-4ae0-b029-a0ed6ed1130b",
   "metadata": {},
   "source": [
    "\n",
    "# Principios de mi labor docente"
   ]
  },
  {
   "cell_type": "markdown",
   "id": "4f9d8cf9",
   "metadata": {
    "slideshow": {
     "slide_type": "slide"
    }
   },
   "source": [
    "# Modelo general de clase: [aula invertida](https://www3.gobiernodecanarias.org/medusa/ecoescuela/pedagotic/aprendizaje-invertido-flipped-classroom/)"
   ]
  },
  {
   "cell_type": "markdown",
   "id": "eb6ed03a",
   "metadata": {},
   "source": [
    "<img src = 'https://resources.maneuveringthemiddle.com/wp-content/uploads/2020/07/04212706/1-5.png' width = 600>"
   ]
  },
  {
   "cell_type": "markdown",
   "id": "34319cce-a71b-4f64-aab8-b53e521efa40",
   "metadata": {},
   "source": [
    "# Metodología de enseñanza basada en problemas (ABP)\n",
    "\n",
    "<img src = 'https://www.unir.net/wp-content/uploads/2020/07/aprendizaje-problemas2-1-1-1-1.jpeg' width = 400>"
   ]
  },
  {
   "cell_type": "markdown",
   "id": "841a985c-bd9b-4dd3-8e4c-893983980af2",
   "metadata": {},
   "source": [
    "# Desarrollo del pensamiento computacional con python y cuadernos Jupyter  orientado a la formación en ciencia de datos \n",
    "\n"
   ]
  },
  {
   "cell_type": "markdown",
   "id": "1030ea74",
   "metadata": {},
   "source": [
    "\n",
    "<img src = 'https://i.ytimg.com/vi/mcG_wcR4e6M/maxresdefault.jpg' width = 600>"
   ]
  },
  {
   "cell_type": "markdown",
   "id": "65aa0404-f7ae-495e-864c-1aec01b4255e",
   "metadata": {},
   "source": [
    "# Principio de fomento a la ciencia abierta, enseñar en el acceso a los datos públicos y el uso de software de código abierto  \n"
   ]
  },
  {
   "cell_type": "markdown",
   "id": "e7888976",
   "metadata": {},
   "source": [
    "\n",
    "<img src = 'https://unesdoc.unesco.org/in/rest/Thumb/image?id=p%3A%3Ausmarcdef_0000379949_spa&author=UNESCO&title=Recomendaci%C3%B3n+de+la+UNESCO+sobre+la+Ciencia+Abierta&year=2021&publisher=UNESCO&TypeOfDocument=UnescoPhysicalDocument&mat=PGD&ct=true&size=512&isPhysical=1' width = '400'>\n"
   ]
  },
  {
   "cell_type": "markdown",
   "id": "600a7017",
   "metadata": {},
   "source": [
    "\n",
    "Puede leler las recomendaciones de la UNESCO para ciencia abierta [aquí](https://unesdoc.unesco.org/ark:/48223/pf0000379949_spa/PDF/379949spa.pdf.multi)"
   ]
  },
  {
   "cell_type": "markdown",
   "id": "d9559f85",
   "metadata": {},
   "source": [
    "# Enfoque STEAMS  \n",
    "\n",
    "\n",
    "El enfoque STEAMS en educación preescolar, primaria y secundaria es una extensión del enfoque STEM (Ciencia, Tecnología, Ingeniería y Matemáticas) y su variante STEAM, que incorpora el Arte. El acrónimo STEAMS incluye:\n"
   ]
  },
  {
   "cell_type": "markdown",
   "id": "8aacfa4d",
   "metadata": {},
   "source": [
    "\n",
    "1. **Science (Ciencia):** Fomenta la curiosidad por el mundo natural y el desarrollo de habilidades científicas, como la observación, experimentación y análisis.\n",
    "\n",
    "2. **Technology (Tecnología):** Integra herramientas tecnológicas para potenciar el aprendizaje y la resolución de problemas, promoviendo la alfabetización digital desde edades tempranas.\n"
   ]
  },
  {
   "cell_type": "markdown",
   "id": "a5148a09",
   "metadata": {},
   "source": [
    "\n",
    "3. **Engineering (Ingeniería):** Introduce el pensamiento lógico y la resolución de problemas estructurados, fomentando habilidades como el diseño y la construcción de soluciones.\n",
    "\n",
    "4. **Arts (Arte):** Añade creatividad y pensamiento crítico, permitiendo a los estudiantes expresarse y explorar el aprendizaje a través de formas artísticas (plásticas, música, teatro).\n"
   ]
  },
  {
   "cell_type": "markdown",
   "id": "7a398ff7",
   "metadata": {},
   "source": [
    "\n",
    "5. **Mathematics (Matemáticas):** Refuerza las habilidades numéricas y el razonamiento lógico, fundamentales en la resolución de problemas y comprensión de conceptos abstractos.\n"
   ]
  },
  {
   "cell_type": "markdown",
   "id": "46b3961b",
   "metadata": {},
   "source": [
    "\n",
    "6. **Social Sciences (Ciencias Sociales):** Incorpora la comprensión del entorno social, político, cultural y económico, promoviendo el desarrollo de la conciencia crítica sobre el mundo y su historia, además de habilidades de empatía y ciudadanía.\n"
   ]
  },
  {
   "cell_type": "markdown",
   "id": "8c0cf3b5",
   "metadata": {},
   "source": [
    "\n",
    "El enfoque STEAMS pretende desarrollar un aprendizaje **interdisciplinario** que integre estas áreas para fomentar un pensamiento más holístico y práctico. "
   ]
  },
  {
   "cell_type": "markdown",
   "id": "f9ee406b",
   "metadata": {},
   "source": [
    "Se busca que los estudiantes no solo aprendan conocimientos técnicos, sino también cómo aplicarlos creativa y críticamente en situaciones reales, promoviendo habilidades como el trabajo en equipo, la comunicación y la innovación. "
   ]
  },
  {
   "cell_type": "markdown",
   "id": "f0100195",
   "metadata": {},
   "source": [
    "En educación preescolar, primaria y secundaria, se adapta a las diferentes etapas de desarrollo cognitivo y emocional de los estudiantes, promoviendo el aprendizaje activo y contextualizado.  \n"
   ]
  },
  {
   "cell_type": "markdown",
   "id": "f65b86da",
   "metadata": {},
   "source": [
    "\n",
    "<img src = 'https://www.campuseducacion.com/blog/wp-content/uploads/2023/03/foto01-1.jpg' width = 400>"
   ]
  },
  {
   "cell_type": "markdown",
   "id": "8d97dc80",
   "metadata": {
    "slideshow": {
     "slide_type": "slide"
    }
   },
   "source": [
    "## Referentes psicológicos que nos pueden ayudar en esta propuesta de enseñanza: \n",
    "\n",
    "Para fortalecer mi creencia y compromiso en el desarrollo del pensamiento computacional a través de Python en Jupyter notebooks, así como para desarrollar resiliencia y autovaloración frente al rechazo o resistencia de los estudiantes, yo me apoyo en algunos referentes psicológicos que abordan la motivación, la autovaloración, la resiliencia y el aprendizaje autónomo."
   ]
  },
  {
   "cell_type": "markdown",
   "id": "f1dca37d",
   "metadata": {},
   "source": [
    "\n",
    "### 1. **Teoría de la Autoeficacia de Albert Bandura**\n",
    "   - **Enfoque**: La autoeficacia es la creencia en la propia capacidad de organizar y ejecutar acciones necesarias para manejar situaciones futuras. Bandura destaca que desarrollar una alta autoeficacia es clave para superar los desafíos y persistir ante el rechazo o la resistencia.\n",
    "   - **Aplicación**: Como educador, fortalecer tu autoeficacia te permitirá confiar en tu capacidad para guiar a los estudiantes, incluso frente a su resistencia inicial. Creer en la efectividad de tu enfoque con Python y LaTeX puede motivarte a seguir adelante, incluso cuando encuentres dificultades.\n",
    "   - **Ejemplo**: Al enfrentar rechazo de los estudiantes hacia la codificación, podrías visualizar éxitos pasados o pequeños avances de tus estudiantes. Reconocer estos logros puede reforzar tu confianza para enfrentar la resistencia y seguir promoviendo el aprendizaje autónomo.\n"
   ]
  },
  {
   "cell_type": "markdown",
   "id": "c19e18ec",
   "metadata": {},
   "source": [
    "\n",
    "### 2. **Teoría del Aprendizaje Constructivista de Jean Piaget**\n",
    "   - **Enfoque**: Piaget plantea que el aprendizaje se da mediante la construcción activa del conocimiento a través de la experiencia. La experimentación y el descubrimiento son claves en su modelo.\n",
    "   - **Aplicación**: El uso de Python y Jupyter notebooks fomenta este tipo de aprendizaje constructivista, donde los estudiantes pueden explorar, experimentar y aprender de manera autónoma. Aunque al principio puede haber rechazo, el enfoque permite que los estudiantes descubran el valor del conocimiento adquirido a través de la práctica.\n",
    "   - **Ejemplo**: Puedes resaltar a los estudiantes cómo la experimentación con Python o LaTeX permite la construcción de su propio conocimiento, al crear y depurar su propio código. A medida que logran resolver problemas, irán superando su resistencia.\n"
   ]
  },
  {
   "cell_type": "markdown",
   "id": "23acd73b",
   "metadata": {},
   "source": [
    "\n",
    "### 3. **Teoría de la Motivación Autodeterminada de Deci y Ryan**\n",
    "   - **Enfoque**: Deci y Ryan proponen que los seres humanos tienen tres necesidades psicológicas básicas: competencia, autonomía y relación. Satisfacer estas necesidades conduce a una mayor motivación intrínseca.\n",
    "   - **Aplicación**: El aprendizaje a través de Python y LaTeX puede satisfacer la necesidad de **autonomía** en los estudiantes, ya que les da control sobre su proceso de aprendizaje, y de **competencia**, al desarrollar habilidades valiosas y prácticas. Al promover este enfoque, puedes ayudar a los estudiantes a encontrar una motivación más interna para aprender.\n",
    "   - **Ejemplo**: Puedes diseñar actividades que permitan a los estudiantes elegir cómo abordar un problema usando Python, fomentando su sentido de autonomía y haciéndoles sentir más competentes conforme avanzan.\n"
   ]
  },
  {
   "cell_type": "markdown",
   "id": "790a788f",
   "metadata": {},
   "source": [
    "\n",
    "### 4. **Resiliencia en la Enseñanza - Angela Duckworth y la “Grít Theory”**\n",
    "   - **Enfoque**: Duckworth desarrolló el concepto de **grit**, que se refiere a la pasión y perseverancia para lograr metas a largo plazo. La resiliencia y la tenacidad son fundamentales para superar las barreras en el proceso de enseñanza y aprendizaje.\n",
    "   - **Aplicación**: Implementar Python y LaTeX en tu enseñanza puede requerir **grit** para superar el rechazo de los estudiantes. El desarrollo de estas habilidades en los estudiantes puede ser un proceso largo, pero la perseverancia te ayudará a ver resultados a largo plazo.\n",
    "   - **Ejemplo**: Puedes desarrollar una visión a largo plazo para la enseñanza de Python, destacando cómo, a pesar de las resistencias iniciales, a medida que los estudiantes progresen y se vuelvan más autónomos, su competencia mejorará.\n"
   ]
  },
  {
   "cell_type": "markdown",
   "id": "01757661",
   "metadata": {},
   "source": [
    "\n",
    "### 5. **Teoría del Crecimiento de Carol Dweck**\n",
    "   - **Enfoque**: Dweck sugiere que una **mentalidad de crecimiento** (growth mindset) es crucial para el aprendizaje continuo. Creer que las habilidades pueden desarrollarse con esfuerzo y tiempo, en lugar de ser estáticas, es fundamental tanto para docentes como para estudiantes.\n",
    "   - **Aplicación**: Fomentar una mentalidad de crecimiento en ti mismo y en tus estudiantes te ayudará a ser resiliente ante el rechazo inicial. Transmitirles que el dominio de Python y LaTeX es posible con la práctica, y que cometer errores es parte del proceso, los motivará a perseverar.\n",
    "   - **Ejemplo**: Al enfrentar resistencia, puedes recordar a los estudiantes que todos pueden aprender a programar, independientemente de su experiencia previa, y que cada pequeño paso los acerca al dominio del lenguaje.\n"
   ]
  },
  {
   "cell_type": "markdown",
   "id": "4bbda6e9",
   "metadata": {},
   "source": [
    "\n",
    "### 6. **Teoría del Aprendizaje Experiencial de David Kolb**\n",
    "   - **Enfoque**: Kolb plantea que el aprendizaje es más efectivo cuando se basa en la experiencia directa. Los estudiantes aprenden mejor al hacer, reflexionar y experimentar.\n",
    "   - **Aplicación**: El enfoque en Python y LaTeX como herramientas experimentales promueve el aprendizaje por descubrimiento, lo cual es esencial en la teoría de Kolb. Aunque puede haber resistencia al principio, los estudiantes encontrarán valor en el proceso experimental, ya que permite un aprendizaje profundo.\n",
    "   - **Ejemplo**: Puedes alentar a tus estudiantes a ver la codificación como un experimento continuo en el que cada error es una oportunidad para aprender algo nuevo.\n"
   ]
  },
  {
   "cell_type": "markdown",
   "id": "5fd16c99",
   "metadata": {},
   "source": [
    "\n",
    "### **Resiliencia Personal**\n",
    "Además de aplicar estas teorías con tus estudiantes, para **fortalecer tu propia resiliencia** y tolerancia al rechazo, puedes practicar estrategias como:\n",
    "- **Autoafirmación positiva**: Recuérdate los logros que ya has alcanzado con tus estudiantes y los cambios positivos que has visto en ellos.\n",
    "- **Mindfulness**: Desarrollar la capacidad de estar presente te ayudará a manejar el estrés ante la resistencia de los estudiantes.\n",
    "- **Establecimiento de metas realistas**: Fija metas alcanzables en cada etapa del aprendizaje de tus estudiantes para evitar frustraciones.\n"
   ]
  },
  {
   "cell_type": "markdown",
   "id": "ed311011",
   "metadata": {},
   "source": [
    "\n",
    "### Recursos:\n",
    "- [**Angela Duckworth**: *Grit: The Power of Passion and Perseverance*.](https://www.youtube.com/watch?v=H14bBuluwB8)\n",
    "- **Albert Bandura**: *Self-Efficacy: The Exercise of Control*.\n",
    "- **Carol Dweck**: *Mindset: The New Psychology of Success*.\n",
    "- **Richard M. Ryan y Edward L. Deci**: *Self-Determination Theory: Basic Psychological Needs in Motivation, Development, and Wellness*.\n"
   ]
  },
  {
   "cell_type": "markdown",
   "id": "3474db92",
   "metadata": {},
   "source": [
    "\n",
    "Implementar estas estrategias psicológicas te ayudará a mantener una actitud positiva y perseverante en tu enseñanza, apoyando a tus estudiantes en su viaje hacia la autonomía y el aprendizaje crítico.\n",
    "\n"
   ]
  },
  {
   "cell_type": "markdown",
   "id": "96775931",
   "metadata": {
    "slideshow": {
     "slide_type": "slide"
    }
   },
   "source": [
    "## Título de la clase: Cómo plantear modelos y resolverlos con tablas   \n",
    "\n",
    "[]()"
   ]
  },
  {
   "cell_type": "markdown",
   "id": "1d38dd4e",
   "metadata": {
    "slideshow": {
     "slide_type": "slide"
    }
   },
   "source": [
    "## Objetivo de aprendizaje\n"
   ]
  },
  {
   "cell_type": "markdown",
   "id": "8853d874",
   "metadata": {},
   "source": [
    "## El componente histórico y epistemológico  \n",
    "\n",
    "La enseñanza de la matemática desde \n",
    "* la toma de datos, \n",
    "* la sistematización en tablas, \n",
    "* la graficación, \n",
    "* el entrenamiento de modelos \n",
    "\n",
    "permite al estudiante describir y predecir su mundo. "
   ]
  },
  {
   "cell_type": "markdown",
   "id": "4886cd8b",
   "metadata": {},
   "source": [
    "# Componentes históricos y epistemológicos clave:\n"
   ]
  },
  {
   "cell_type": "markdown",
   "id": "2aab10ee",
   "metadata": {},
   "source": [
    "\n",
    "### 1. **Toma de datos**\n",
    "   **Componente histórico:** \n",
    "   - La recopilación de datos ha sido una práctica esencial desde la antigüedad, utilizada por civilizaciones como los egipcios y babilonios para medir propiedades físicas como el área y el volumen. Más tarde, en la Edad Media, con la llegada del Renacimiento, surgió la necesidad de recoger datos de observaciones astronómicas (Tycho Brahe) y demográficas (John Graunt).\n",
    "   \n",
    "   **Componente epistemológico:**\n",
    "   - La epistemología de la toma de datos implica el reconocimiento de los fenómenos observables y su cuantificación para establecer patrones y regularidades. Esto se vincula con el positivismo lógico, que busca relacionar el conocimiento con observaciones empíricas verificables.\n",
    "   - **Referentes:** \n",
    "     - John Graunt (demografía)\n",
    "     - Tycho Brahe (observaciones astronómicas)\n",
    "     - Auguste Comte (positivismo)\n"
   ]
  },
  {
   "cell_type": "markdown",
   "id": "566c9745",
   "metadata": {},
   "source": [
    "\n",
    "### 2. **Sistematización de datos en tablas**\n",
    "   **Componente histórico:**\n",
    "   - La sistematización de datos en tablas tiene una larga tradición, desde los inventarios de recursos en Mesopotamia hasta los censos modernos. Con la llegada del cálculo estadístico, figuras como Francis Galton y Karl Pearson propusieron la organización de datos en tablas para facilitar el análisis.\n",
    "   \n",
    "   **Componente epistemológico:**\n",
    "   - Las tablas representan la formalización de las observaciones mediante estructuras discretas que permiten la manipulación matemática. Aquí, se conecta con la epistemología matemática de la representación y la formalización, donde los datos son traducidos a una forma que permite su análisis posterior.\n",
    "   - **Referentes:** \n",
    "     - Karl Pearson (estadística)\n",
    "     - Francis Galton (correlación y regresión)\n",
    "     - Blaise Pascal (teoría de la probabilidad)\n"
   ]
  },
  {
   "cell_type": "markdown",
   "id": "240d88d0",
   "metadata": {},
   "source": [
    "\n",
    "### 3. **Graficación o visualización**\n",
    "   **Componente histórico:**\n",
    "   - La visualización de datos comenzó con gráficos cartesianos propuestos por René Descartes en el siglo XVII. En el siglo XIX, William Playfair introdujo los gráficos de barras y líneas. La revolución industrial y el auge de la estadística impulsaron el uso de gráficas para visualizar patrones y tendencias en datos económicos y sociales.\n",
    "   \n",
    "   **Componente epistemológico:**\n",
    "   - La graficación permite la traducción de relaciones abstractas a una representación visual que facilita la comprensión y el análisis de fenómenos. Aquí entra la epistemología de la modelación y la percepción visual, donde las relaciones cuantitativas son exploradas visualmente para inferir conclusiones.\n",
    "   - **Referentes:** \n",
    "     - René Descartes (geometría analítica)\n",
    "     - William Playfair (visualización de datos)\n",
    "     - Edward Tufte (principios de visualización de datos)\n"
   ]
  },
  {
   "cell_type": "markdown",
   "id": "46822d51",
   "metadata": {},
   "source": [
    "\n",
    "### 4. **Entrenamiento de modelos**\n",
    "   **Componente histórico:**\n",
    "   - El desarrollo de modelos matemáticos comenzó en la antigüedad con el estudio de sistemas geométricos y físicos (como los modelos astronómicos de Ptolomeo). Con la llegada del cálculo y el álgebra moderna en el siglo XVII, se formalizó el uso de ecuaciones diferenciales y métodos analíticos para modelar fenómenos. En el siglo XX, con el auge de la informática, se hizo posible entrenar modelos mediante algoritmos computacionales (como la regresión lineal, SVM y redes neuronales).\n",
    "   \n",
    "   **Componente epistemológico:**\n",
    "   - El entrenamiento de modelos se basa en el concepto de inferencia, donde a partir de un conjunto de datos se busca obtener un modelo que generalice la relación subyacente. Aquí, la epistemología matemática se cruza con la estadística inferencial y la ciencia de datos, destacando la capacidad de los modelos para aprender patrones y hacer predicciones.\n",
    "   - **Referentes:** \n",
    "     - Isaac Newton (modelación de fenómenos físicos)\n",
    "     - Carl Friedrich Gauss (ajuste de curvas, método de mínimos cuadrados)\n",
    "     - Alan Turing (modelos computacionales)\n",
    "     - Arthur Samuel (aprendizaje automático)\n",
    "\n",
    "### 5. **Descripción y predicción**\n",
    "   **Componente histórico:**\n",
    "   - La descripción de datos y su posterior uso para predicción tienen sus raíces en los trabajos de matemáticos como Pierre-Simon Laplace y Blaise Pascal en probabilidad. En el siglo XX, las herramientas estadísticas y los modelos predictivos como la regresión lineal y los modelos de series temporales (Box-Jenkins, ARIMA) fueron fundamentales para la predicción en diversos campos.\n",
    "   \n",
    "   **Componente epistemológico:**\n",
    "   - Desde un punto de vista epistemológico, la predicción es un componente esencial del conocimiento científico, que sigue el ciclo de hipótesis, prueba y verificación. La inferencia estadística y la modelización se basan en la capacidad de los modelos para extrapolar información a partir de los datos observados.\n",
    "   - **Referentes:** \n",
    "     - Pierre-Simon Laplace (teoría de probabilidades)\n",
    "     - George Box y Gwilym Jenkins (modelos ARIMA)\n",
    "     - Thomas Bayes (teorema de Bayes y predicción)\n",
    "\n",
    "### **Lista de referentes clave:**\n",
    "   - **John Graunt:** Padre de la demografía moderna.\n",
    "   - **Tycho Brahe:** Astrónomo, precursor de la recolección de datos observacionales.\n",
    "   - **Karl Pearson:** Pionero en la sistematización estadística de datos.\n",
    "   - **Francis Galton:** Desarrolló conceptos clave en correlación y regresión.\n",
    "   - **Blaise Pascal:** Contribuyó al desarrollo de la teoría de la probabilidad.\n",
    "   - **René Descartes:** Introdujo la geometría analítica, base de la graficación moderna.\n",
    "   - **William Playfair:** Pionero en la creación de gráficos estadísticos.\n",
    "   - **Isaac Newton:** Desarrolló modelos para la física que siguen siendo fundamentales.\n",
    "   - **Carl Friedrich Gauss:** Introdujo métodos para el ajuste de curvas en modelos.\n",
    "   - **Alan Turing:** Sentó las bases de la computación y la inteligencia artificial.\n",
    "   - **Arthur Samuel:** Introdujo el concepto de aprendizaje automático.\n",
    "   - **Pierre-Simon Laplace:** Desarrolló la teoría de probabilidades y predicción.\n",
    "   - **George Box y Gwilym Jenkins:** Creadores de los modelos ARIMA.\n",
    "   - **Thomas Bayes:** Introdujo el teorema de Bayes, base para la predicción estadística.\n",
    "\n",
    "Estos componentes y referentes ofrecen una perspectiva amplia para la enseñanza de la matemática en torno a la toma de datos, su análisis y modelización."
   ]
  },
  {
   "cell_type": "code",
   "execution_count": 2,
   "id": "bc0addfe",
   "metadata": {},
   "outputs": [
    {
     "data": {
      "text/plain": [
       "'\\\\marco\\\\Documentos\\\\extension\\\\Cómo modelar con tablas.pdf'"
      ]
     },
     "execution_count": 2,
     "metadata": {},
     "output_type": "execute_result"
    }
   ],
   "source": [
    "# mapa conceptual para cada clase  \n",
    "from graphviz import Digraph\n",
    "\n",
    "# Crear un nuevo grafo dirigido\n",
    "dot = Digraph()\n",
    "\n",
    "# Añadir nodos y relaciones al grafo\n",
    "main_concept = 'Cómo modelar con tablas'\n",
    "dot.node('A', main_concept)\n",
    "dot.node('B', '')\n",
    "dot.node('C', '')\n",
    "\n",
    "dot.edges(['AB'])\n",
    "dot.edges(['AC'])\n",
    "\n",
    "# Guardar el grafo como un archivo de imagen\n",
    "dot.render(filename=main_concept, format='png', cleanup=True, \\\n",
    "           directory='/marco/Documentos/extension')\n",
    "\n",
    "dot.view()\n"
   ]
  },
  {
   "cell_type": "markdown",
   "id": "10e55ccf",
   "metadata": {},
   "source": [
    "# Cómo modelar con tablas "
   ]
  },
  {
   "cell_type": "markdown",
   "id": "239427f7",
   "metadata": {},
   "source": [
    "# Problemas matemáticos   \n"
   ]
  },
  {
   "cell_type": "markdown",
   "id": "2c162b95",
   "metadata": {},
   "source": [
    "\n",
    "Esta es una lista de ejemplos de problemas de matemática escolar que puedes modelar a través de tablas y funciones matemáticas, distribuidos en los niveles de primaria, secundaria y universidad. "
   ]
  },
  {
   "cell_type": "markdown",
   "id": "2c3cfc7c",
   "metadata": {},
   "source": [
    "Los datos pueden ser recolectados por los estudiantes observando fenómenos cotidianos o problemáticas familiares o sociales del departamento de Córdoba, Colombia:\n"
   ]
  },
  {
   "cell_type": "markdown",
   "id": "33d98252",
   "metadata": {},
   "source": [
    "\n",
    "### **Primaria:**\n",
    "1. **Crecimiento de una planta**  \n",
    "   - **Descripción**: Los estudiantes pueden medir el crecimiento de una planta en su casa o escuela durante varias semanas.  \n",
    "   - **Función**: Altura (cm) vs. Tiempo (semanas).  \n",
    "   - **Modelo**: Función lineal (si la velocidad de crecimiento es constante).  \n"
   ]
  },
  {
   "cell_type": "markdown",
   "id": "f361c0d6",
   "metadata": {},
   "source": [
    "\n",
    "2. **Consumo de agua en el hogar**  \n",
    "   - **Descripción**: Los estudiantes pueden registrar el consumo de agua en su hogar durante una semana o mes.  \n",
    "   - **Función**: Cantidad de agua (litros) vs. Días.  \n",
    "   - **Modelo**: Función lineal o polinómica (dependiendo del consumo diario).\n"
   ]
  },
  {
   "cell_type": "markdown",
   "id": "422305ff",
   "metadata": {},
   "source": [
    "\n",
    "3. **Calificaciones diarias**  \n",
    "   - **Descripción**: Registrar las calificaciones diarias en tareas de matemáticas o lenguaje.  \n",
    "   - **Función**: Calificación vs. Días.  \n",
    "   - **Modelo**: Función lineal o cuadrática (mejora o empeora con el tiempo).\n"
   ]
  },
  {
   "cell_type": "markdown",
   "id": "70e5242c",
   "metadata": {},
   "source": [
    "\n",
    "### **Secundaria:**\n",
    "1. **Temperatura en Córdoba durante un mes**  \n",
    "   - **Descripción**: Los estudiantes pueden recolectar datos de la temperatura diaria de su municipio durante un mes.  \n",
    "   - **Función**: Temperatura (°C) vs. Día del mes.  \n",
    "   - **Modelo**: Función trigonométrica o polinómica (para modelar fluctuaciones diarias).\n"
   ]
  },
  {
   "cell_type": "markdown",
   "id": "fa2011dd",
   "metadata": {},
   "source": [
    "\n",
    "2. **Costo de la canasta familiar en el mercado local**  \n",
    "   - **Descripción**: Hacer seguimiento de los precios de ciertos productos de la canasta familiar en el mercado local durante varias semanas.  \n",
    "   - **Función**: Costo total (pesos) vs. Semana.  \n",
    "   - **Modelo**: Función lineal o exponencial (si los precios suben de forma acelerada).\n",
    "\n",
    "3. **Velocidad promedio en recorridos diarios**  \n",
    "   - **Descripción**: Medir el tiempo que tardan en ir desde su casa hasta la escuela y calcular la velocidad promedio.  \n",
    "   - **Función**: Velocidad promedio (km/h) vs. Día de la semana.  \n",
    "   - **Modelo**: Función constante o lineal.\n"
   ]
  },
  {
   "cell_type": "markdown",
   "id": "6db0bd51",
   "metadata": {},
   "source": [
    "\n",
    "### **Universidad:**\n",
    "1. **Prevalencia de enfermedades como el dengue o la malaria en Córdoba**  \n",
    "   - **Descripción**: Analizar el número de casos reportados de enfermedades transmitidas por vectores (como dengue) en diferentes meses o años.  \n",
    "   - **Función**: Número de casos vs. Mes/Año.  \n",
    "   - **Modelo**: Función logística o exponencial.\n"
   ]
  },
  {
   "cell_type": "markdown",
   "id": "793a731b",
   "metadata": {},
   "source": [
    "\n",
    "2. **Tasa de desempleo juvenil en Córdoba**  \n",
    "   - **Descripción**: Recolectar datos de la tasa de desempleo en jóvenes de 18 a 25 años en diferentes municipios de Córdoba.  \n",
    "   - **Función**: Tasa de desempleo (%) vs. Año.  \n",
    "   - **Modelo**: Función lineal o cuadrática.\n"
   ]
  },
  {
   "cell_type": "markdown",
   "id": "8f247292",
   "metadata": {},
   "source": [
    "\n",
    "3. **Producción agrícola de cultivos locales (arroz, maíz, etc.)**  \n",
    "   - **Descripción**: Investigar la producción agrícola en toneladas de cultivos específicos en Córdoba durante varios años.  \n",
    "   - **Función**: Producción (toneladas) vs. Año.  \n",
    "   - **Modelo**: Función exponencial o polinómica (dependiendo de las mejoras o problemas en la producción).\n"
   ]
  },
  {
   "cell_type": "markdown",
   "id": "1795a7c3",
   "metadata": {},
   "source": [
    "\n",
    "### **Ejemplos relacionados con problemáticas sociales de Córdoba:**\n",
    "- **Nivel de educación y rendimiento académico**: Relacionar el nivel educativo de los padres con el rendimiento académico de los estudiantes.\n",
    "- **Acceso al agua potable**: Comparar el acceso a agua potable en diferentes zonas rurales y urbanas de Córdoba.\n",
    "- **Uso de transporte público**: Recolectar datos sobre el tiempo promedio que tardan en llegar a sus destinos utilizando transporte público en Córdoba.\n"
   ]
  },
  {
   "cell_type": "markdown",
   "id": "d0cb39fd",
   "metadata": {},
   "source": [
    "\n",
    "Cada uno de estos problemas puede ser presentado con tablas de datos que los estudiantes recojan y modelen con funciones matemáticas que correspondan a su nivel educativo, lo que fomenta la contextualización y la relevancia de las matemáticas en su entorno inmediato."
   ]
  },
  {
   "cell_type": "markdown",
   "id": "318c8bc3",
   "metadata": {},
   "source": [
    "Para obtener datos reales de altura de plantas en Colombia, considerando el crecimiento a lo largo del tiempo en semanas, puedes seguir varias estrategias. Te detallo algunos recursos y fuentes que pueden ayudarte a recopilar esta información:\n"
   ]
  },
  {
   "cell_type": "markdown",
   "id": "baab38b4",
   "metadata": {},
   "source": [
    "\n",
    "### 1. **Contactar con instituciones agrícolas en Colombia:**\n",
    "   - **Agrosavia (Corporación Colombiana de Investigación Agropecuaria):** Esta entidad tiene proyectos de investigación agrícola que suelen recolectar datos sobre cultivos y su crecimiento, lo que puede incluir datos de altura de plantas a lo largo del tiempo.\n",
    "     - Sitio web: [https://www.agrosavia.co](https://www.agrosavia.co)\n",
    "     - Contacto: Puedes solicitar datos específicos relacionados con el crecimiento de cultivos que sean de interés.\n",
    "\n",
    "### 2. **Consultar bases de datos científicas y repositorios de datos abiertos:**\n",
    "   - **IDEAM (Instituto de Hidrología, Meteorología y Estudios Ambientales):** Aunque su enfoque principal es el clima y los datos meteorológicos, pueden tener datos sobre variables ambientales que influyan en el crecimiento de las plantas.\n",
    "     - Sitio web: [http://www.ideam.gov.co](http://www.ideam.gov.co)\n"
   ]
  },
  {
   "cell_type": "markdown",
   "id": "1ef79a55",
   "metadata": {},
   "source": [
    "\n",
    "   - **World Agroforestry (ICRAF):** Este instituto investiga el impacto de diferentes condiciones climáticas y de suelo en el crecimiento de plantas, lo que puede incluir la altura de plantas en regiones tropicales.\n",
    "     - Sitio web: [https://www.worldagroforestry.org](https://www.worldagroforestry.org)\n",
    "\n",
    "   - **Repositorio de datos abiertos de investigación:**\n",
    "     - Puedes buscar en repositorios como [Dataverse](https://dataverse.org/) o [Kaggle](https://www.kaggle.com/) para encontrar datasets relacionados con el crecimiento de plantas en función del tiempo.\n",
    "\n",
    "### 3. **Proyectos de investigación locales:**\n",
    "   - Contacta con universidades colombianas que tengan facultades de agronomía o biología vegetal. Estas instituciones suelen llevar a cabo investigaciones que involucran la recolección de datos longitudinales sobre el crecimiento de plantas, particularmente en relación con cultivos autóctonos o importantes para la región.\n",
    "     - **Universidad Nacional de Colombia, sede Medellín (Facultad de Ciencias Agrarias).**\n",
    "     - **Universidad de Antioquia (Facultad de Ciencias Exactas y Naturales).**\n",
    "   \n",
    "   Puedes enviarles un correo solicitando datos sobre algún proyecto específico de crecimiento vegetal.\n"
   ]
  },
  {
   "cell_type": "markdown",
   "id": "80d948ed",
   "metadata": {},
   "source": [
    "\n",
    "### 4. **Investigación de campo propia:**\n",
    "   - Si no encuentras datos disponibles, podrías realizar un experimento propio o involucrar a estudiantes en un proyecto de recolección de datos. Para esto, puedes plantar diversas especies en un área controlada y medir la altura semanalmente. Asegúrate de documentar las condiciones ambientales y las características de las plantas.\n",
    "   - Para sistematizar los datos, podrías utilizar herramientas como Jupyter Notebooks para registrar los valores y luego visualizar los resultados.\n",
    "\n",
    "### 5. **Publicaciones académicas:**\n",
    "   - Puedes revisar publicaciones científicas en plataformas como **Google Scholar** o **ResearchGate** en las que se detallen estudios sobre el crecimiento de plantas en Colombia. Allí podrías encontrar series de datos ya publicados en los apéndices o en las tablas de resultados.\n",
    "     - Usa términos de búsqueda como \"altura de plantas en Colombia\", \"crecimiento vegetal semanal\", o \"datos de cultivos colombianos\".\n",
    "\n",
    "### 6. **Redes de agricultores:**\n",
    "   - Organizaciones locales o cooperativas de agricultores, como **Fedearroz** o asociaciones de productores, pueden tener registros de crecimiento vegetal de interés que se utilizan en la gestión de cultivos y mejora de variedades.\n"
   ]
  },
  {
   "cell_type": "markdown",
   "id": "a3d7971f",
   "metadata": {},
   "source": [
    "\n",
    "### Herramientas para trabajar los datos:\n",
    "   - Una vez que consigas los datos, puedes procesarlos con **Python** usando bibliotecas como `pandas` para su organización y `matplotlib` o `plotly` para visualizarlos. Si realizas un experimento propio, puedes documentar los resultados en un formato de serie de tiempo y luego entrenar modelos predictivos para estimar el crecimiento de las plantas a lo largo de las semanas.\n",
    "\n",
    "### Ejemplo de script en Python para visualización de datos:\n"
   ]
  },
  {
   "cell_type": "code",
   "execution_count": 1,
   "id": "343e2510",
   "metadata": {},
   "outputs": [
    {
     "data": {
      "image/png": "[encoded data removed]",
      "text/plain": [
       "<Figure size 640x480 with 1 Axes>"
      ]
     },
     "metadata": {},
     "output_type": "display_data"
    }
   ],
   "source": [
    "\n",
    "import pandas as pd\n",
    "import matplotlib.pyplot as plt\n",
    "\n",
    "# Datos ficticios de crecimiento de plantas (alturas en cm)\n",
    "semanas = list(range(1, 11))\n",
    "alturas = [5, 12, 20, 29, 40, 52, 66, 81, 97, 115]  # Altura en cm\n",
    "\n",
    "# Crear DataFrame\n",
    "df = pd.DataFrame({'Semanas': semanas, 'Altura (cm)': alturas})\n",
    "\n",
    "# Graficar\n",
    "plt.plot(df['Semanas'], df['Altura (cm)'], marker='o')\n",
    "plt.title('Crecimiento de Plantas en Colombia (Altura vs Semanas)')\n",
    "plt.xlabel('Semanas')\n",
    "plt.ylabel('Altura (cm)')\n",
    "plt.grid(True)\n",
    "plt.show()\n",
    "\n"
   ]
  },
  {
   "cell_type": "markdown",
   "id": "d5460602",
   "metadata": {},
   "source": [
    "\n",
    "### Conclusión:\n",
    "Obtener datos reales de altura de plantas en Colombia puede requerir contactar instituciones, revisar repositorios de datos abiertos, o diseñar un experimento propio. Las herramientas disponibles en Python te permitirán trabajar fácilmente con estos datos una vez que los tengas."
   ]
  },
  {
   "cell_type": "markdown",
   "id": "562ebba2",
   "metadata": {},
   "source": [
    "# Práctica con los maestros sobre modelación para la descripción y la predicción a partir de los datos"
   ]
  },
  {
   "cell_type": "markdown",
   "id": "3d53fb41",
   "metadata": {},
   "source": [
    "dame unos datos artificiales de crecimiento de una planta de frijol como función de el númmero de días para representar en un dataframe de pandas "
   ]
  },
  {
   "cell_type": "code",
   "execution_count": 1,
   "id": "f349a3ef",
   "metadata": {},
   "outputs": [
    {
     "data": {
      "text/html": [
       "<div>\n",
       "<style scoped>\n",
       "    .dataframe tbody tr th:only-of-type {\n",
       "        vertical-align: middle;\n",
       "    }\n",
       "\n",
       "    .dataframe tbody tr th {\n",
       "        vertical-align: top;\n",
       "    }\n",
       "\n",
       "    .dataframe thead th {\n",
       "        text-align: right;\n",
       "    }\n",
       "</style>\n",
       "<table border=\"1\" class=\"dataframe\">\n",
       "  <thead>\n",
       "    <tr style=\"text-align: right;\">\n",
       "      <th></th>\n",
       "      <th>Días</th>\n",
       "      <th>Altura (cm)</th>\n",
       "    </tr>\n",
       "  </thead>\n",
       "  <tbody>\n",
       "    <tr>\n",
       "      <th>0</th>\n",
       "      <td>1</td>\n",
       "      <td>0.099343</td>\n",
       "    </tr>\n",
       "    <tr>\n",
       "      <th>1</th>\n",
       "      <td>2</td>\n",
       "      <td>1.358642</td>\n",
       "    </tr>\n",
       "    <tr>\n",
       "      <th>2</th>\n",
       "      <td>3</td>\n",
       "      <td>2.326762</td>\n",
       "    </tr>\n",
       "    <tr>\n",
       "      <th>3</th>\n",
       "      <td>4</td>\n",
       "      <td>3.077195</td>\n",
       "    </tr>\n",
       "    <tr>\n",
       "      <th>4</th>\n",
       "      <td>5</td>\n",
       "      <td>3.172045</td>\n",
       "    </tr>\n",
       "  </tbody>\n",
       "</table>\n",
       "</div>"
      ],
      "text/plain": [
       "   Días  Altura (cm)\n",
       "0     1     0.099343\n",
       "1     2     1.358642\n",
       "2     3     2.326762\n",
       "3     4     3.077195\n",
       "4     5     3.172045"
      ]
     },
     "execution_count": 1,
     "metadata": {},
     "output_type": "execute_result"
    }
   ],
   "source": [
    "import pandas as pd\n",
    "import numpy as np\n",
    "\n",
    "# Generar datos artificiales de crecimiento de una planta de frijol como función del número de días\n",
    "np.random.seed(42)  # Para reproducibilidad\n",
    "\n",
    "# Número de días (simularemos 30 días de crecimiento)\n",
    "dias = np.arange(1, 31)\n",
    "\n",
    "# Crecimiento de la planta (altura en cm), con una tendencia creciente y algo de ruido\n",
    "altura_cm = 2 * np.log(dias) + np.random.normal(0, 0.2, len(dias))\n",
    "\n",
    "# Crear un DataFrame con los datos\n",
    "df_frijol = pd.DataFrame({\n",
    "    'Días': dias,\n",
    "    'Altura (cm)': altura_cm\n",
    "})\n",
    "\n",
    "df_frijol.head()  # Mostrar los primeros registros del dataframe\n"
   ]
  },
  {
   "cell_type": "code",
   "execution_count": 3,
   "id": "1fc55116",
   "metadata": {},
   "outputs": [
    {
     "data": {
      "text/plain": [
       "[<matplotlib.lines.Line2D at 0x269811a55e0>]"
      ]
     },
     "execution_count": 3,
     "metadata": {},
     "output_type": "execute_result"
    },
    {
     "data": {
      "image/png": "[encoded data removed]",
      "text/plain": [
       "<Figure size 640x480 with 1 Axes>"
      ]
     },
     "metadata": {},
     "output_type": "display_data"
    }
   ],
   "source": [
    "import matplotlib.pyplot as plt \n",
    "\n",
    "plt.plot(dias, altura_cm)"
   ]
  },
  {
   "cell_type": "markdown",
   "id": "6f95d831",
   "metadata": {},
   "source": [
    "# Revisión al precálculo de Stewart  (Página 139)"
   ]
  },
  {
   "cell_type": "markdown",
   "id": "ec048afb",
   "metadata": {},
   "source": [
    "## Enfoque sobre modelado\n",
    "\n",
    "### Ajuste lineal de datos"
   ]
  },
  {
   "cell_type": "code",
   "execution_count": 4,
   "id": "f41d8417",
   "metadata": {},
   "outputs": [
    {
     "data": {
      "text/plain": [
       "'\\\\ruta\\\\a\\\\guardar\\\\mapa_mundo_real_modelo.pdf'"
      ]
     },
     "execution_count": 4,
     "metadata": {},
     "output_type": "execute_result"
    }
   ],
   "source": [
    "from graphviz import Digraph\n",
    "\n",
    "# Crear un nuevo grafo dirigido\n",
    "dot = Digraph(comment='Mapa Conceptual: Mundo Real y Modelo')\n",
    "\n",
    "# Nodos principales\n",
    "dot.node('A', 'Mundo Real')\n",
    "dot.node('B', 'Modelo')\n",
    "\n",
    "# Relacionar conceptos entre el mundo real y el modelo\n",
    "dot.node('C', 'Observación')\n",
    "dot.node('D', 'Teoría')\n",
    "dot.node('E', 'Datos')\n",
    "dot.node('F', 'Abstracción')\n",
    "dot.node('G', 'Simulación')\n",
    "dot.node('H', 'Interpretación')\n",
    "\n",
    "# Conectar los nodos entre sí\n",
    "dot.edges(['AC', 'BC', 'BD', 'AE', 'BF', 'DF', 'FG', 'GH'])\n",
    "\n",
    "# Guardar el grafo como un archivo de imagen\n",
    "dot.render('mapa_mundo_real_modelo', format='png', cleanup=True, \\\n",
    "           directory='/ruta/a/guardar')  # Cambia esta ruta a la que desees\n",
    "\n",
    "# Mostrar el grafo\n",
    "dot.view()\n"
   ]
  },
  {
   "cell_type": "markdown",
   "id": "b078f9d8",
   "metadata": {},
   "source": [
    "Un modelo es una representación de un objeto o un proceso. "
   ]
  },
  {
   "cell_type": "markdown",
   "id": "9e96d785",
   "metadata": {},
   "source": [
    "Por ejemplo, un Ferrari de juguete es un modelo del auto real; un mapa de caminos es un modelo de las calles en una ciudad. "
   ]
  },
  {
   "cell_type": "markdown",
   "id": "fdec449f",
   "metadata": {},
   "source": [
    "Un modelo matemático es una representación matemática (por lo general una ecuación) de un objeto o proceso. "
   ]
  },
  {
   "cell_type": "markdown",
   "id": "e847d7a3",
   "metadata": {},
   "source": [
    "Una vez hecho un modelo matemático, este se puede usar para obtener información útil o hacer predicciones acerca de lo que esté siendo modelado. "
   ]
  },
  {
   "cell_type": "markdown",
   "id": "818777da",
   "metadata": {},
   "source": [
    "En estas secciones de Enfoque sobre modelado exploramos diferentes\n",
    "formas en las que se puede usar matemáticas para modelar fenómenos reales."
   ]
  },
  {
   "cell_type": "markdown",
   "id": "775140f8",
   "metadata": {},
   "source": [
    "En la práctica estas relaciones se descubren al recolectar datos, pero los datos reales raras veces caen en una recta precisa. "
   ]
  },
  {
   "cell_type": "markdown",
   "id": "547f0566",
   "metadata": {},
   "source": [
    "La gráfica de dispersión de la figura 1a) muestra el resultado de un estudio acerca de la obesidad infantil. "
   ]
  },
  {
   "cell_type": "markdown",
   "id": "f67dd983",
   "metadata": {},
   "source": [
    "La gráfica\n",
    "determina el índice de masa corporal (IMC) contra el número de horas al día de ver televisión para 25 adolescentes. Desde luego que no esperaríamos que los datos fueran exactamente lineales como en la figura 1b), pero hay una tendencia lineal indicada\n",
    "por la recta azul de la fi gura 1a): a más horas que un adolescente ve televisión,\n",
    "más alto es el IMC. En esta sección aprenderemos a encontrar la recta que mejor se\n",
    "ajusta a los datos."
   ]
  },
  {
   "cell_type": "code",
   "execution_count": 9,
   "id": "0c124c26",
   "metadata": {},
   "outputs": [
    {
     "data": {
      "image/png": "[encoded data removed]",
      "text/plain": [
       "<Figure size 640x480 with 1 Axes>"
      ]
     },
     "metadata": {},
     "output_type": "display_data"
    },
    {
     "data": {
      "text/html": [
       "<div>\n",
       "<style scoped>\n",
       "    .dataframe tbody tr th:only-of-type {\n",
       "        vertical-align: middle;\n",
       "    }\n",
       "\n",
       "    .dataframe tbody tr th {\n",
       "        vertical-align: top;\n",
       "    }\n",
       "\n",
       "    .dataframe thead th {\n",
       "        text-align: right;\n",
       "    }\n",
       "</style>\n",
       "<table border=\"1\" class=\"dataframe\">\n",
       "  <thead>\n",
       "    <tr style=\"text-align: right;\">\n",
       "      <th></th>\n",
       "      <th>Horas TV</th>\n",
       "      <th>IMC</th>\n",
       "    </tr>\n",
       "  </thead>\n",
       "  <tbody>\n",
       "    <tr>\n",
       "      <th>0</th>\n",
       "      <td>2.498160</td>\n",
       "      <td>19.369053</td>\n",
       "    </tr>\n",
       "    <tr>\n",
       "      <th>1</th>\n",
       "      <td>4.802857</td>\n",
       "      <td>22.440006</td>\n",
       "    </tr>\n",
       "    <tr>\n",
       "      <th>2</th>\n",
       "      <td>3.927976</td>\n",
       "      <td>23.701869</td>\n",
       "    </tr>\n",
       "    <tr>\n",
       "      <th>3</th>\n",
       "      <td>3.394634</td>\n",
       "      <td>21.109940</td>\n",
       "    </tr>\n",
       "    <tr>\n",
       "      <th>4</th>\n",
       "      <td>1.624075</td>\n",
       "      <td>19.421479</td>\n",
       "    </tr>\n",
       "  </tbody>\n",
       "</table>\n",
       "</div>"
      ],
      "text/plain": [
       "   Horas TV        IMC\n",
       "0  2.498160  19.369053\n",
       "1  4.802857  22.440006\n",
       "2  3.927976  23.701869\n",
       "3  3.394634  21.109940\n",
       "4  1.624075  19.421479"
      ]
     },
     "execution_count": 9,
     "metadata": {},
     "output_type": "execute_result"
    }
   ],
   "source": [
    "import pandas as pd\n",
    "import numpy as np\n",
    "import matplotlib.pyplot as plt\n",
    "from sklearn.linear_model import LinearRegression\n",
    "\n",
    "# Datos artificiales\n",
    "np.random.seed(42)\n",
    "\n",
    "# Generar 25 datos para horas de ver televisión al día (entre 1 y 5 horas)\n",
    "horas_tv = np.random.uniform(1, 5, 25)\n",
    "\n",
    "# Generar datos artificiales para el IMC con una tendencia positiva (más horas, mayor IMC) + ruido\n",
    "imc = 18 + 0.8 * horas_tv + np.random.normal(0, 1, 25)\n",
    "\n",
    "# Crear DataFrame\n",
    "df_imc_tv = pd.DataFrame({\n",
    "    'Horas TV': horas_tv,\n",
    "    'IMC': imc\n",
    "})\n",
    "\n",
    "# Crear el modelo lineal\n",
    "X = df_imc_tv[['Horas TV']]\n",
    "y = df_imc_tv['IMC']\n",
    "\n",
    "modelo_lineal = LinearRegression()\n",
    "modelo_lineal.fit(X, y)\n",
    "\n",
    "# Predecir valores con el modelo lineal\n",
    "y_pred = modelo_lineal.predict(X)\n",
    "\n",
    "# Crear gráfico de dispersión y la línea de regresión\n",
    "plt.scatter(df_imc_tv['Horas TV'], df_imc_tv['IMC'], color='blue', label='Datos')\n",
    "plt.plot(df_imc_tv['Horas TV'], y_pred, color='red', label='Ajuste Lineal')\n",
    "plt.xlabel('Horas de TV al día')\n",
    "plt.ylabel('Índice de Masa Corporal (IMC)')\n",
    "plt.title('Relación entre Horas de TV y el IMC en Adolescentes')\n",
    "plt.legend()\n",
    "plt.grid(True)\n",
    "plt.show()\n",
    "\n",
    "# Mostrar el DataFrame\n",
    "df_imc_tv.head()  # Mostrar los primeros registros del dataframe\n"
   ]
  },
  {
   "cell_type": "markdown",
   "id": "596b4ed5",
   "metadata": {},
   "source": [
    "# Ejemplo 2 sobre mortalidad infantil en Colombia de 1950 a 2024. "
   ]
  },
  {
   "cell_type": "code",
   "execution_count": 10,
   "id": "bd424664",
   "metadata": {},
   "outputs": [
    {
     "data": {
      "image/png": "[encoded data removed]",
      "text/plain": [
       "<Figure size 640x480 with 1 Axes>"
      ]
     },
     "metadata": {},
     "output_type": "display_data"
    },
    {
     "data": {
      "text/html": [
       "<div>\n",
       "<style scoped>\n",
       "    .dataframe tbody tr th:only-of-type {\n",
       "        vertical-align: middle;\n",
       "    }\n",
       "\n",
       "    .dataframe tbody tr th {\n",
       "        vertical-align: top;\n",
       "    }\n",
       "\n",
       "    .dataframe thead th {\n",
       "        text-align: right;\n",
       "    }\n",
       "</style>\n",
       "<table border=\"1\" class=\"dataframe\">\n",
       "  <thead>\n",
       "    <tr style=\"text-align: right;\">\n",
       "      <th></th>\n",
       "      <th>Año</th>\n",
       "      <th>Mortalidad Infantil (por 1000)</th>\n",
       "    </tr>\n",
       "  </thead>\n",
       "  <tbody>\n",
       "    <tr>\n",
       "      <th>0</th>\n",
       "      <td>1950</td>\n",
       "      <td>152.483571</td>\n",
       "    </tr>\n",
       "    <tr>\n",
       "      <th>1</th>\n",
       "      <td>1951</td>\n",
       "      <td>148.508678</td>\n",
       "    </tr>\n",
       "    <tr>\n",
       "      <th>2</th>\n",
       "      <td>1952</td>\n",
       "      <td>151.638443</td>\n",
       "    </tr>\n",
       "    <tr>\n",
       "      <th>3</th>\n",
       "      <td>1953</td>\n",
       "      <td>155.215149</td>\n",
       "    </tr>\n",
       "    <tr>\n",
       "      <th>4</th>\n",
       "      <td>1954</td>\n",
       "      <td>145.629233</td>\n",
       "    </tr>\n",
       "  </tbody>\n",
       "</table>\n",
       "</div>"
      ],
      "text/plain": [
       "    Año  Mortalidad Infantil (por 1000)\n",
       "0  1950                      152.483571\n",
       "1  1951                      148.508678\n",
       "2  1952                      151.638443\n",
       "3  1953                      155.215149\n",
       "4  1954                      145.629233"
      ]
     },
     "execution_count": 10,
     "metadata": {},
     "output_type": "execute_result"
    }
   ],
   "source": [
    "import pandas as pd\n",
    "import numpy as np\n",
    "import matplotlib.pyplot as plt\n",
    "from sklearn.linear_model import LinearRegression\n",
    "\n",
    "# Datos artificiales\n",
    "np.random.seed(42)\n",
    "\n",
    "# Generar años desde 1950 hasta 2024\n",
    "años = np.arange(1950, 2025)\n",
    "\n",
    "# Generar datos artificiales de mortalidad infantil (tasa por 1000 nacidos vivos)\n",
    "# Mortalidad desciende con el tiempo (tendencia negativa) + algo de ruido\n",
    "mortalidad_infantil = 150 - 0.8 * (años - 1950) + np.random.normal(0, 5, len(años))\n",
    "\n",
    "# Crear DataFrame\n",
    "df_mortalidad = pd.DataFrame({\n",
    "    'Año': años,\n",
    "    'Mortalidad Infantil (por 1000)': mortalidad_infantil\n",
    "})\n",
    "\n",
    "# Crear el modelo lineal\n",
    "X = df_mortalidad[['Año']]\n",
    "y = df_mortalidad['Mortalidad Infantil (por 1000)']\n",
    "\n",
    "modelo_lineal = LinearRegression()\n",
    "modelo_lineal.fit(X, y)\n",
    "\n",
    "# Predecir valores con el modelo lineal\n",
    "y_pred = modelo_lineal.predict(X)\n",
    "\n",
    "# Crear gráfico de dispersión y la línea de regresión\n",
    "plt.scatter(df_mortalidad['Año'], df_mortalidad['Mortalidad Infantil (por 1000)'], color='blue', label='Datos')\n",
    "plt.plot(df_mortalidad['Año'], y_pred, color='red', label='Ajuste Lineal')\n",
    "plt.xlabel('Año')\n",
    "plt.ylabel('Mortalidad Infantil (por 1000 nacidos vivos)')\n",
    "plt.title('Relación entre Años y Mortalidad Infantil en Colombia (1950-2024)')\n",
    "plt.legend()\n",
    "plt.grid(True)\n",
    "plt.show()\n",
    "\n",
    "# Mostrar el DataFrame\n",
    "df_mortalidad.head()  # Mostrar los primeros registros del dataframe\n"
   ]
  },
  {
   "cell_type": "markdown",
   "id": "c43281d9",
   "metadata": {},
   "source": [
    "# Práctica con los maestros de ajuste manual de datos  \n",
    "\n",
    "### Actividad para Maestros en el Departamento de Córdoba, Colombia\n",
    "**Duración:** 20 minutos  \n",
    "**Objetivo:** Los maestros aprenderán a trazar un diagrama de dispersión y a ajustar una recta a mano para estimar la pendiente e intersección de la recta de mejor ajuste.\n",
    "\n",
    "---\n"
   ]
  },
  {
   "cell_type": "markdown",
   "id": "43c7710b",
   "metadata": {},
   "source": [
    "\n",
    "#### **Materiales:**\n",
    "- Hojas cuadriculadas (una por maestro)\n",
    "- Regla\n",
    "- Lápiz\n",
    "- Calculadora\n",
    "- Diez puntos de datos (provistos a continuación)\n",
    "\n",
    "---\n",
    "\n",
    "### **Pasos para la actividad**\n",
    "\n",
    "#### **1. Explicación inicial (5 minutos):**\n",
    "Explique brevemente el objetivo del ejercicio:\n",
    "- **Diagrama de dispersión**: Se utilizarán 10 puntos que representan una relación entre dos variables, como el número de horas de estudio y la calificación obtenida en un examen.\n",
    "- **Ajuste de una recta**: Los maestros trazarán una línea que mejor se ajuste a los puntos. Esta línea no necesita pasar por todos los puntos, sino estar lo más cerca posible de la mayoría de ellos.\n",
    "- **Estimación de pendiente**: Utilizando dos puntos de la línea ajustada, estimarán la pendiente y el intersecto (donde la línea cruza el eje vertical).\n",
    "\n",
    "#### **2. Presentación de los datos (2 minutos):**\n",
    "Distribuya las hojas con la cuadrícula y presente los siguientes puntos, que representan una relación ficticia entre **horas de estudio** y **calificación obtenida**:\n",
    "\n",
    "| Horas de estudio | Calificación |\n",
    "|------------------|--------------|\n",
    "| 1.5              | 3.2          |\n",
    "| 2.0              | 4.0          |\n",
    "| 2.5              | 5.5          |\n",
    "| 3.0              | 6.0          |\n",
    "| 3.5              | 6.8          |\n",
    "| 4.0              | 7.5          |\n",
    "| 4.5              | 8.2          |\n",
    "| 5.0              | 9.0          |\n",
    "| 5.5              | 9.5          |\n",
    "| 6.0              | 10.0         |\n",
    "\n",
    "#### **3. Trazado del diagrama de dispersión (5 minutos):**\n",
    "- Cada maestro deberá trazar en la hoja los 10 puntos dados.\n",
    "- El eje **horizontal** representará las **horas de estudio** y el eje **vertical** representará las **calificaciones**.\n",
    "- Utilice una escala adecuada para que los puntos se distribuyan claramente en la hoja.\n",
    "\n",
    "#### **4. Ajuste de la recta (5 minutos):**\n",
    "- A mano, cada maestro debe dibujar la **recta de mejor ajuste** (usando una regla), de modo que pase lo más cerca posible de la mayor cantidad de puntos.\n",
    "- La recta no necesariamente pasará por todos los puntos, pero debe reflejar la tendencia de los datos.\n",
    "\n",
    "#### **5. Estimación de pendiente e intersección (3 minutos):**\n",
    "- Para estimar la **pendiente** (m), seleccionen dos puntos sobre la recta dibujada y usen la fórmula:  \n",
    "  $$\n",
    "  m = \\frac{y_2 - y_1}{x_2 - x_1}\n",
    "  $$\n",
    "  Donde \\((x_1, y_1)\\) y \\((x_2, y_2)\\) son las coordenadas de los puntos seleccionados.\n",
    "  \n",
    "- Para estimar el **intercepto** (b) con el eje vertical, observen dónde la recta cruza el eje **y**.\n",
    "\n",
    "#### **6. Discusión (5 minutos):**\n",
    "- ¿Cómo estimaron la pendiente e intersección?\n",
    "- Comparen los resultados entre los maestros.\n",
    "- Reflexionen sobre cómo el ajuste manual de una recta y su estimación a mano puede ser útil para interpretar relaciones lineales en el aula.\n",
    "\n",
    "---\n",
    "\n",
    "### **Conclusión:**\n",
    "Esta actividad enseña a los maestros a realizar análisis gráficos y les ayuda a comprender cómo se ajusta una recta a datos reales, aplicable a sus clases para enseñar relaciones entre variables y cómo interpretar tendencias lineales en gráficos.\n",
    "\n"
   ]
  },
  {
   "cell_type": "markdown",
   "id": "d03ef69a",
   "metadata": {},
   "source": [
    "# Taller 2: La función lineal desde la toma de datos "
   ]
  },
  {
   "cell_type": "code",
   "execution_count": null,
   "id": "ed96371c",
   "metadata": {},
   "outputs": [],
   "source": []
  },
  {
   "cell_type": "code",
   "execution_count": null,
   "id": "d3550683",
   "metadata": {},
   "outputs": [],
   "source": []
  },
  {
   "cell_type": "code",
   "execution_count": null,
   "id": "9e8d04c9",
   "metadata": {},
   "outputs": [],
   "source": []
  },
  {
   "cell_type": "code",
   "execution_count": null,
   "id": "10c50765",
   "metadata": {},
   "outputs": [],
   "source": []
  },
  {
   "cell_type": "markdown",
   "id": "64ac8d32",
   "metadata": {},
   "source": [
    "# Ejemplo ilustrativo"
   ]
  },
  {
   "cell_type": "markdown",
   "id": "a3e5e6ab",
   "metadata": {},
   "source": [
    "# 10 ejercicios de entrenamiento o adquisición de habilidades obtenido a través de ChatGPT para una formación personalizada y centrada en la habilidad que se quiere lograr con la enseñanza del ejemplo anterior"
   ]
  },
  {
   "cell_type": "code",
   "execution_count": null,
   "id": "cc539357",
   "metadata": {},
   "outputs": [],
   "source": []
  },
  {
   "cell_type": "markdown",
   "id": "10bce0d0",
   "metadata": {
    "slideshow": {
     "slide_type": "slide"
    }
   },
   "source": [
    "## Referentes "
   ]
  },
  {
   "cell_type": "markdown",
   "id": "1db3c468",
   "metadata": {
    "slideshow": {
     "slide_type": "slide"
    }
   },
   "source": [
    "* [Grajales Vanegas, L. M., Restrepo Estrada, C. E., Restrepo Ochoa, S. I., & Ruíz De Villalba, F. (2015). Matemáticas I para las ciencias económicas.](https://github.com/marco-canas/fundamentos_de_la_aritmetica/blob/main/referentes/2_grajales_logica/grajales_lina_matemticas.pdf)\n",
    "  \n",
    "* Duval, R. (2004). Semiosis y pensamiento humano: registros semióticos y aprendizajes intelectuales. Universidad del Valle.\n",
    "\n",
    "* [Aylwin, C. U. (2011). Lógica, conjuntos y números. Universidad de los Andes, Consejo de Publicaciones, Colección: Ciencias Básicas, Serie: Matemáticas.](https://github.com/marco-canas/fundamentos_logica/blob/main/referentes/2_uzcategui/uscategui.pdf)\n",
    "  \n",
    "* [Chollet, F. (2021). Deep learning with Python. Simon and Schuster.](https://github.com/marco-canas/didactica_ciencia_datos/blob/main/2_referentes/chollet/Fran%C3%A7ois%20Chollet%20-%20Deep%20Learning%20with%20Python-Manning%20(2018).pdf)  \n",
    "  \n",
    "* [Watson, S., Stewart, J., & Redlin, L. (2009). Precálculo. Matemáticas para el cálculo.](https://github.com/marco-canas/calculo/blob/main/referents/1_precalculo_stewart/stewart_precalculo.pdf)  \n",
    "\n",
    "* [Purcell, E. J., Varberg, D., & Rigdon, S. E. (2007). Cálculo diferencial e integral. Pearson Educación.](https://github.com/marco-canas/calculo/blob/main/referents/purcell/purcell_calculo.pdf)\n",
    "\n",
    "  \n",
    "\n",
    "* [stewart cálculo](https://udeaeduco-my.sharepoint.com/:b:/g/personal/marco_canas_udea_edu_co/EZgXZjAp8QxPqOAim2hs6LcBNPLGjSHf-xwYnUVYkwa04w?e=RZdTCy)  \n",
    "\n",
    "* [larson](https://udeaeduco-my.sharepoint.com/:b:/g/personal/marco_canas_udea_edu_co/ES71ChFeO9ZDhW3TwC5Ijk8BjxUK3Pdqz_fjHxTTFAfIAg?e=VDEjfu)\n",
    "\n",
    "\n",
    "\n",
    "* [Recomendación de la UNESCO sobre ciencia abierta](https://unesdoc.unesco.org/ark:/48223/pf0000379949_spa)\n",
    "\n",
    "* [chatGPT](https://openai.com/blog/chatgpt)  \n",
    "\n",
    "* [Géron, A. (2017). Hands-on machine learning with scikit-learn and tensorflow: Concepts. Tools, and Techniques to build intelligent systems.](https://github.com/marco-canas/didactica_ciencia_datos/blob/main/2_referentes/geron/Hands-On%20Machine%20Learning-3nd_Edition(2022).pdf)  \n",
    "\n",
    "* [McKinney, W. (2012). Python for data analysis: Data wrangling with Pandas, NumPy, and IPython. \" O'Reilly Media, Inc.\".](https://github.com/marco-canas/didactica_ciencia_datos/blob/main/2_referentes/mckinney/Wes_McKinney.pdf)  "
   ]
  },
  {
   "cell_type": "markdown",
   "id": "8e65d6f9",
   "metadata": {},
   "source": [
    "# Como estudiante, encuentro que...   \n",
    "\n",
    "F: Mis Fortalezas son:     \n",
    "O: Mis Oportunidades son:    \n",
    "D: Mis Debilidades son:    \n",
    "A: Lo que Amenazas mi aprendizaje es:  "
   ]
  },
  {
   "cell_type": "markdown",
   "id": "6b9e56a8",
   "metadata": {
    "slideshow": {
     "slide_type": "slide"
    }
   },
   "source": [
    "### [Evaluamos al profesor Marco Cañas Aquí](https://forms.office.com/Pages/ResponsePage.aspx?id=IefhmYRxjkmK_7KtTlPBwkanXIs1i1FEujpsZgO6dXpUREJPV1kxUk1JV1ozTFJIQVNIQjY5WEY3US4u)"
   ]
  },
  {
   "cell_type": "markdown",
   "id": "050b9508",
   "metadata": {},
   "source": [
    "# Aportes de mis estudiantes a la metodología del curso  \n",
    "1. \n",
    "\n",
    "Sus opiniones y aportes son muy importantes para mi. Pues esta es una investigación educativa y un servicio de enseñanza para ustedes. Ustedes son la razón de ser de mi actividad docente. Dios los bendiga. "
   ]
  },
  {
   "cell_type": "markdown",
   "id": "6c4af91f",
   "metadata": {},
   "source": [
    "# Aportes de mis colegas docentes a la metodología que estoy aplicando en mis cursos. "
   ]
  },
  {
   "cell_type": "markdown",
   "id": "071afa04",
   "metadata": {
    "slideshow": {
     "slide_type": "slide"
    }
   },
   "source": [
    "## [Evaluación luego de alcanzar estos objetivos de aprendizaje]()"
   ]
  },
  {
   "cell_type": "markdown",
   "id": "10f43536",
   "metadata": {
    "slideshow": {
     "slide_type": "slide"
    }
   },
   "source": [
    "### Continue su aprendizaje en la siguiente clase a través del siguiente [vínculo]()"
   ]
  },
  {
   "cell_type": "markdown",
   "id": "ba236f4d",
   "metadata": {},
   "source": [
    "### **Actividad de Clase: Expresar Ideas, Dudas y Emociones de Manera Respetuosa y Asertiva**\n"
   ]
  },
  {
   "cell_type": "markdown",
   "id": "33bcd185",
   "metadata": {},
   "source": [
    "\n",
    "**Objetivo:**  \n",
    "Desarrollar habilidades de comunicación efectiva en los estudiantes para que puedan expresar sus ideas, dudas y emociones de forma respetuosa y asertiva.\n",
    "\n",
    "**Duración:**  \n",
    "15-20 minutos\n",
    "\n",
    "---\n"
   ]
  },
  {
   "cell_type": "markdown",
   "id": "f61da648",
   "metadata": {},
   "source": [
    "\n",
    "### **1. Introducción (5 minutos)**  \n",
    "- **Tema:** Introducir a los estudiantes al concepto de la comunicación asertiva, explicando cómo expresar pensamientos y emociones de manera clara y respetuosa sin agredir o ser pasivo.\n",
    "- **Dinámica:** Mostrar dos ejemplos contrastantes: uno de comunicación pasiva/agresiva y otro de comunicación asertiva. Preguntar a los estudiantes cuál creen que es más efectivo y por qué.\n",
    "\n",
    "**Materiales:**  \n",
    "- Pizarra o diapositivas con ejemplos de frases pasivas, agresivas y asertivas.\n",
    "  \n",
    "**Ejemplo:**  \n",
    "- **Pasivo:** “Bueno… no sé si es una buena idea, pero… tal vez podrías intentarlo.”\n",
    "- **Agresivo:** “¡Tu idea es terrible, no va a funcionar!”\n",
    "- **Asertivo:** “Creo que podríamos mejorar esa idea si consideramos otro enfoque.”\n",
    "\n",
    "---\n",
    "\n",
    "### **2. Ejercicio en Parejas (10 minutos)**  \n",
    "- **Instrucciones:** Dividir a los estudiantes en parejas. Darles diferentes situaciones cotidianas en las que deben comunicarse (pedir ayuda, expresar desacuerdo, compartir una idea, etc.). Cada pareja debe crear una breve conversación donde practiquen la comunicación asertiva.\n",
    "  \n",
    "**Situaciones propuestas:**\n",
    "  - Expresar desacuerdo con un compañero sobre una tarea de grupo.\n",
    "  - Pedirle ayuda al profesor sobre un concepto difícil.\n",
    "  - Expresar frustración por un malentendido en clase.\n",
    "\n",
    "- **Reglas:** Cada estudiante debe asegurarse de usar lenguaje respetuoso y asertivo para expresar su posición y emociones. Al final, cada pareja debe compartir con la clase un ejemplo de lo que discutieron.\n",
    "\n",
    "---\n",
    "\n",
    "### **3. Retroalimentación y Discusión (5 minutos)**  \n",
    "- **Discusión:** Invitar a algunos estudiantes a compartir sus experiencias de la actividad. \n",
    "- **Preguntas:** ¿Cómo se sintieron al intentar ser asertivos? ¿Les resultó difícil? ¿Cómo fue recibido el mensaje?\n",
    "  \n",
    "**Consejo:** Resaltar la importancia de practicar la asertividad como una herramienta para mejorar la comunicación interpersonal y reducir conflictos.\n",
    "\n",
    "---\n",
    "\n",
    "### **Cierre**  \n",
    "- Resumir las características de la comunicación asertiva: uso de \"yo\" en lugar de \"tú\" para evitar culpabilizar, tono de voz calmado, y respeto hacia el interlocutor.\n",
    "- **Tarea opcional:** Pedirles que practiquen la comunicación asertiva en sus conversaciones durante la semana y escriban una reflexión breve sobre cómo les fue.\n",
    "\n",
    "**Material adicional:**  \n",
    "- Video corto o recurso digital sobre la importancia de la comunicación asertiva."
   ]
  },
  {
   "cell_type": "markdown",
   "id": "53cc9115",
   "metadata": {
    "slideshow": {
     "slide_type": "slide"
    }
   },
   "source": [
    "## Agradecimientos  \n",
    "\n",
    "Doy gracias a Dios por la vida de mi Hijo Joseph Cañas Osorio y la madurez que ha alcanzado.\n",
    "\n",
    "Y a mi esposa Yasmira por su apoyo, orientación y acompañamiento. "
   ]
  }
 ],
 "metadata": {
  "celltoolbar": "Slideshow",
  "kernelspec": {
   "display_name": "Python 3",
   "language": "python",
   "name": "python3"
  },
  "language_info": {
   "codemirror_mode": {
    "name": "ipython",
    "version": 3
   },
   "file_extension": ".py",
   "mimetype": "text/x-python",
   "name": "python",
   "nbconvert_exporter": "python",
   "pygments_lexer": "ipython3",
   "version": "3.12.7"
  },
  "rise": {
   "enable_chalkboard": true,
   "theme": "sky",
   "transition": "zoom"
  }
 },
 "nbformat": 4,
 "nbformat_minor": 5
}
