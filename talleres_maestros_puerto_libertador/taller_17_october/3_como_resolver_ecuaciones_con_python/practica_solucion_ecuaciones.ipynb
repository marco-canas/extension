{
 "cells": [
  {
   "cell_type": "markdown",
   "metadata": {},
   "source": [
    "# Cómo resolver ecuaciones observando  \n",
    "\n",
    "\n",
    "\n",
    "Marco Julio Cañas Campillo \n",
    "\n",
    "Magister en ciencias Matemáticas de la Universidad Nacional\n",
    "Licenciado en Matemáticas y Física  \n",
    "\n"
   ]
  },
  {
   "cell_type": "markdown",
   "metadata": {},
   "source": [
    "<img src = 'https://render.fineartamerica.com/images/rendered/square-product/small/images-medium-large/francois-viete-french-mathematician-sheila-terry.jpg'>"
   ]
  },
  {
   "cell_type": "markdown",
   "metadata": {},
   "source": [
    "# FRANÇOIS VIÈTE (1540-1603)   \n",
    "\n",
    "tuvo una exitosa carrera política antes de dedicarse a las matemáticas en los últimos años de su vida.   \n",
    "\n",
    "Fue uno de los más afamados matemáticos franceses del siglo XVI.  \n",
    "\n",
    "Viète introdujo un nuevo nivel de abstracción en álgebra al usar letras para representar cantidades conocidas en una ecuación.   \n",
    "\n",
    "Antes de la época de Viète’ se resolvía cada una de las ecuaciones.   \n",
    "\n",
    "Por ejemplo, para cada una de las siguientes ecuaciones cuadráticas  \n",
    "\n",
    "$$ 3x^{2} + 2x + 8 = 0 $$ \n",
    "$$ 5x^{2} + 6x + 4 = 0 $$  \n",
    "\n",
    "se completaba el cuadrado para encontrar su solución.   \n",
    "\n",
    "La idea de Viète fue considerar a la vez todas las ecuaciones cuadráticas al escribir  \n",
    "\n",
    "$$ ax^{2} + bx + c = 0 $$  \n",
    "\n",
    "donde $a$, $b$ y $c$ son cantidades conocidas. De este modo, él hizo posible escribir una fórmula (en este caso, la fórmula cuadrática) incluyendo $a$, $b$ y $c$, que pueden usarse para resolver todas esas ecuaciones de una sola vez.  \n",
    "\n",
    "El genio matemático de Viète resultó ser sumamente valioso durante una guerra entre Francia y España.   \n",
    "\n",
    "Para comunicarse con sus tropas, los españoles utilizaban un complicado código que Viète logró descifrar.  \n",
    "\n",
    "Sin saber el logro de Viète el rey español Felipe II protestó ante el papa, diciendo que los franceses estaban usando brujería para leer los\n",
    "mensajes de los españoles."
   ]
  },
  {
   "cell_type": "markdown",
   "metadata": {},
   "source": [
    "# Pasar de resolver una ecuación a la vez, a tener una solución para todas \n",
    "\n"
   ]
  },
  {
   "cell_type": "markdown",
   "metadata": {},
   "source": [
    "# Una deducción difícil \n",
    "\n",
    "\\begin{align*}\n",
    "ax^{2} + bx + c = 0 \\quad & \\to \\quad  x^{2} + \\frac{b}{a}x + \\frac{c}{a} = 0 \\\\\n",
    "                    \\quad & \\to \\quad x^{2} + \\frac{b}{a}x = - \\frac{c}{a} \\\\ \n",
    "                    \\quad & \\to \\quad x^{2} + \\frac{b}{a}x + \\left( \\frac{b}{2a} \\right)^{2} = \\left( \\frac{b}{2a} \\right)^{2} - \\frac{c}{a} \\\\ \n",
    "                    \\quad & \\to \\quad \\left( x + \\frac{b}{2a} \\right)^{2} = \\frac{b^{2}}{4a^{2}} - \\frac{4ac}{4a^{2}} \\\\\n",
    "                    \\quad & \\to \\quad  x + \\frac{b}{2a} = \\pm \\sqrt{ \\frac{b^{2}}{4a^{2}} - \\frac{4ac}{4a^{2}} } \\\\\n",
    "                    \\quad & \\to \\quad x =   - \\frac{b}{2a} \\pm \\sqrt{ \\frac{b^{2}}{4a^{2}} - \\frac{4ac}{4a^{2}} }\\\\\n",
    "                    \\quad & \\to \\quad \\\\\n",
    "                    \\quad & \\to \\quad \n",
    "\\end{align*}"
   ]
  },
  {
   "cell_type": "markdown",
   "metadata": {},
   "source": [
    "# Otros Problemas son:   \n",
    "\n",
    "* Los múlltiples tipos de ecuaciones.\n",
    "* La gran variedad de métodos algebraicos. "
   ]
  },
  {
   "cell_type": "markdown",
   "metadata": {},
   "source": [
    "# Qué significa resolver una ecuación y cómo vincular métodos de observación alternativos o complementarios a los métodos algebraicos"
   ]
  },
  {
   "cell_type": "markdown",
   "metadata": {},
   "source": [
    "\\begin{align*}\n",
    "&\\text{Encontrar $x$ tal que los lados de la ecuación son iguales} \\\\\n",
    "&\\iff \\text{Encontrar los $x$ donde la función diferencia de los lados sea cero} \\\\\n",
    "&\\iff \\text{Encontrar los $x$ donde el gráfico de la función diferencia de los lados corta el eje horizontal}\n",
    "\\end{align*}\n"
   ]
  },
  {
   "cell_type": "markdown",
   "metadata": {},
   "source": [
    "# Práctica de solución de diferentes tipos de ecuaciones"
   ]
  },
  {
   "cell_type": "code",
   "execution_count": 2,
   "metadata": {},
   "outputs": [],
   "source": [
    "import numpy as np\n",
    "import pandas as pd\n",
    "import matplotlib.pyplot as plt\n",
    "\n",
    "class FuncionDiferenciaLadosEcuacion:\n",
    "    def __init__(self, f, a, b):\n",
    "        \"\"\"\n",
    "        Inicializa la clase con la función lambda f y los extremos del dominio a y b.\n",
    "        \"\"\"\n",
    "        self.f = f\n",
    "        self.a = a\n",
    "        self.b = b\n",
    "    \n",
    "    def crear_tabla_de_la_funcion(self, paso=1):\n",
    "        \"\"\"\n",
    "        Crea una tabla con los puntos del dominio de la función y sus valores correspondientes.\n",
    "        El parámetro paso es opcional y por defecto es 1.\n",
    "        \"\"\"\n",
    "        puntos_dominio = np.arange(self.a, self.b + paso, paso)  # Crea una progresión aritmética de puntos del dominio\n",
    "        valores_funcion = self.f(puntos_dominio)  # Evalúa la función en esos puntos\n",
    "        \n",
    "        # Crear DataFrame\n",
    "        diccionario = {'numeros x': puntos_dominio, r'valores $y$ o $f(x)$': valores_funcion}\n",
    "        return pd.DataFrame(diccionario)\n",
    "\n",
    "    def crear_grafico_funcion_diferencia(self, paso=1):\n",
    "        \"\"\"\n",
    "        Crea un gráfico de la función diferencia de los lados de la ecuación.\n",
    "        El parámetro paso es opcional y por defecto es 1.\n",
    "        \"\"\"\n",
    "        # Configuración básica del gráfico\n",
    "        plt.figure(figsize=(6, 4))\n",
    "        plt.title('Función diferencia de los lados de la ecuación a resolver')\n",
    "        plt.xlabel('Puntos x')\n",
    "        plt.ylabel('Valores y o f(x)')\n",
    "        plt.grid(alpha=0.3)\n",
    "        \n",
    "        # Obtener los datos de la tabla de la función con el paso opcional\n",
    "        df = self.crear_tabla_de_la_funcion(paso)\n",
    "        \n",
    "        # Graficar los datos\n",
    "        plt.plot(df.iloc[:, 0].values, df.iloc[:, 1].values, color='red', label=r'$f(x)$')  # Graficar los puntos\n",
    "        plt.axhline(y=0, xmin=self.a, xmax=self.b, color='green', linestyle='--', label='y = 0')  # Línea horizontal en y=0\n",
    "        \n",
    "        # Añadir leyenda y mostrar gráfico\n",
    "        plt.legend()\n",
    "        plt.show()\n"
   ]
  },
  {
   "cell_type": "markdown",
   "metadata": {},
   "source": [
    "# Práctica de solución de ecuaciones lineales"
   ]
  },
  {
   "cell_type": "code",
   "execution_count": 3,
   "metadata": {},
   "outputs": [],
   "source": [
    "ecuacion_lineal = FuncionDiferenciaLadosEcuacion(f = lambda x:(7*x-4)-(3*x+8), a = -4, b =4 )"
   ]
  },
  {
   "cell_type": "code",
   "execution_count": 4,
   "metadata": {},
   "outputs": [
    {
     "data": {
      "text/html": [
       "<div>\n",
       "<style scoped>\n",
       "    .dataframe tbody tr th:only-of-type {\n",
       "        vertical-align: middle;\n",
       "    }\n",
       "\n",
       "    .dataframe tbody tr th {\n",
       "        vertical-align: top;\n",
       "    }\n",
       "\n",
       "    .dataframe thead th {\n",
       "        text-align: right;\n",
       "    }\n",
       "</style>\n",
       "<table border=\"1\" class=\"dataframe\">\n",
       "  <thead>\n",
       "    <tr style=\"text-align: right;\">\n",
       "      <th></th>\n",
       "      <th>numeros x</th>\n",
       "      <th>valores $y$ o $f(x)$</th>\n",
       "    </tr>\n",
       "  </thead>\n",
       "  <tbody>\n",
       "    <tr>\n",
       "      <th>0</th>\n",
       "      <td>-4</td>\n",
       "      <td>-28</td>\n",
       "    </tr>\n",
       "    <tr>\n",
       "      <th>1</th>\n",
       "      <td>-3</td>\n",
       "      <td>-24</td>\n",
       "    </tr>\n",
       "    <tr>\n",
       "      <th>2</th>\n",
       "      <td>-2</td>\n",
       "      <td>-20</td>\n",
       "    </tr>\n",
       "    <tr>\n",
       "      <th>3</th>\n",
       "      <td>-1</td>\n",
       "      <td>-16</td>\n",
       "    </tr>\n",
       "    <tr>\n",
       "      <th>4</th>\n",
       "      <td>0</td>\n",
       "      <td>-12</td>\n",
       "    </tr>\n",
       "    <tr>\n",
       "      <th>5</th>\n",
       "      <td>1</td>\n",
       "      <td>-8</td>\n",
       "    </tr>\n",
       "    <tr>\n",
       "      <th>6</th>\n",
       "      <td>2</td>\n",
       "      <td>-4</td>\n",
       "    </tr>\n",
       "    <tr>\n",
       "      <th>7</th>\n",
       "      <td>3</td>\n",
       "      <td>0</td>\n",
       "    </tr>\n",
       "    <tr>\n",
       "      <th>8</th>\n",
       "      <td>4</td>\n",
       "      <td>4</td>\n",
       "    </tr>\n",
       "  </tbody>\n",
       "</table>\n",
       "</div>"
      ],
      "text/plain": [
       "   numeros x  valores $y$ o $f(x)$\n",
       "0         -4                   -28\n",
       "1         -3                   -24\n",
       "2         -2                   -20\n",
       "3         -1                   -16\n",
       "4          0                   -12\n",
       "5          1                    -8\n",
       "6          2                    -4\n",
       "7          3                     0\n",
       "8          4                     4"
      ]
     },
     "execution_count": 4,
     "metadata": {},
     "output_type": "execute_result"
    }
   ],
   "source": [
    "ecuacion_lineal.crear_tabla_de_la_funcion()"
   ]
  },
  {
   "cell_type": "markdown",
   "metadata": {},
   "source": [
    "La solucion es 3 "
   ]
  },
  {
   "cell_type": "code",
   "execution_count": 5,
   "metadata": {},
   "outputs": [
    {
     "data": {
      "image/png": "[encoded data removed]",
      "text/plain": [
       "<Figure size 600x400 with 1 Axes>"
      ]
     },
     "metadata": {},
     "output_type": "display_data"
    }
   ],
   "source": [
    "ecuacion_lineal.crear_grafico_funcion_diferencia(paso = 0.25)"
   ]
  },
  {
   "cell_type": "markdown",
   "metadata": {},
   "source": [
    "# Práctica de solución de ecuaciones Cuadráticas"
   ]
  },
  {
   "cell_type": "code",
   "execution_count": 6,
   "metadata": {},
   "outputs": [],
   "source": [
    "ecuacion_cuadratica = FuncionDiferenciaLadosEcuacion(f = lambda x:(x**2+2*x-3)-(0), a = -4, b =4 )"
   ]
  },
  {
   "cell_type": "code",
   "execution_count": 7,
   "metadata": {},
   "outputs": [
    {
     "data": {
      "text/html": [
       "<div>\n",
       "<style scoped>\n",
       "    .dataframe tbody tr th:only-of-type {\n",
       "        vertical-align: middle;\n",
       "    }\n",
       "\n",
       "    .dataframe tbody tr th {\n",
       "        vertical-align: top;\n",
       "    }\n",
       "\n",
       "    .dataframe thead th {\n",
       "        text-align: right;\n",
       "    }\n",
       "</style>\n",
       "<table border=\"1\" class=\"dataframe\">\n",
       "  <thead>\n",
       "    <tr style=\"text-align: right;\">\n",
       "      <th></th>\n",
       "      <th>numeros x</th>\n",
       "      <th>valores $y$ o $f(x)$</th>\n",
       "    </tr>\n",
       "  </thead>\n",
       "  <tbody>\n",
       "    <tr>\n",
       "      <th>0</th>\n",
       "      <td>-4</td>\n",
       "      <td>5</td>\n",
       "    </tr>\n",
       "    <tr>\n",
       "      <th>1</th>\n",
       "      <td>-3</td>\n",
       "      <td>0</td>\n",
       "    </tr>\n",
       "    <tr>\n",
       "      <th>2</th>\n",
       "      <td>-2</td>\n",
       "      <td>-3</td>\n",
       "    </tr>\n",
       "    <tr>\n",
       "      <th>3</th>\n",
       "      <td>-1</td>\n",
       "      <td>-4</td>\n",
       "    </tr>\n",
       "    <tr>\n",
       "      <th>4</th>\n",
       "      <td>0</td>\n",
       "      <td>-3</td>\n",
       "    </tr>\n",
       "    <tr>\n",
       "      <th>5</th>\n",
       "      <td>1</td>\n",
       "      <td>0</td>\n",
       "    </tr>\n",
       "    <tr>\n",
       "      <th>6</th>\n",
       "      <td>2</td>\n",
       "      <td>5</td>\n",
       "    </tr>\n",
       "    <tr>\n",
       "      <th>7</th>\n",
       "      <td>3</td>\n",
       "      <td>12</td>\n",
       "    </tr>\n",
       "    <tr>\n",
       "      <th>8</th>\n",
       "      <td>4</td>\n",
       "      <td>21</td>\n",
       "    </tr>\n",
       "  </tbody>\n",
       "</table>\n",
       "</div>"
      ],
      "text/plain": [
       "   numeros x  valores $y$ o $f(x)$\n",
       "0         -4                     5\n",
       "1         -3                     0\n",
       "2         -2                    -3\n",
       "3         -1                    -4\n",
       "4          0                    -3\n",
       "5          1                     0\n",
       "6          2                     5\n",
       "7          3                    12\n",
       "8          4                    21"
      ]
     },
     "execution_count": 7,
     "metadata": {},
     "output_type": "execute_result"
    }
   ],
   "source": [
    "ecuacion_cuadratica.crear_tabla_de_la_funcion()"
   ]
  },
  {
   "cell_type": "code",
   "execution_count": 8,
   "metadata": {},
   "outputs": [
    {
     "data": {
      "image/png": "[encoded data removed]",
      "text/plain": [
       "<Figure size 600x400 with 1 Axes>"
      ]
     },
     "metadata": {},
     "output_type": "display_data"
    }
   ],
   "source": [
    "ecuacion_cuadratica.crear_grafico_funcion_diferencia()"
   ]
  },
  {
   "cell_type": "markdown",
   "metadata": {},
   "source": [
    "# Practica de solución de ecuaciones con radicales "
   ]
  },
  {
   "cell_type": "code",
   "execution_count": 9,
   "metadata": {},
   "outputs": [],
   "source": [
    "ecuacion_con_radicales = FuncionDiferenciaLadosEcuacion(f = lambda x:(2*x)-(1-(2-x)**(1/2)), a = -2, b = 2 )"
   ]
  },
  {
   "cell_type": "code",
   "execution_count": 10,
   "metadata": {},
   "outputs": [
    {
     "data": {
      "text/html": [
       "<div>\n",
       "<style scoped>\n",
       "    .dataframe tbody tr th:only-of-type {\n",
       "        vertical-align: middle;\n",
       "    }\n",
       "\n",
       "    .dataframe tbody tr th {\n",
       "        vertical-align: top;\n",
       "    }\n",
       "\n",
       "    .dataframe thead th {\n",
       "        text-align: right;\n",
       "    }\n",
       "</style>\n",
       "<table border=\"1\" class=\"dataframe\">\n",
       "  <thead>\n",
       "    <tr style=\"text-align: right;\">\n",
       "      <th></th>\n",
       "      <th>numeros x</th>\n",
       "      <th>valores $y$ o $f(x)$</th>\n",
       "    </tr>\n",
       "  </thead>\n",
       "  <tbody>\n",
       "    <tr>\n",
       "      <th>0</th>\n",
       "      <td>-2.00</td>\n",
       "      <td>-3.000000</td>\n",
       "    </tr>\n",
       "    <tr>\n",
       "      <th>1</th>\n",
       "      <td>-1.75</td>\n",
       "      <td>-2.563508</td>\n",
       "    </tr>\n",
       "    <tr>\n",
       "      <th>2</th>\n",
       "      <td>-1.50</td>\n",
       "      <td>-2.129171</td>\n",
       "    </tr>\n",
       "    <tr>\n",
       "      <th>3</th>\n",
       "      <td>-1.25</td>\n",
       "      <td>-1.697224</td>\n",
       "    </tr>\n",
       "    <tr>\n",
       "      <th>4</th>\n",
       "      <td>-1.00</td>\n",
       "      <td>-1.267949</td>\n",
       "    </tr>\n",
       "    <tr>\n",
       "      <th>5</th>\n",
       "      <td>-0.75</td>\n",
       "      <td>-0.841688</td>\n",
       "    </tr>\n",
       "    <tr>\n",
       "      <th>6</th>\n",
       "      <td>-0.50</td>\n",
       "      <td>-0.418861</td>\n",
       "    </tr>\n",
       "    <tr>\n",
       "      <th>7</th>\n",
       "      <td>-0.25</td>\n",
       "      <td>0.000000</td>\n",
       "    </tr>\n",
       "    <tr>\n",
       "      <th>8</th>\n",
       "      <td>0.00</td>\n",
       "      <td>0.414214</td>\n",
       "    </tr>\n",
       "    <tr>\n",
       "      <th>9</th>\n",
       "      <td>0.25</td>\n",
       "      <td>0.822876</td>\n",
       "    </tr>\n",
       "    <tr>\n",
       "      <th>10</th>\n",
       "      <td>0.50</td>\n",
       "      <td>1.224745</td>\n",
       "    </tr>\n",
       "    <tr>\n",
       "      <th>11</th>\n",
       "      <td>0.75</td>\n",
       "      <td>1.618034</td>\n",
       "    </tr>\n",
       "    <tr>\n",
       "      <th>12</th>\n",
       "      <td>1.00</td>\n",
       "      <td>2.000000</td>\n",
       "    </tr>\n",
       "    <tr>\n",
       "      <th>13</th>\n",
       "      <td>1.25</td>\n",
       "      <td>2.366025</td>\n",
       "    </tr>\n",
       "    <tr>\n",
       "      <th>14</th>\n",
       "      <td>1.50</td>\n",
       "      <td>2.707107</td>\n",
       "    </tr>\n",
       "    <tr>\n",
       "      <th>15</th>\n",
       "      <td>1.75</td>\n",
       "      <td>3.000000</td>\n",
       "    </tr>\n",
       "    <tr>\n",
       "      <th>16</th>\n",
       "      <td>2.00</td>\n",
       "      <td>3.000000</td>\n",
       "    </tr>\n",
       "  </tbody>\n",
       "</table>\n",
       "</div>"
      ],
      "text/plain": [
       "    numeros x  valores $y$ o $f(x)$\n",
       "0       -2.00             -3.000000\n",
       "1       -1.75             -2.563508\n",
       "2       -1.50             -2.129171\n",
       "3       -1.25             -1.697224\n",
       "4       -1.00             -1.267949\n",
       "5       -0.75             -0.841688\n",
       "6       -0.50             -0.418861\n",
       "7       -0.25              0.000000\n",
       "8        0.00              0.414214\n",
       "9        0.25              0.822876\n",
       "10       0.50              1.224745\n",
       "11       0.75              1.618034\n",
       "12       1.00              2.000000\n",
       "13       1.25              2.366025\n",
       "14       1.50              2.707107\n",
       "15       1.75              3.000000\n",
       "16       2.00              3.000000"
      ]
     },
     "execution_count": 10,
     "metadata": {},
     "output_type": "execute_result"
    }
   ],
   "source": [
    "ecuacion_con_radicales.crear_tabla_de_la_funcion(paso = 0.25)"
   ]
  },
  {
   "cell_type": "code",
   "execution_count": 11,
   "metadata": {},
   "outputs": [
    {
     "data": {
      "image/png": "[encoded data removed]",
      "text/plain": [
       "<Figure size 600x400 with 1 Axes>"
      ]
     },
     "metadata": {},
     "output_type": "display_data"
    }
   ],
   "source": [
    "ecuacion_con_radicales.crear_grafico_funcion_diferencia(paso = 0.25)"
   ]
  },
  {
   "cell_type": "markdown",
   "metadata": {},
   "source": [
    "## Conclusiones de la lectura de la tabla y el gráfico"
   ]
  },
  {
   "cell_type": "markdown",
   "metadata": {},
   "source": [
    "# Ecuaciones polinómicas de grado 4"
   ]
  },
  {
   "cell_type": "code",
   "execution_count": 12,
   "metadata": {},
   "outputs": [],
   "source": [
    "ecuacion_polinomica_grado_4 = FuncionDiferenciaLadosEcuacion(f = lambda x:(x**4 - 8*x**2 + 8)-(0), a = -3, b = 3)"
   ]
  },
  {
   "cell_type": "code",
   "execution_count": 13,
   "metadata": {},
   "outputs": [
    {
     "data": {
      "text/html": [
       "<div>\n",
       "<style scoped>\n",
       "    .dataframe tbody tr th:only-of-type {\n",
       "        vertical-align: middle;\n",
       "    }\n",
       "\n",
       "    .dataframe tbody tr th {\n",
       "        vertical-align: top;\n",
       "    }\n",
       "\n",
       "    .dataframe thead th {\n",
       "        text-align: right;\n",
       "    }\n",
       "</style>\n",
       "<table border=\"1\" class=\"dataframe\">\n",
       "  <thead>\n",
       "    <tr style=\"text-align: right;\">\n",
       "      <th></th>\n",
       "      <th>numeros x</th>\n",
       "      <th>valores $y$ o $f(x)$</th>\n",
       "    </tr>\n",
       "  </thead>\n",
       "  <tbody>\n",
       "    <tr>\n",
       "      <th>0</th>\n",
       "      <td>-3.0</td>\n",
       "      <td>17.0000</td>\n",
       "    </tr>\n",
       "    <tr>\n",
       "      <th>1</th>\n",
       "      <td>-2.9</td>\n",
       "      <td>11.4481</td>\n",
       "    </tr>\n",
       "    <tr>\n",
       "      <th>2</th>\n",
       "      <td>-2.8</td>\n",
       "      <td>6.7456</td>\n",
       "    </tr>\n",
       "    <tr>\n",
       "      <th>3</th>\n",
       "      <td>-2.7</td>\n",
       "      <td>2.8241</td>\n",
       "    </tr>\n",
       "    <tr>\n",
       "      <th>4</th>\n",
       "      <td>-2.6</td>\n",
       "      <td>-0.3824</td>\n",
       "    </tr>\n",
       "    <tr>\n",
       "      <th>...</th>\n",
       "      <td>...</td>\n",
       "      <td>...</td>\n",
       "    </tr>\n",
       "    <tr>\n",
       "      <th>56</th>\n",
       "      <td>2.6</td>\n",
       "      <td>-0.3824</td>\n",
       "    </tr>\n",
       "    <tr>\n",
       "      <th>57</th>\n",
       "      <td>2.7</td>\n",
       "      <td>2.8241</td>\n",
       "    </tr>\n",
       "    <tr>\n",
       "      <th>58</th>\n",
       "      <td>2.8</td>\n",
       "      <td>6.7456</td>\n",
       "    </tr>\n",
       "    <tr>\n",
       "      <th>59</th>\n",
       "      <td>2.9</td>\n",
       "      <td>11.4481</td>\n",
       "    </tr>\n",
       "    <tr>\n",
       "      <th>60</th>\n",
       "      <td>3.0</td>\n",
       "      <td>17.0000</td>\n",
       "    </tr>\n",
       "  </tbody>\n",
       "</table>\n",
       "<p>61 rows × 2 columns</p>\n",
       "</div>"
      ],
      "text/plain": [
       "    numeros x  valores $y$ o $f(x)$\n",
       "0        -3.0               17.0000\n",
       "1        -2.9               11.4481\n",
       "2        -2.8                6.7456\n",
       "3        -2.7                2.8241\n",
       "4        -2.6               -0.3824\n",
       "..        ...                   ...\n",
       "56        2.6               -0.3824\n",
       "57        2.7                2.8241\n",
       "58        2.8                6.7456\n",
       "59        2.9               11.4481\n",
       "60        3.0               17.0000\n",
       "\n",
       "[61 rows x 2 columns]"
      ]
     },
     "execution_count": 13,
     "metadata": {},
     "output_type": "execute_result"
    }
   ],
   "source": [
    "ecuacion_polinomica_grado_4.crear_tabla_de_la_funcion(paso = 0.1)"
   ]
  },
  {
   "cell_type": "code",
   "execution_count": 14,
   "metadata": {},
   "outputs": [
    {
     "data": {
      "image/png": "[encoded data removed]",
      "text/plain": [
       "<Figure size 600x400 with 1 Axes>"
      ]
     },
     "metadata": {},
     "output_type": "display_data"
    }
   ],
   "source": [
    "ecuacion_polinomica_grado_4.crear_grafico_funcion_diferencia()"
   ]
  },
  {
   "cell_type": "markdown",
   "metadata": {},
   "source": []
  },
  {
   "cell_type": "markdown",
   "metadata": {},
   "source": [
    "# Práctica de solución de ecuaciones con potencias de exponentes fraccionarios "
   ]
  },
  {
   "cell_type": "code",
   "execution_count": 14,
   "metadata": {},
   "outputs": [],
   "source": [
    "ecuacion_con_potencias_fraccionarias = FuncionDiferenciaLadosEcuacion(f = lambda x:(x**(1/3) + x**(1/6) - 2)-(0), a =0 , b = 10)"
   ]
  },
  {
   "cell_type": "code",
   "execution_count": null,
   "metadata": {},
   "outputs": [],
   "source": [
    "ecuacion_con_potencias_fraccionarias.crear_tabla_de_la_funcion()"
   ]
  },
  {
   "cell_type": "code",
   "execution_count": null,
   "metadata": {},
   "outputs": [],
   "source": [
    "ecuacion_con_potencias_fraccionarias.crear_grafico_funcion_diferencia()"
   ]
  },
  {
   "cell_type": "markdown",
   "metadata": {},
   "source": [
    "# Conclusión o interpretación del estudiante a partir de la lectura de la tabla y el gráfico \n",
    "\n"
   ]
  },
  {
   "cell_type": "markdown",
   "metadata": {},
   "source": [
    "# Práctica de solución de ecuaciones racionales"
   ]
  },
  {
   "cell_type": "code",
   "execution_count": 21,
   "metadata": {},
   "outputs": [],
   "source": [
    "ecuacion_con_fracciones_algebraicas = FuncionDiferenciaLadosEcuacion(f = lambda x:(3/x - 2/(x-3))-(-12/(x**2-9)), a = -15 , b = -5)"
   ]
  },
  {
   "cell_type": "code",
   "execution_count": null,
   "metadata": {},
   "outputs": [],
   "source": [
    "ecuacion_con_fracciones_algebraicas.crear_tabla_de_la_funcion()"
   ]
  },
  {
   "cell_type": "code",
   "execution_count": null,
   "metadata": {},
   "outputs": [],
   "source": [
    "ecuacion_con_fracciones_algebraicas.crear_grafico_funcion_diferencia(paso = 0.5)"
   ]
  },
  {
   "cell_type": "markdown",
   "metadata": {},
   "source": [
    "# Conclusión o interpretación del estudiante a partir de la lectura de la tabla y el gráfico \n"
   ]
  },
  {
   "cell_type": "markdown",
   "metadata": {},
   "source": [
    "# Práctica de solución de ecuaciones con valor absoluto  \n",
    "\n"
   ]
  },
  {
   "cell_type": "code",
   "execution_count": 19,
   "metadata": {},
   "outputs": [],
   "source": [
    "ecuacion_con_valor_absoluto = FuncionDiferenciaLadosEcuacion(f = lambda x:(np.abs(2*x-5))-(3), a = -1 , b = 5)"
   ]
  },
  {
   "cell_type": "code",
   "execution_count": 20,
   "metadata": {},
   "outputs": [
    {
     "data": {
      "text/html": [
       "<div>\n",
       "<style scoped>\n",
       "    .dataframe tbody tr th:only-of-type {\n",
       "        vertical-align: middle;\n",
       "    }\n",
       "\n",
       "    .dataframe tbody tr th {\n",
       "        vertical-align: top;\n",
       "    }\n",
       "\n",
       "    .dataframe thead th {\n",
       "        text-align: right;\n",
       "    }\n",
       "</style>\n",
       "<table border=\"1\" class=\"dataframe\">\n",
       "  <thead>\n",
       "    <tr style=\"text-align: right;\">\n",
       "      <th></th>\n",
       "      <th>numeros x</th>\n",
       "      <th>valores $y$ o $f(x)$</th>\n",
       "    </tr>\n",
       "  </thead>\n",
       "  <tbody>\n",
       "    <tr>\n",
       "      <th>0</th>\n",
       "      <td>-1</td>\n",
       "      <td>4</td>\n",
       "    </tr>\n",
       "    <tr>\n",
       "      <th>1</th>\n",
       "      <td>0</td>\n",
       "      <td>2</td>\n",
       "    </tr>\n",
       "    <tr>\n",
       "      <th>2</th>\n",
       "      <td>1</td>\n",
       "      <td>0</td>\n",
       "    </tr>\n",
       "    <tr>\n",
       "      <th>3</th>\n",
       "      <td>2</td>\n",
       "      <td>-2</td>\n",
       "    </tr>\n",
       "    <tr>\n",
       "      <th>4</th>\n",
       "      <td>3</td>\n",
       "      <td>-2</td>\n",
       "    </tr>\n",
       "    <tr>\n",
       "      <th>5</th>\n",
       "      <td>4</td>\n",
       "      <td>0</td>\n",
       "    </tr>\n",
       "    <tr>\n",
       "      <th>6</th>\n",
       "      <td>5</td>\n",
       "      <td>2</td>\n",
       "    </tr>\n",
       "  </tbody>\n",
       "</table>\n",
       "</div>"
      ],
      "text/plain": [
       "   numeros x  valores $y$ o $f(x)$\n",
       "0         -1                     4\n",
       "1          0                     2\n",
       "2          1                     0\n",
       "3          2                    -2\n",
       "4          3                    -2\n",
       "5          4                     0\n",
       "6          5                     2"
      ]
     },
     "execution_count": 20,
     "metadata": {},
     "output_type": "execute_result"
    }
   ],
   "source": [
    "ecuacion_con_valor_absoluto.crear_tabla_de_la_funcion()"
   ]
  },
  {
   "cell_type": "code",
   "execution_count": 21,
   "metadata": {},
   "outputs": [
    {
     "data": {
      "image/png": "[encoded data removed]",
      "text/plain": [
       "<Figure size 600x400 with 1 Axes>"
      ]
     },
     "metadata": {},
     "output_type": "display_data"
    }
   ],
   "source": [
    "ecuacion_con_valor_absoluto.crear_grafico_funcion_diferencia()"
   ]
  },
  {
   "cell_type": "code",
   "execution_count": null,
   "metadata": {},
   "outputs": [],
   "source": []
  },
  {
   "cell_type": "markdown",
   "metadata": {},
   "source": [
    "# Referentes  "
   ]
  },
  {
   "cell_type": "markdown",
   "metadata": {},
   "source": [
    "[1]  Gasco-Txabarri, J. (2017). La resolución de problemas aritmético-algebraicos y las estrategias de aprendizaje en matemáticas. Un estudio en educación secundaria obligatoria (ESO). *Revista Latinoamericana de Investigación en Matemática Educativa, 20*(2), 167-192. Recuperado de: https://www.redalyc.org/journal/335/33552356003/33552356003.pdf  "
   ]
  },
  {
   "cell_type": "markdown",
   "metadata": {},
   "source": [
    "[2] A. V. Maldonado Rodríguez, \"Estrategia didáctica basada en la caracterización de errores para desarrollar el pensamiento variacional en la solución de ecuaciones de primer grado con una incógnita en estudiantes de grado octavo de la Institución Educativa Santa Ana de San Sebastián de Mariquita,\" 2018. [Online]. Available: https://repository.ut.edu.co/server/api/core/bitstreams/81fe53d7-c581-4bd4-af6e-2b3a99e6e8c0/content\n"
   ]
  },
  {
   "cell_type": "markdown",
   "metadata": {},
   "source": [
    "[3] Aguhayon, H., Tingson, R., & Pentang, J. (2023). Addressing students learning gaps in mathematics through differentiated instruction. International Journal of Educational Management and Development Studies, 4(1), 69-87. Available: https://papers.ssrn.com/sol3/papers.cfm?abstract_id=4390130"
   ]
  },
  {
   "cell_type": "markdown",
   "metadata": {},
   "source": [
    "[4] Brousseau, G. (1986). Fundamentos y métodos de la Didáctica de la Matemática. Recherches en didactique des mathematiques, 7(2), 33-115.  "
   ]
  },
  {
   "cell_type": "markdown",
   "metadata": {},
   "source": [
    "[5] Brousseau, G. (2007). Iniciación al estudio de la teoría de las situaciones didácticas/Introduction to study the theory of didactic situations: didáctico/didactic to algebra study (Vol. 7). Libros del Zorzal.  \n"
   ]
  },
  {
   "cell_type": "markdown",
   "metadata": {},
   "source": [
    "[6] Guzman, M. (2002). *The Role of Visualization in the Teaching and Learning of Mathematical Analysis*. In A. Bishop et al. (Eds.), *Second International Handbook of Mathematics Education* (pp. 695-718). Springer."
   ]
  },
  {
   "cell_type": "markdown",
   "metadata": {},
   "source": [
    "[7] Barba, L. A., Barker, L. J., Blank, D. S., Brown, J., Downey, A. B., George, T., ... & Zingale, M. (2019). Teaching and learning with Jupyter. Recuperado: https://jupyter4edu. github. io/jupyter-edu-book, 1-77."
   ]
  },
  {
   "cell_type": "code",
   "execution_count": null,
   "metadata": {},
   "outputs": [],
   "source": []
  },
  {
   "cell_type": "code",
   "execution_count": null,
   "metadata": {},
   "outputs": [],
   "source": []
  }
 ],
 "metadata": {
  "kernelspec": {
   "display_name": "Python 3",
   "language": "python",
   "name": "python3"
  },
  "language_info": {
   "codemirror_mode": {
    "name": "ipython",
    "version": 3
   },
   "file_extension": ".py",
   "mimetype": "text/x-python",
   "name": "python",
   "nbconvert_exporter": "python",
   "pygments_lexer": "ipython3",
   "version": "3.12.7"
  }
 },
 "nbformat": 4,
 "nbformat_minor": 2
}
