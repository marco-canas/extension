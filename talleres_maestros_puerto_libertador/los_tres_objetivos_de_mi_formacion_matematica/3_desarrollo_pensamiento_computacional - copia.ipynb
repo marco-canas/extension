{
 "cells": [
  {
   "cell_type": "markdown",
   "metadata": {},
   "source": [
    "<table align=\"left\">\n",
    "  <td>\n",
    "    <a href=\"https://colab.research.google.com/github/marco-canas/extension/blob/main/taller_maestros_puerto_libertador/los_tres_objetivos_de_mi_formacion_matematica/3_desarrollo_pensamiento_computacional.ipynb\" target=\"_parent\"><img src=\"https://colab.research.google.com/assets/colab-badge.svg\" alt=\"Open In Colab\"/></a>\n",
    "  </td>\n",
    "</table>"
   ]
  },
  {
   "cell_type": "markdown",
   "metadata": {},
   "source": [
    "### [Video de apoyo](https://www.youtube.com/watch?v=AiVHbgfFOcw) "
   ]
  },
  {
   "cell_type": "markdown",
   "metadata": {},
   "source": [
    "<img src = 'https://github.com/marco-canas/extension/blob/main/taller_maestros_puerto_libertador/images/maestros_bijao_2023-09-25_taller_pensamiento_computacional.jpeg?raw=true'>\n",
    "<img src = ''>\n",
    "<img src = ''>\n",
    "<img src = ''>"
   ]
  },
  {
   "cell_type": "markdown",
   "metadata": {},
   "source": [
    "# Taller sobre desarollo del pensamiento computacional, habilidades de comunicación científica y promoción de la ciencia libre en primaria, secundaria y universidad para los maestros de Puerto Libertador. "
   ]
  },
  {
   "cell_type": "markdown",
   "metadata": {},
   "source": [
    "\n",
    "**Título del Taller:** Introducción al Desarrollo del Pensamiento Computacional en Primaria, Secundaria y universidad. \n"
   ]
  },
  {
   "cell_type": "markdown",
   "metadata": {},
   "source": [
    "<img src = 'https://upload.wikimedia.org/wikipedia/commons/thumb/4/44/Colombia_-_C%C3%B3rdoba_-_Puerto_Libertador.svg/250px-Colombia_-_C%C3%B3rdoba_-_Puerto_Libertador.svg.png' width = 600>  \n",
    "\n",
    "\n",
    "**Duración Total:** de 8:30 AM hasta las 1:00 PM. Un total de 4 horas y media\n"
   ]
  },
  {
   "cell_type": "markdown",
   "metadata": {},
   "source": [
    "\n",
    "### Objetivos:\n",
    "\n",
    "- Comprender el concepto de pensamiento computacional y su importancia en la educación.\n",
    "- Explorar estrategias y actividades para fomentar el pensamiento computacional en estudiantes de primaria, secundaria y universidad.\n",
    "- Adquirir recursos y herramientas prácticas para implementar en el aula.\n",
    "- Dicernoir estrategias para el desarrollo de las cpacidades de comunicación científica.\n",
    "- Promoción de la ciencia libre. \n"
   ]
  },
  {
   "cell_type": "markdown",
   "metadata": {},
   "source": [
    "\n",
    "**Estructura del Taller:**\n",
    "\n",
    "**I. Bienvenida y Presentación (15 minutos)**\n",
    "   - Registro de participantes. (Reconocoimiento al trabajo de Gecelca y de los maestros de Puerto Libertador por la educción en este municipio)\n",
    "   - Breve introducción al pensamiento computacional y su relevancia en la educación actual.\n",
    "   - Presentación del programa y los objetivos del taller.\n"
   ]
  },
  {
   "cell_type": "markdown",
   "metadata": {},
   "source": [
    "\n",
    "**II. Fundamentos del Pensamiento Computacional (30 minutos)**\n",
    "   - Definición y componentes del pensamiento computacional.\n",
    "   - Ejemplos de cómo el pensamiento computacional se aplica en la vida cotidiana.\n",
    "   - Discusión sobre por qué es importante enseñarlo a los estudiantes de primaria y secundaria.\n"
   ]
  },
  {
   "cell_type": "markdown",
   "metadata": {},
   "source": [
    "\n",
    "**III. Actividades Prácticas para Primaria (45 minutos)**\n",
    "   - Presentación de ejercicios y actividades prácticas diseñadas para estudiantes de primaria.\n",
    "   - Los participantes trabajan en grupos pequeños para completar una actividad.\n",
    "   - Compartir resultados y discutir la importancia de cada actividad en el desarrollo del pensamiento computacional.\n"
   ]
  },
  {
   "cell_type": "markdown",
   "metadata": {},
   "source": [
    "\n",
    "**IV. Actividades Prácticas para Secundaria (45 minutos)**\n",
    "   - Presentación de ejercicios y actividades prácticas diseñadas para estudiantes de secundaria.\n",
    "   - Los participantes trabajan en grupos pequeños para completar una actividad.\n",
    "   - Compartir resultados y discutir la importancia de cada actividad en el desarrollo del pensamiento computacional.\n"
   ]
  },
  {
   "cell_type": "markdown",
   "metadata": {},
   "source": [
    "\n",
    "**V. Recursos y Herramientas para el Aula (20 minutos)**\n",
    "   - Introducción a herramientas y recursos disponibles para ayudar a los maestros a enseñar el pensamiento computacional.\n",
    "   - Recomendaciones de libros, sitios web y aplicaciones educativas.\n",
    "   - Preguntas y respuestas.\n"
   ]
  },
  {
   "cell_type": "markdown",
   "metadata": {},
   "source": [
    "\n",
    "**VI. Planificación para la Implementación (15 minutos)**\n",
    "   - Discusión sobre cómo integrar actividades de pensamiento computacional en el plan de estudios existente.\n",
    "   - Brainstorming de ideas para proyectos o lecciones futuras.\n"
   ]
  },
  {
   "cell_type": "markdown",
   "metadata": {},
   "source": [
    "   \n",
    "**VII. Cierre y Evaluación (10 minutos)**\n",
    "   - Resumen de los puntos clave del taller.\n",
    "   - Distribución de encuestas de evaluación para recibir retroalimentación de los participantes.\n"
   ]
  },
  {
   "cell_type": "markdown",
   "metadata": {},
   "source": [
    "   \n",
    "**VIII. Networking y Sesión de Preguntas (20 minutos)**\n",
    "   - Oportunidad para que los maestros interactúen, compartan experiencias y hagan preguntas adicionales.\n",
    "   \n"
   ]
  },
  {
   "cell_type": "markdown",
   "metadata": {},
   "source": [
    "Este taller proporcionará a los maestros las bases necesarias para incorporar el pensamiento computacional en su enseñanza y brindará herramientas prácticas para comenzar a implementarlo en el aula. Además, fomentará la colaboración y el intercambio de ideas entre los participantes, lo que puede ser invaluable para el éxito de la enseñanza del pensamiento computacional en Montería, Colombia."
   ]
  },
  {
   "cell_type": "markdown",
   "metadata": {},
   "source": [
    "# Desarrollo del taller\n"
   ]
  },
  {
   "cell_type": "markdown",
   "metadata": {},
   "source": [
    "\n",
    "**I. Bienvenida y Presentación (15 minutos)**\n",
    "   - Registro de participantes.\n",
    "   - Breve introducción al pensamiento computacional y su relevancia en la educación actual.\n",
    "   - Presentación del proyecto [Talento Tech](https://www.youtube.com/watch?v=KDiP9W6ZR8o)\n",
    "   - Presentación del programa y los objetivos del taller.\n"
   ]
  },
  {
   "cell_type": "markdown",
   "metadata": {},
   "source": [
    "\n",
    "Pero hay una alternativa, ya tenida en cuenta (Papert, 1980) que enlaza con corrientes clásicas del aprendizaje apoyado en la tecnología. Nos referimos al construccionismo.\n",
    "\n",
    "El pensamiento computacional nos capacita para dejar lo rutinario en manos de los computadores. Y así, los seres humanos nos ocupemos de tareas más complejas como la toma de decisiones. \n",
    "\n",
    "\n",
    "\n",
    "\n",
    "\n"
   ]
  },
  {
   "cell_type": "markdown",
   "metadata": {},
   "source": [
    "La sociedad y la economía demandan profesionales cualificados en las industrias tecnológicas. Se da la paradoja de países con un alto índice de paro en las que actualmente se quedan sin cubrir puestos de trabajo de ingenieros y técnicos de industrias y servicios digitales. "
   ]
  },
  {
   "cell_type": "markdown",
   "metadata": {},
   "source": [
    "Esto ha sensibilizado a gestores e instituciones a abordar el problema desde el punto de vista de la formación. Se trata de una nueva alfabetización, la alfabetización digital, y que como tal hay que comenzar desde las primeras etapas del desarrollo individual, al igual como sucede con otras habilidades clave: la lectura, la escritura y las habilidades matemáticas."
   ]
  },
  {
   "cell_type": "markdown",
   "metadata": {},
   "source": [
    "# II. Fundamentos del Pensamiento Computacional (30 minutos)\n",
    "\n",
    "   - Definición y componentes del pensamiento computacional.\n",
    "   - Ejemplos de cómo el pensamiento computacional se aplica en la vida cotidiana.\n",
    "   - Discusión sobre por qué es importante enseñarlo a los estudiantes de primaria, secundaria y universidad."
   ]
  },
  {
   "cell_type": "markdown",
   "metadata": {},
   "source": [
    "**Definición y componentes del Pensamiento Computacional:**\n",
    "\n",
    "El Pensamiento Computacional (PC) es una habilidad cognitiva fundamental que involucra la resolución de problemas de manera sistemática y lógica, utilizando conceptos y técnicas inspiradas en la informática y la programación. Se compone de varios elementos clave:\n",
    "\n",
    "1. **Descomposición:** Consiste en dividir un problema complejo en partes más pequeñas y manejables. Esto facilita la comprensión del problema y la identificación de posibles soluciones.\n",
    "\n",
    "2. **Abstracción:** Implica simplificar la representación de un problema o sistema, centrándose en los aspectos más relevantes y omitiendo los detalles innecesarios. La abstracción es esencial en la programación, donde se crean modelos simplificados de problemas.\n",
    "\n",
    "3. **Reconocimiento de patrones:** El PC implica la capacidad de identificar similitudes, tendencias o regularidades en datos o situaciones. Esto es crucial para la resolución de problemas y la toma de decisiones informadas.\n",
    "\n",
    "4. **Algoritmos:** Los algoritmos son conjuntos de instrucciones ordenadas y precisas para resolver un problema o llevar a cabo una tarea. El pensamiento computacional implica la creación y comprensión de algoritmos eficientes.\n",
    "\n",
    "**Ejemplos de cómo el Pensamiento Computacional se aplica en la vida cotidiana:**\n",
    "\n",
    "1. **Navegación GPS:** Los sistemas de navegación utilizan algoritmos para calcular las rutas más cortas y rápidas entre dos puntos, aplicando el pensamiento computacional para optimizar el tiempo de viaje.\n",
    "\n",
    "2. **Búsqueda en Internet:** Los motores de búsqueda como Google emplean algoritmos para mostrar resultados relevantes según las palabras clave ingresadas, utilizando la abstracción y el reconocimiento de patrones.\n",
    "\n",
    "3. **Programación de electrodomésticos:** Muchos electrodomésticos modernos, como hornos y lavadoras, utilizan algoritmos para controlar las funciones y realizar tareas de manera eficiente.\n",
    "\n",
    "4. **Resolución de problemas matemáticos:** Los estudiantes pueden aplicar el pensamiento computacional al descomponer problemas matemáticos complejos en pasos más simples y encontrar patrones que les ayuden a resolver ecuaciones o realizar cálculos.\n",
    "\n",
    "**Por qué es importante enseñarlo a estudiantes de primaria y secundaria:**\n",
    "\n",
    "1. **Habilidades de resolución de problemas:** El Pensamiento Computacional enseña a los estudiantes a abordar problemas de manera estructurada y lógica, lo que es aplicable en una amplia gama de situaciones de la vida cotidiana y en futuras carreras.\n",
    "\n",
    "2. **Preparación para el futuro:** Vivimos en una era digital, y las habilidades computacionales son cada vez más esenciales en casi todas las profesiones. Introducir el PC desde una edad temprana prepara a los estudiantes para el mundo laboral.\n",
    "\n",
    "3. **Fomenta la creatividad:** El PC no solo se trata de lógica, sino también de creatividad. La programación, en particular, permite a los estudiantes crear sus propias soluciones y proyectos, lo que estimula la creatividad y la innovación.\n",
    "\n",
    "4. **Mejora la toma de decisiones:** El PC ayuda a los estudiantes a tomar decisiones informadas basadas en datos y patrones, lo que es esencial en la sociedad actual, donde estamos rodeados de información.\n",
    "\n",
    "5. **Promueve la colaboración:** La resolución de problemas y la programación muchas veces implican trabajo en equipo. El PC fomenta la colaboración, ya que los estudiantes pueden trabajar juntos para resolver problemas complejos.\n",
    "\n",
    "En resumen, enseñar el Pensamiento Computacional en la primaria y secundaria es fundamental para preparar a los estudiantes para un mundo cada vez más tecnológico, desarrollar habilidades de resolución de problemas, fomentar la creatividad y mejorar la toma de decisiones, lo que les ayudará a tener éxito en sus futuras carreras y en la vida en general."
   ]
  },
  {
   "cell_type": "markdown",
   "metadata": {},
   "source": [
    "# III. Actividades Prácticas para Primaria (45 minutos)  \n",
    "\n",
    "\n",
    "   - Presentación de ejercicios y actividades prácticas diseñadas para estudiantes de primaria.\n",
    "   - Los participantes trabajan en grupos pequeños para completar una actividad.\n",
    "   - Compartir resultados y discutir la importancia de cada actividad en el desarrollo del pensamiento computacional."
   ]
  },
  {
   "cell_type": "markdown",
   "metadata": {},
   "source": [
    "\n",
    "**Nombre de la actividad:** \"Secuencia de Instrucciones\"\n"
   ]
  },
  {
   "cell_type": "markdown",
   "metadata": {},
   "source": [
    "\n",
    "**Objetivo:** Introducir a los estudiantes al pensamiento lógico y la secuencia de instrucciones, que son conceptos fundamentales en la programación y el pensamiento computacional.\n",
    "\n",
    "**Materiales necesarios:** Tarjetas con flechas (izquierda, derecha, arriba, abajo), un tablero grande o espacio en el suelo, y estudiantes entusiastas.\n",
    "\n",
    "**Pasos de la actividad:**\n",
    "\n",
    "1. **Explicación introductoria:** Comienza la actividad explicando a los profesores que el pensamiento computacional se trata de resolver problemas de manera lógica y estructurada, como si estuvieran dando instrucciones a una computadora.\n"
   ]
  },
  {
   "cell_type": "markdown",
   "metadata": {},
   "source": [
    "\n",
    "2. **Instrucciones básicas:** Muestra las tarjetas con flechas y explícales que estas tarjetas representan instrucciones básicas que se pueden dar a una \"computadora humana\".\n",
    "\n",
    "3. **Dibuja un tablero:** En el suelo o en un tablero grande, crea un espacio donde puedas dibujar un camino o laberinto simple con cuadros. Este será el espacio donde los estudiantes \"programarán\" a un compañero para moverse de un punto de inicio a un punto final.\n",
    "\n",
    "4. **Ejemplo práctico:** Pide a uno de los profesores que actúe como la \"computadora\" y colócala en un punto de inicio en el tablero. Luego, toma una de las tarjetas con flechas y pídeles a los demás profesores que trabajen juntos para decidir qué instrucción darle al \"computadora\" para llegar al punto final del tablero.\n"
   ]
  },
  {
   "cell_type": "markdown",
   "metadata": {},
   "source": [
    "\n",
    "5. **Programación en equipo:** Divídelos en grupos pequeños y proporciona a cada grupo tarjetas con flechas y un espacio en el tablero. Cada grupo debe colaborar para programar una secuencia de instrucciones que permita a uno de ellos llegar al punto final siguiendo el camino correcto.\n",
    "\n",
    "6. **Debriefing:** Después de que los grupos completen sus programas y el \"computadora\" siga las instrucciones, reúne a todos y discutan los desafíos que enfrentaron y las estrategias que utilizaron para resolverlos. Destaca cómo la planificación y la secuencia de instrucciones son cruciales en la programación y cómo esto se relaciona con el pensamiento computacional.\n",
    "\n",
    "7. **Extensiones:** Puedes hacer que la actividad sea más desafiante introduciendo obstáculos en el camino, permitiendo que los estudiantes creen programas más largos y complejos, o incluso incorporando conceptos como bucles (repetición de instrucciones).\n",
    "\n",
    "Esta actividad práctica les mostrará a los profesores cómo pueden enseñar a los estudiantes los conceptos fundamentales del pensamiento computacional de una manera divertida y accesible, fomentando el pensamiento lógico y la resolución de problemas."
   ]
  },
  {
   "cell_type": "code",
   "execution_count": 6,
   "metadata": {},
   "outputs": [
    {
     "data": {
      "image/png": "[encoded data removed]",
      "text/plain": [
       "<Figure size 640x480 with 1 Axes>"
      ]
     },
     "metadata": {},
     "output_type": "display_data"
    }
   ],
   "source": [
    "import matplotlib.pyplot as plt\n",
    "import numpy as np\n",
    "\n",
    "# Definir la matriz del laberinto (1 para paredes, 0 para caminos)\n",
    "laberinto = np.array([\n",
    "    [1, 1, 1, 1, 1, 1, 1, 1, 1, 1],\n",
    "    [1, 0, 0, 0, 1, 0, 0, 0, 0, 1],\n",
    "    [1, 1, 1, 0, 1, 0, 1, 1, 1, 1],\n",
    "    [1, 0, 0, 0, 0, 0, 0, 0, 0, 1],\n",
    "    [1, 0, 1, 1, 1, 1, 1, 1, 0, 1],\n",
    "    [1, 0, 0, 0, 0, 0, 0, 0, 0, 1],\n",
    "    [1, 1, 1, 1, 1, 1, 1, 1, 1, 1]\n",
    "])\n",
    "\n",
    "# Definir la posición de entrada y salida\n",
    "entrada = (1, 1)\n",
    "salida = (5, 8)\n",
    "\n",
    "# Crear una figura y un eje\n",
    "fig, ax = plt.subplots()\n",
    "\n",
    "# Dibujar el laberinto\n",
    "for i in range(laberinto.shape[0]):\n",
    "    for j in range(laberinto.shape[1]):\n",
    "        if laberinto[i, j] == 1:\n",
    "            ax.add_patch(plt.Rectangle((j, -i - 1), 1, 1, color='black'))\n",
    "\n",
    "# Dibujar la entrada y la salida\n",
    "ax.add_patch(plt.Rectangle((entrada[1], -entrada[0] - 1), 1, 1, color='green', label='Entrada'))\n",
    "ax.add_patch(plt.Rectangle((salida[1], -salida[0] - 1), 1, 1, color='red', label='Salida'))\n",
    "\n",
    "# Configurar el aspecto del laberinto\n",
    "ax.set_aspect('equal')\n",
    "ax.set_xlim(0, laberinto.shape[1])\n",
    "ax.set_ylim(-laberinto.shape[0], 0)\n",
    "ax.set_xticks([])\n",
    "ax.set_yticks([])\n",
    "ax.legend(loc = 'upper right')\n",
    "\n",
    "# Mostrar el laberinto\n",
    "plt.show()\n"
   ]
  },
  {
   "cell_type": "markdown",
   "metadata": {},
   "source": [
    "**IV. Actividades Prácticas para Secundaria (45 minutos)**\n",
    "   - Presentación de ejercicios y actividades prácticas diseñadas para estudiantes de secundaria.\n",
    "   - Los participantes trabajan en grupos pequeños para completar una actividad.\n",
    "   - Compartir resultados y discutir la importancia de cada actividad en el desarrollo del pensamiento computacional.\n",
    "\n",
    "### [Video de apoyo ](https://www.youtube.com/watch?v=WoxbI4c8GXY)"
   ]
  },
  {
   "cell_type": "markdown",
   "metadata": {},
   "source": [
    "# Las actividades de seriación"
   ]
  },
  {
   "cell_type": "markdown",
   "metadata": {},
   "source": [
    "La seriación, que implica organizar elementos en una secuencia lógica o patrón, es una habilidad importante en el desarrollo del pensamiento computacional. Aquí tienes algunos ejemplos de actividades de seriación que pueden ayudar a los estudiantes a desarrollar esta habilidad:\n"
   ]
  },
  {
   "cell_type": "markdown",
   "metadata": {},
   "source": [
    "\n",
    "1. **Seriación numérica:**\n",
    "   - Proporciona una serie numérica incompleta y pide a los estudiantes que llenen los números faltantes. Por ejemplo: 2, 4, __, 8, __, ___,  14.\n",
    "   - Da a los estudiantes una serie de números y pide que identifiquen la regla o patrón que rige la serie. Por ejemplo: 3, 6, 9, 12, __ (multiplicar por 3).\n"
   ]
  },
  {
   "cell_type": "code",
   "execution_count": 2,
   "metadata": {},
   "outputs": [
    {
     "data": {
      "text/plain": [
       "array([ 3,  6,  9, 12])"
      ]
     },
     "execution_count": 2,
     "metadata": {},
     "output_type": "execute_result"
    }
   ],
   "source": [
    "import numpy as np\n",
    "\n",
    "np.arange(3, 14, 3)"
   ]
  },
  {
   "cell_type": "markdown",
   "metadata": {},
   "source": [
    "\n",
    "2. **Seriación de patrones visuales:**\n",
    "   - Muestra una secuencia de patrones visuales (como figuras geométricas) y pide a los estudiantes que identifiquen la regla subyacente y completen la serie. Por ejemplo: ▲, ●, ■, __, __ (cambiar el color en cada paso).\n",
    "   - Pide a los estudiantes que creen su propia serie de patrones visuales y la compartan con otros, desafiándolos a descubrir la regla.\n",
    "\n",
    "<img src = 'https://i.pinimg.com/564x/3d/af/59/3daf59ee3581e5754168ef6a4cd8effa.jpg'>\n"
   ]
  },
  {
   "cell_type": "markdown",
   "metadata": {},
   "source": [
    "\n",
    "3. **Seriación alfabética:**\n",
    "   - Proporciona una serie de letras del alfabeto con algunas letras faltantes y pide a los estudiantes que llenen los espacios en blanco. Por ejemplo: A, B, __, D, __, F.\n",
    "   - Pide a los estudiantes que encuentren una regla o patrón en una serie de palabras que sigan un orden alfabético particular. Por ejemplo: manzana, banana, __, __, durazno (ordenadas por la primera letra).\n"
   ]
  },
  {
   "cell_type": "markdown",
   "metadata": {},
   "source": [
    "\n",
    "4. **Seriación de objetos físicos:**\n",
    "   - Proporciona una serie de objetos físicos (por ejemplo, bloques de construcción) y pide a los estudiantes que los coloquen en orden según un criterio específico, como tamaño, color o forma.\n",
    "   - Pide a los estudiantes que creen su propia serie de objetos físicos y desafíen a sus compañeros a organizarlos correctamente.\n"
   ]
  },
  {
   "cell_type": "markdown",
   "metadata": {},
   "source": [
    "\n",
    "5. **Seriación de secuencias temporales:**\n",
    "   - Proporciona eventos históricos o pasos en un proceso y pide a los estudiantes que los ordenen en una secuencia temporal correcta.\n",
    "   - Pide a los estudiantes que creen una línea de tiempo visual de su vida o de un período histórico.\n"
   ]
  },
  {
   "cell_type": "markdown",
   "metadata": {},
   "source": [
    "\n",
    "6. **Seriación de algoritmos simples:**\n",
    "   - Presenta una serie de pasos en un algoritmo y pide a los estudiantes que los ordenen en la secuencia correcta para lograr un objetivo específico.\n",
    "   - Pide a los estudiantes que creen algoritmos para tareas cotidianas simples, como hacer un sándwich, y luego intercambien sus algoritmos para que sus compañeros los sigan.\n",
    "\n",
    "Estas actividades ayudarán a los estudiantes a desarrollar su capacidad de observación, reconocimiento de patrones y pensamiento lógico, habilidades fundamentales en el pensamiento computacional. Pueden adaptarse según la edad y el nivel de habilidad de los estudiantes."
   ]
  },
  {
   "cell_type": "markdown",
   "metadata": {},
   "source": [
    "# Programación humana"
   ]
  },
  {
   "cell_type": "markdown",
   "metadata": {},
   "source": [
    "Una actividad práctica para desarrollar el pensamiento computacional en estudiantes de secundaria sin el uso de computadoras es el juego de \"Programación Humana\". Este juego fomenta la resolución de problemas, la lógica y la planificación de secuencias, habilidades esenciales en el pensamiento computacional. Aquí te dejo los pasos para llevar a cabo esta actividad:\n",
    "\n",
    "**Nombre de la actividad:** Programación Humana\n",
    "\n",
    "**Objetivo:** Introducir a los estudiantes al pensamiento lógico y a la planificación de secuencias, simular la programación de computadoras usando acciones humanas.\n",
    "\n",
    "**Materiales necesarios:** Un espacio lo suficientemente grande para moverse, tarjetas con acciones escritas (como \"Avanzar un paso\", \"Girar a la derecha 90 grados\", \"Girar a la izquierda 90 grados\", \"Saltar un paso hacia atrás\", etc.).\n",
    "\n",
    "**Pasos de la actividad:**\n",
    "\n",
    "1. **Explicación introductoria:** Comienza explicando a los estudiantes que van a jugar a ser \"computadoras humanas\". Su objetivo es moverse a través de un laberinto o un camino trazado en el suelo siguiendo instrucciones precisas.\n",
    "\n",
    "2. **Dibujo del laberinto:** Dibuja o marca un camino en el suelo, con obstáculos o giros, para que los estudiantes lo recorran. Este será el \"laberinto\" que deben atravesar.\n",
    "\n",
    "3. **Tarjetas de acciones:** Prepara las tarjetas con las acciones escritas. Cada tarjeta debe tener una acción que los estudiantes puedan llevar a cabo físicamente, como caminar un paso, girar a la derecha, girar a la izquierda, saltar hacia atrás, etc.\n",
    "\n",
    "4. **Instrucciones y equipos:** Divide a los estudiantes en equipos pequeños. Cada equipo tiene un \"programador\" y un \"robot\". El programador recibe las tarjetas de acciones y debe dar instrucciones al robot para que atraviese el laberinto.\n",
    "\n",
    "5. **Programación:** El programador selecciona una tarjeta de acción y se la muestra al robot sin revelarla a los demás. El robot debe ejecutar la acción en el laberinto. Por ejemplo, si la tarjeta dice \"Avanzar un paso\", el robot camina un paso adelante.\n",
    "\n",
    "6. **Evaluación:** Después de cada acción, los equipos evalúan si el robot está en la posición correcta o si ha chocado con un obstáculo. Si el robot cometió un error, deben ajustar su estrategia para corregirlo.\n",
    "\n",
    "7. **Iteración:** El proceso de selección de tarjetas, ejecución y evaluación se repite hasta que el robot llegue con éxito al final del laberinto.\n",
    "\n",
    "8. **Debriefing:** Al final del juego, reúne a los estudiantes para discutir los desafíos que enfrentaron, las estrategias que utilizaron y cómo se relaciona esta actividad con la programación de computadoras y el pensamiento lógico.\n",
    "\n",
    "Esta actividad fomenta el pensamiento computacional al enseñar a los estudiantes a planificar secuencias de acciones, a depurar problemas y a comprender la importancia de las instrucciones precisas. Además, es divertida y práctica, lo que la hace adecuada para estudiantes de secundaria."
   ]
  },
  {
   "cell_type": "markdown",
   "metadata": {},
   "source": [
    "### Fundamentación teórica de esta actividad\n",
    "\n",
    "Las competencias que se muestran como más eficaces en la codificación son la parte más visible de una forma de pensar que es útil no sólo en ese ámbito de actividades cognitivas, las que se utilizan en el desarrollo y en la creación de programas y de sistemas informáticos. En definitiva sostienen que hay una forma específica de pensar, de organizar ideas y representaciones, que es propicia y que favorece las competencias computacionales. Se trata de una forma de pensar que propicia el análisis y la relación de ideas para la organización y la representación lógica de procedimientos.\n",
    "Esas habilidades se ven favorecidas con ciertas actividades y con ciertos entornos de aprendizaje desde las primeras etapas. Se trata del desarrollo de un pensamiento específico, de un pensamiento computacional."
   ]
  },
  {
   "cell_type": "markdown",
   "metadata": {},
   "source": [
    "# V. Recursos y Herramientas para el Aula (20 minutos)  \n",
    "\n",
    "   - Introducción a herramientas y recursos disponibles para ayudar a los maestros a enseñar el pensamiento computacional.\n",
    "   - Recomendaciones de libros, sitios web y aplicaciones educativas.\n",
    "   - Preguntas y respuestas.\n"
   ]
  },
  {
   "cell_type": "markdown",
   "metadata": {},
   "source": [
    "Claro, aquí tienes una lista de recursos que pueden ayudar a los maestros de primaria, secundaria y universidad a desarrollar competencias computacionales en sus estudiantes:\n",
    "\n",
    "**Recursos para primaria:**\n",
    "\n",
    "1. **Code.org:** Ofrece planes de lecciones y actividades interactivas para enseñar conceptos básicos de programación a estudiantes de primaria. Tiene cursos diseñados para diferentes edades y niveles de habilidad.\n",
    "\n",
    "2. **ScratchJr:** Es una versión simplificada de Scratch diseñada para niños de primaria. Permite a los estudiantes crear proyectos de programación visual de manera intuitiva.\n",
    "\n",
    "3. **Tynker:** Proporciona lecciones y actividades divertidas para enseñar programación a niños. También ofrece recursos para que los maestros creen su plan de estudios.\n",
    "\n",
    "4. **Kodable:** Está centrado en la enseñanza de conceptos de programación en un formato de juego. Es adecuado para niños más jóvenes y presenta una introducción amigable a la programación.\n",
    "\n",
    "**Recursos para secundaria:**\n",
    "\n",
    "1. **Codecademy:** Ofrece cursos interactivos de programación en varios lenguajes, como Python, JavaScript y HTML/CSS. Es una excelente plataforma para que los estudiantes de secundaria adquieran habilidades de programación.\n",
    "\n",
    "2. **Coursera for Schools:** Algunas universidades y organizaciones ofrecen cursos en línea de alta calidad que los maestros pueden utilizar en sus clases de secundaria a través de Coursera for Schools.\n",
    "\n",
    "3. **Khan Academy:** Ofrece cursos de programación y ciencias de la computación, incluido un curso de introducción a la programación en Python.\n",
    "\n",
    "4. **CS Unplugged:** Proporciona actividades y juegos sin computadoras que enseñan conceptos fundamentales de ciencias de la computación, como algoritmos y estructuras de datos.\n",
    "\n",
    "**Recursos para universidades:**\n",
    "\n",
    "1. **edX:** Ofrece una amplia gama de cursos de nivel universitario en ciencias de la computación de instituciones de renombre. Es una excelente plataforma para maestros universitarios y estudiantes avanzados.\n",
    "\n",
    "2. **Coursera:** Al igual que edX, Coursera ofrece cursos en línea de alta calidad en ciencias de la computación y programación de universidades de todo el mundo.\n",
    "\n",
    "3. **MIT OpenCourseWare:** El Instituto Tecnológico de Massachusetts (MIT) ofrece acceso gratuito a sus cursos en línea, incluidos los de ciencias de la computación.\n",
    "\n",
    "4. **GitHub Education:** Proporciona recursos para que los maestros y estudiantes trabajen juntos en proyectos de código abierto, lo que fomenta la colaboración y el aprendizaje práctico.\n",
    "\n",
    "5. **Project Euler:** Ofrece una serie de desafíos de matemáticas y programación que son adecuados para estudiantes universitarios que desean mejorar sus habilidades en algoritmos y matemáticas computacionales.\n",
    "\n",
    "Recuerda que, además de utilizar estos recursos en el aula, es importante fomentar proyectos prácticos y desafiantes para que los estudiantes apliquen lo que aprenden. También es esencial adaptar los recursos a las necesidades y niveles de habilidad de los estudiantes."
   ]
  },
  {
   "cell_type": "markdown",
   "metadata": {},
   "source": [
    "# VI. Planificación para la Implementación (15 minutos)\n",
    "\n",
    "   - Discusión sobre cómo integrar actividades de pensamiento computacional en el plan de estudios existente.\n",
    "   - Brainstorming de ideas para proyectos o lecciones futuras."
   ]
  },
  {
   "cell_type": "markdown",
   "metadata": {},
   "source": [
    "Tradicionalmente se ha hablado de aprendizajes o de destrezas concretas: \n",
    "* Seriación,  \n",
    "* discriminación de objetos por propiedades, en las primeras etapas, y en las del\n",
    "pensamiento abstracto o para la resolución de problemas se ha hablado de la\n",
    "* modularización, \n",
    "* de análisis descendente, \n",
    "* de análisis ascendente, \n",
    "* de recursividad,… \n",
    "* \n",
    "Para lo primero hay multitud de recursos, juegos y actividades que los educadores infantiles\n",
    "conocen bien.  \n",
    "\n",
    "Hay por tanto multitud de áreas del aprendizaje que conviene explorar e investigar en esta nueva frontera. Y en la planificación de los curriculos tendrá que plantearse esta dicotomía: \n",
    "* Enseñar a programar con dificultad progresiva (si se quiere incluso de forma\n",
    "lúdica o con juegos) o \n",
    "* favorecer este nuevo tipo de pensamiento. \n",
    "\n",
    "Obviamente no hace falta decir que nuestra propuesta es la segunda, que además incluye a la primera."
   ]
  },
  {
   "cell_type": "markdown",
   "metadata": {},
   "source": [
    "O bien tal como se dice en el informe Computing our future Computer\n",
    "programmingand coding – Priorities, school curricula and initiatives across Europe:\n",
    "La codificación (coding) es cada vez más una competencia clave que tendrá que\n",
    "ser adquirida por todos los jóvenes estudiantes y cada vez más por los\n",
    "trabajadores en una amplia gama de actividades industriales y profesiones. La\n",
    "codificación es parte del razonamiento lógico y representa una de las habilidades\n",
    "clave que forma parte de lo que ahora se llaman “habilidades del siglo 21″."
   ]
  },
  {
   "cell_type": "markdown",
   "metadata": {},
   "source": [
    "# Grafico de precipitación en Urabá ayer"
   ]
  },
  {
   "cell_type": "code",
   "execution_count": 6,
   "metadata": {},
   "outputs": [
    {
     "data": {
      "text/html": [
       "<div>\n",
       "<style scoped>\n",
       "    .dataframe tbody tr th:only-of-type {\n",
       "        vertical-align: middle;\n",
       "    }\n",
       "\n",
       "    .dataframe tbody tr th {\n",
       "        vertical-align: top;\n",
       "    }\n",
       "\n",
       "    .dataframe thead th {\n",
       "        text-align: right;\n",
       "    }\n",
       "</style>\n",
       "<table border=\"1\" class=\"dataframe\">\n",
       "  <thead>\n",
       "    <tr style=\"text-align: right;\">\n",
       "      <th></th>\n",
       "      <th>Unnamed: 0</th>\n",
       "      <th>fecha</th>\n",
       "      <th>nombre_completo</th>\n",
       "      <th>estado</th>\n",
       "      <th>precipitacion</th>\n",
       "      <th>temperatura</th>\n",
       "    </tr>\n",
       "  </thead>\n",
       "  <tbody>\n",
       "    <tr>\n",
       "      <th>0</th>\n",
       "      <td>0</td>\n",
       "      <td>2023-09-24 00:00:00</td>\n",
       "      <td>UdeA Turbo</td>\n",
       "      <td>Habilitada</td>\n",
       "      <td>0.0</td>\n",
       "      <td>25.33333</td>\n",
       "    </tr>\n",
       "    <tr>\n",
       "      <th>1</th>\n",
       "      <td>1</td>\n",
       "      <td>2023-09-24 00:01:00</td>\n",
       "      <td>UdeA Turbo</td>\n",
       "      <td>Habilitada</td>\n",
       "      <td>0.0</td>\n",
       "      <td>25.27778</td>\n",
       "    </tr>\n",
       "    <tr>\n",
       "      <th>2</th>\n",
       "      <td>2</td>\n",
       "      <td>2023-09-24 00:02:00</td>\n",
       "      <td>UdeA Turbo</td>\n",
       "      <td>Habilitada</td>\n",
       "      <td>0.0</td>\n",
       "      <td>25.27778</td>\n",
       "    </tr>\n",
       "    <tr>\n",
       "      <th>3</th>\n",
       "      <td>3</td>\n",
       "      <td>2023-09-24 00:03:00</td>\n",
       "      <td>UdeA Turbo</td>\n",
       "      <td>Habilitada</td>\n",
       "      <td>0.0</td>\n",
       "      <td>25.27778</td>\n",
       "    </tr>\n",
       "    <tr>\n",
       "      <th>4</th>\n",
       "      <td>4</td>\n",
       "      <td>2023-09-24 00:04:00</td>\n",
       "      <td>UdeA Turbo</td>\n",
       "      <td>Habilitada</td>\n",
       "      <td>0.0</td>\n",
       "      <td>25.27778</td>\n",
       "    </tr>\n",
       "    <tr>\n",
       "      <th>...</th>\n",
       "      <td>...</td>\n",
       "      <td>...</td>\n",
       "      <td>...</td>\n",
       "      <td>...</td>\n",
       "      <td>...</td>\n",
       "      <td>...</td>\n",
       "    </tr>\n",
       "    <tr>\n",
       "      <th>1436</th>\n",
       "      <td>1436</td>\n",
       "      <td>2023-09-24 23:56:00</td>\n",
       "      <td>UdeA Turbo</td>\n",
       "      <td>Habilitada</td>\n",
       "      <td>0.0</td>\n",
       "      <td>27.61111</td>\n",
       "    </tr>\n",
       "    <tr>\n",
       "      <th>1437</th>\n",
       "      <td>1437</td>\n",
       "      <td>2023-09-24 23:57:00</td>\n",
       "      <td>UdeA Turbo</td>\n",
       "      <td>Habilitada</td>\n",
       "      <td>0.0</td>\n",
       "      <td>27.61111</td>\n",
       "    </tr>\n",
       "    <tr>\n",
       "      <th>1438</th>\n",
       "      <td>1438</td>\n",
       "      <td>2023-09-24 23:58:00</td>\n",
       "      <td>UdeA Turbo</td>\n",
       "      <td>Habilitada</td>\n",
       "      <td>0.0</td>\n",
       "      <td>27.61111</td>\n",
       "    </tr>\n",
       "    <tr>\n",
       "      <th>1439</th>\n",
       "      <td>1439</td>\n",
       "      <td>2023-09-24 23:59:00</td>\n",
       "      <td>UdeA Turbo</td>\n",
       "      <td>Habilitada</td>\n",
       "      <td>0.0</td>\n",
       "      <td>27.61111</td>\n",
       "    </tr>\n",
       "    <tr>\n",
       "      <th>1440</th>\n",
       "      <td>1440</td>\n",
       "      <td>2023-09-25 00:00:00</td>\n",
       "      <td>UdeA Turbo</td>\n",
       "      <td>Habilitada</td>\n",
       "      <td>0.0</td>\n",
       "      <td>27.61111</td>\n",
       "    </tr>\n",
       "  </tbody>\n",
       "</table>\n",
       "<p>1441 rows × 6 columns</p>\n",
       "</div>"
      ],
      "text/plain": [
       "      Unnamed: 0                fecha nombre_completo      estado  \\\n",
       "0              0  2023-09-24 00:00:00      UdeA Turbo  Habilitada   \n",
       "1              1  2023-09-24 00:01:00      UdeA Turbo  Habilitada   \n",
       "2              2  2023-09-24 00:02:00      UdeA Turbo  Habilitada   \n",
       "3              3  2023-09-24 00:03:00      UdeA Turbo  Habilitada   \n",
       "4              4  2023-09-24 00:04:00      UdeA Turbo  Habilitada   \n",
       "...          ...                  ...             ...         ...   \n",
       "1436        1436  2023-09-24 23:56:00      UdeA Turbo  Habilitada   \n",
       "1437        1437  2023-09-24 23:57:00      UdeA Turbo  Habilitada   \n",
       "1438        1438  2023-09-24 23:58:00      UdeA Turbo  Habilitada   \n",
       "1439        1439  2023-09-24 23:59:00      UdeA Turbo  Habilitada   \n",
       "1440        1440  2023-09-25 00:00:00      UdeA Turbo  Habilitada   \n",
       "\n",
       "      precipitacion  temperatura  \n",
       "0               0.0     25.33333  \n",
       "1               0.0     25.27778  \n",
       "2               0.0     25.27778  \n",
       "3               0.0     25.27778  \n",
       "4               0.0     25.27778  \n",
       "...             ...          ...  \n",
       "1436            0.0     27.61111  \n",
       "1437            0.0     27.61111  \n",
       "1438            0.0     27.61111  \n",
       "1439            0.0     27.61111  \n",
       "1440            0.0     27.61111  \n",
       "\n",
       "[1441 rows x 6 columns]"
      ]
     },
     "execution_count": 6,
     "metadata": {},
     "output_type": "execute_result"
    }
   ],
   "source": [
    "import pandas as pd \n",
    "\n",
    "temperatura_uraba = pd.read_csv('marco_2023-09-25_17_05_53.csv') \n",
    "\n",
    "temperatura_uraba"
   ]
  },
  {
   "cell_type": "code",
   "execution_count": 8,
   "metadata": {},
   "outputs": [
    {
     "data": {
      "text/plain": [
       "[<matplotlib.lines.Line2D at 0x7fb19d2c9840>]"
      ]
     },
     "execution_count": 8,
     "metadata": {},
     "output_type": "execute_result"
    },
    {
     "data": {
      "image/png": "[encoded data removed]",
      "text/plain": [
       "<Figure size 640x480 with 1 Axes>"
      ]
     },
     "metadata": {},
     "output_type": "display_data"
    }
   ],
   "source": [
    "import matplotlib.pyplot as plt \n",
    "\n",
    "plt.plot(temperatura_uraba.temperatura)"
   ]
  },
  {
   "cell_type": "markdown",
   "metadata": {},
   "source": [
    "## Referentes\n",
    "\n",
    "* [Los Derechao Básicos de Aprendizaje:](https://github.com/marco-canas/seminario_didactica_aritmetica/blob/main/referentes/3_DBA_Matematicas.pdf) \n",
    "\n",
    "* [Zapata-Ros, M. (2015). Pensamiento computacional: Una nueva alfabetización digital. Revista de Educación a Distancia (RED), (46).](https://revistas.um.es/red/article/view/240321) \n",
    "\n",
    "* [Revista de educación a distancia](https://www.um.es/ead/red/46/)\n",
    "\n",
    "\n"
   ]
  },
  {
   "cell_type": "code",
   "execution_count": null,
   "metadata": {},
   "outputs": [],
   "source": []
  },
  {
   "cell_type": "code",
   "execution_count": null,
   "metadata": {},
   "outputs": [],
   "source": []
  },
  {
   "cell_type": "code",
   "execution_count": null,
   "metadata": {},
   "outputs": [],
   "source": []
  },
  {
   "cell_type": "code",
   "execution_count": null,
   "metadata": {},
   "outputs": [],
   "source": []
  },
  {
   "cell_type": "code",
   "execution_count": null,
   "metadata": {},
   "outputs": [],
   "source": []
  },
  {
   "cell_type": "code",
   "execution_count": null,
   "metadata": {},
   "outputs": [],
   "source": []
  },
  {
   "cell_type": "code",
   "execution_count": null,
   "metadata": {},
   "outputs": [],
   "source": []
  },
  {
   "cell_type": "markdown",
   "metadata": {},
   "source": []
  }
 ],
 "metadata": {
  "kernelspec": {
   "display_name": ".venv",
   "language": "python",
   "name": "python3"
  },
  "language_info": {
   "codemirror_mode": {
    "name": "ipython",
    "version": 3
   },
   "file_extension": ".py",
   "mimetype": "text/x-python",
   "name": "python",
   "nbconvert_exporter": "python",
   "pygments_lexer": "ipython3",
   "version": "3.10.12"
  },
  "orig_nbformat": 4
 },
 "nbformat": 4,
 "nbformat_minor": 2
}
